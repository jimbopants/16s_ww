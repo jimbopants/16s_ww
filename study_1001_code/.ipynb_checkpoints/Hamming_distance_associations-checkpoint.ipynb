{
 "metadata": {
  "name": "",
  "signature": "sha256:c5eca7be54e4f342eb4d81b4309334a4ec72eaefce9a8e475cc9b754957ac92d"
 },
 "nbformat": 3,
 "nbformat_minor": 0,
 "worksheets": [
  {
   "cells": [
    {
     "cell_type": "code",
     "collapsed": false,
     "input": [
      "# Imports\n",
      "from study_1001_networks import open_saved\n",
      "import numpy as np\n",
      "import pandas as pd\n",
      "\n",
      "(path, data, raw_data, edge_list, node_list, meta_data, connected,\n",
      "full_data, filtered_edges) = open_saved()\n",
      "\n",
      "\n"
     ],
     "language": "python",
     "metadata": {},
     "outputs": [],
     "prompt_number": 6
    },
    {
     "cell_type": "code",
     "collapsed": false,
     "input": [
      "# Load files\n",
      "f = open('/Users/jimbo/qiime/study_1001/output/dn_otu/rep_set/study_1001_seqs_rep_set.fasta', 'rb')\n",
      "sequences = f.read()\n",
      "sequences = sequences.split('\\n')\n",
      "f.close()\n",
      "\n",
      "\n",
      "# Extract sequence data I need\n",
      "seq_IDs = [ s.split(' ')[0][1:] for s in sequences[::2]]  # Takes just the \"denovo#\" section of the sequence names (even rows)\n",
      "seq_strings = [s for s in sequences[1::2]]\n",
      "seq_IDs = seq_IDs[:-1]\n",
      "\n",
      "sequences = dict(zip(seq_IDs, seq_strings))  # Dict of format{ denovo#: 'AAAAT...'}\n",
      "\n",
      "\n",
      "# Extract name data I need.\n",
      "g = open('/Users/jimbo/qiime/study_1001/output/dn_otu/uclust_assigned_taxonomy/study_1001_seqs_rep_set_tax_assignments.txt','rb')\n",
      "seq_names = g.read()\n",
      "seq_names = seq_names.split('\\n')\n",
      "g.close()\n",
      "\n",
      "# split at tabs and remove any rows that do not conform to data pattern\n",
      "seq_name_split = [s.split('\\t') for s in seq_names]\n",
      "seq_name_split = [x for x in seq_name_split if len(x) >1]    \n",
      "\n",
      "# Get phyla strings and strip species section. \n",
      "phyla = [ row[1] for row in seq_name_split ]\n",
      "phyla = [string.split('; s')[0] for string in phyla ]\n",
      "\n",
      "\n",
      "# Create dictionary of format {denovo# : 'k__p__c__...'}\n",
      "names = [ row[0] for row in seq_name_split ]\n",
      "phyla_OTU_IDs = dict(zip(names, phyla))  \n",
      "\n",
      "print len(phyla_OTU_IDs)\n",
      "print len(phyla_OTU_IDs.values())\n",
      "\n",
      "\n"
     ],
     "language": "python",
     "metadata": {},
     "outputs": [
      {
       "output_type": "stream",
       "stream": "stdout",
       "text": [
        "63135\n",
        "63135\n"
       ]
      }
     ],
     "prompt_number": 64
    },
    {
     "cell_type": "code",
     "collapsed": false,
     "input": [
      "# Let's refactor all of the shitty ways I'm doing taxa string splitting\n",
      "#and just have one way to do it that makes esnse\n",
      "\n",
      "df = pd.DataFrame({'sequence' : seq_strings, 'seq_IDs' : seq_IDs })\n",
      "print df\n",
      "\n",
      "\n",
      "for key, val in phyla_OTU_IDs.iteritems():\n",
      "    df.loc[df.seq_IDs==key, 'taxa'] = val\n",
      "\n",
      "\n",
      "\n",
      "\n",
      "print df\n",
      "\n",
      "\n",
      "def taxa_string_split(df, name_column, columns = ['name', \"kingdom\", \"phylum\", \"class\", \n",
      "                                                  \"order\", \"family\",\"genus\"], depth=6):\n",
      "    \n",
      "    \"\"\" This assumes you have a dataframe with one (or more) name columns. \n",
      "        By default it splits a taxa string in the QIIME format:\n",
      "        \"k__Bacteria; p__Verrucomicrobia; c__Opitutae; o__Opitutales; f__Opitutaceae;\n",
      "        g__Opitutus; s__\"\n",
      "        into individual columns to make comparisons at many different phylogenetic levels possible.\n",
      "        It accepts different column names and taxonomic naming depths. \"\"\"\n",
      "    \n",
      "    # I want to add columns in place to existing dataframe by splitting strings and assigning\n",
      "    # positions in the resulting list to new columns\n",
      "    \n",
      "    #df[columns[1]] = df[name_column]"
     ],
     "language": "python",
     "metadata": {},
     "outputs": [
      {
       "output_type": "stream",
       "stream": "stdout",
       "text": [
        "           seq_IDs                                           sequence\n",
        "0          denovo0  TACGTAGGATGCAAGCGTTGTCCGGAATTATTGGGCGTAAAGAGCG...\n",
        "1          denovo1  GACGAACCGTCCGAACGTTATTCGGAATCACTGGGCTTAAAGCGCG...\n",
        "2         denovo10  TACGAAGGGGGCTAGCGTTGTTCGGAATTATTGGGCGTAAAGCGCG...\n",
        "3        denovo100  TACAGAGGGTGCAAGCGTTAATCGGAATTACTGGGCGTAAAGCGCG...\n",
        "4       denovo1000  TACGAAGGGGGCAAGCGTTGTTCGGAATTACTGGGCGTAAAGCGCA...\n",
        "5      denovo10000  TACAGAGGTCCCGAGCGTTGTTCGGATTCACTGGGCGTAAAGGGTG...\n",
        "6      denovo10001  TACGAAGGGGGCGAGCGTTGTTCGGAATTACTGGGCTTAAAGCGTA...\n",
        "7      denovo10002  TACGTAGGGTGCGAGCGTTAATCGGAATCATTGGGCGTAAAGGGTG...\n",
        "8      denovo10003  TACGTAGGGAGCGAGCGTTGTCCGGAATTACTGGGCGTAAAGGGCG...\n",
        "9      denovo10004  TACGTAGGGCGCGAGCGTTGTCCGGAATTATTGGGCGTAAAGCGCG...\n",
        "10     denovo10005  TACGAAGGGAGCTAGCGTTGTTCGGAATCACTGGGCGTAAAGCGCG...\n",
        "11     denovo10006  TACGTAGGGTGCAAGCGTTAATCGGAATTACTGGGCGTAAAGCGCA...\n",
        "12     denovo10007  TACGGAGGGTGCAAGCGTTATCCGGATTTACTGGGCGTAAAGGGCG...\n",
        "13     denovo10008  TACGTAGGTGGCAAGCGTTGTCCGGAATTATTGGGCGTAAAGCGCG...\n",
        "14     denovo10009  TACGAAGGGTGCAAGCGTTACTCGGAATTACTGGGCGTAAAGCGTG...\n",
        "15      denovo1001  TACGTAGGGCGCAAGCGTTGTCCGGAATTATTGGGCGTAAAGCGCG...\n",
        "16     denovo10010  TACGGAGGGTGCGAGCGTTGTTCGGAATTATTGGGCGTAAAGCGCA...\n",
        "17     denovo10011  TACGAAGGGTGCTAGCGTTATTCGGAATCACTGGGCGTGAAGCGCA...\n",
        "18     denovo10012  TACGGAGGGTGCGAGCGTTGTCCGGAATCACTGGGCGTAAAGGGCG...\n",
        "19     denovo10013  TACGGAGGGAGCTAGCGTTGTTCGGAATTACTGGGCGTAAAGCGCG...\n",
        "20     denovo10014  TACGGAGGGAGCGAGCGTTGTTCGGAATTACTGGGCGTAAAGCGTG...\n",
        "21     denovo10015  TACGGAGGGTGCAAGCGTTATCCGGATTCACTGGGTTTAAAGGGCG...\n",
        "22     denovo10016  TACGAAGGGTGCAAGCGTTACTCGGAATTACTGGGCGTAAAGCGTG...\n",
        "23     denovo10017  TACGTAGGGAGCAAGCGTTGCCCGGAATTACTGGGCGTAAAGAGCT...\n",
        "24     denovo10018  TACGGAGGGTGCAAGCGTTATCCGGATTCACTGGGTTTAAAGGGTG...\n",
        "25     denovo10019  TACGAAGGGTGCAAGCGTTACTCGGAATTACTGGGCGTAAAGCGTG...\n",
        "26      denovo1002  TACGGAGGGGGCTAGCGTTGTTCGGAATTACTGGGCGGCAAGAGCG...\n",
        "27     denovo10020  TACGTAGGTGGCAAGCGTTGTCCGGATTTATTGGGCTTAAAGCGCT...\n",
        "28     denovo10021  TACGTAGGGTCCGAGCGTTGTCCGGAATTATTGGGCGTAAAGGGCT...\n",
        "29     denovo10022  AACGTAGGACGCAAACGTTATCCGGAATTACTGGGCGTAAAGGGCG...\n",
        "...            ...                                                ...\n",
        "63105   denovo9972  GACGAACCGAGCGAACGTTGTTCGGAATCACTGGGCTTAAAGGGCG...\n",
        "63106   denovo9973  TACGGAGGGTGCGAGCGTTAATCGGAATTACTGGGCGTAAAGCGCG...\n",
        "63107   denovo9974  TACGTAGGGTGCAAGCGTTAATCGGAATTACTGGGCGTAAAGCGTG...\n",
        "63108   denovo9975  TACGGAGGGGGCTAGCGTTGTCCGGAGTCACTGGGCGTAAAGCGCG...\n",
        "63109   denovo9976  TACGTAGGGTGCAAGCGTTAATCGGAATTACTGGGCGTAAAGCGCG...\n",
        "63110   denovo9977  TACGGAGGGTGCGAGCGTTAATCGGAATTACTGGGCGTAAAGCGCG...\n",
        "63111   denovo9978  TACAGAGGGTGCGAGCGTTAATCGGAGTAACTGGGCGTAAAGGGCG...\n",
        "63112   denovo9979  TACAGAGGGGGCAAGCGTTGTTCGGAATTACTGGGCGTAAAGGGCG...\n",
        "63113    denovo998  TACGTAGGGTGCAAGCGTTAATCGGAATTACTGGGCGTAAAGCGTG...\n",
        "63114   denovo9980  TACGTAGGGAGCAAGCGTTGTTCGGAATTACTGGGCGTAAAGGGAG...\n",
        "63115   denovo9981  TACGAAGGGGGCTAGCGTTGCTCGGAATTACTGGGCGTAAAGGGCG...\n",
        "63116   denovo9982  TACAGAGGGTGCAAGCGTTAATCGGAATTACTGGGCGTAAAGGGCG...\n",
        "63117   denovo9983  GACAGAGGGTGCAAACGTTGTTCGGAATTACTGGGCGTAAAGCGCG...\n",
        "63118   denovo9984  TACGGAGGGTGCAAGCGTTATCCGGAATCACTGGGTTTAAAGGGTG...\n",
        "63119   denovo9985  TACAGAGGGTGCAAGCGTTAATCGGAGTTACTGGGCGTAAAGGGCG...\n",
        "63120   denovo9986  TACAGAGGGTGCAAGCGTTAATCGGATTTACTGGGCGTAAAGCGTG...\n",
        "63121   denovo9987  TACGAAGGGGGCTAGCGTTGTTCGGAATTACTGGGCGTAAAGCGCA...\n",
        "63122   denovo9988  TACGTAGGGTGCAGGCGTTAATCGGAATTACTGGGCGTAAAGCGCG...\n",
        "63123   denovo9989  TACGGGGGGGGCAAGCGTTGTTCGGAATTACTGGGCGTAAAGGGCG...\n",
        "63124    denovo999  TACAGAGGGTGCAAGCGTTAATCGGAATTACTGGGCGCAAAGCGCG...\n",
        "63125   denovo9990  TACAGAGGTCTCAAGCGTTGTTCGGATTCATTGGGCGTAAAGCGCG...\n",
        "63126   denovo9991  TACGTAGGGCGCAAGCGTTGTCCGGAATTATTGGGCGTAAAGGGCG...\n",
        "63127   denovo9992  TACAGAGGGTGCGAGCGTTAATCGGAATTACTGGGCGTATAGGGTG...\n",
        "63128   denovo9993  TACGAAGGGTGCAAGCGTTACTCGGAATTACTGGGCGTAAAGCGTG...\n",
        "63129   denovo9994  TACAGAGGGTGCAAGCGTTAATCGGAATTACTGGGCGTAAAGCGCG...\n",
        "63130   denovo9995  TACAGAGGGTGCGAGCGTTAATCGGAATTACTGGGCGTAAAGGGTG...\n",
        "63131   denovo9996  TACGGAGGATCCGAGCGTTATCCGGAATTATTGGGTTTAAAGGGTG...\n",
        "63132   denovo9997  TACGTAGGTGGCAAGCGTTGTCCGGAATTATTGGGCGTAAAGCGCG...\n",
        "63133   denovo9998  TACAGAGGGTGCAAGCGTTGTTCGGAATTATTGGGCGTAAAGCGCG...\n",
        "63134   denovo9999  AAAGCGGGTGACGTGATGTTTATCCCGAAAGGCTCCAGTATCGAAT...\n",
        "\n",
        "[63135 rows x 2 columns]\n",
        "denovo43273\n",
        "denovo5395\n",
        "denovo22216"
       ]
      },
      {
       "output_type": "stream",
       "stream": "stdout",
       "text": [
        "\n",
        "denovo44859\n",
        "denovo61720\n",
        "denovo5133"
       ]
      },
      {
       "output_type": "stream",
       "stream": "stdout",
       "text": [
        "\n",
        "denovo43270\n",
        "denovo52461\n",
        "denovo12511"
       ]
      },
      {
       "output_type": "stream",
       "stream": "stdout",
       "text": [
        "\n",
        "denovo12510\n",
        "denovo12513\n",
        "denovo12512"
       ]
      },
      {
       "output_type": "stream",
       "stream": "stdout",
       "text": [
        "\n",
        "denovo12515\n",
        "denovo12514\n",
        "denovo12517"
       ]
      },
      {
       "output_type": "stream",
       "stream": "stdout",
       "text": [
        "\n",
        "denovo12516\n",
        "denovo12519\n",
        "denovo12518\n",
        "denovo41478"
       ]
      },
      {
       "output_type": "stream",
       "stream": "stdout",
       "text": [
        "\n",
        "denovo41479\n",
        "denovo13323\n",
        "denovo43271\n",
        "denovo35426"
       ]
      },
      {
       "output_type": "stream",
       "stream": "stdout",
       "text": [
        "\n",
        "denovo35427\n",
        "denovo35424\n",
        "denovo35425\n",
        "denovo35422"
       ]
      },
      {
       "output_type": "stream",
       "stream": "stdout",
       "text": [
        "\n",
        "denovo35423\n",
        "denovo35420\n",
        "denovo60984\n",
        "denovo60989"
       ]
      },
      {
       "output_type": "stream",
       "stream": "stdout",
       "text": [
        "\n",
        "denovo60988\n",
        "denovo35428\n",
        "denovo35429\n",
        "denovo58971"
       ]
      },
      {
       "output_type": "stream",
       "stream": "stdout",
       "text": [
        "\n",
        "denovo58970\n",
        "denovo58973\n",
        "denovo58972\n",
        "denovo58975"
       ]
      },
      {
       "output_type": "stream",
       "stream": "stdout",
       "text": [
        "\n",
        "denovo58974\n",
        "denovo58977\n",
        "denovo58976\n",
        "denovo58979"
       ]
      },
      {
       "output_type": "stream",
       "stream": "stdout",
       "text": [
        "\n",
        "denovo58978\n",
        "denovo24391\n",
        "denovo4723\n",
        "denovo46242"
       ]
      },
      {
       "output_type": "stream",
       "stream": "stdout",
       "text": [
        "\n",
        "denovo23160\n",
        "denovo23161\n",
        "denovo23162\n",
        "denovo23163"
       ]
      },
      {
       "output_type": "stream",
       "stream": "stdout",
       "text": [
        "\n",
        "denovo23164\n",
        "denovo23165\n",
        "denovo23166\n",
        "denovo23167"
       ]
      },
      {
       "output_type": "stream",
       "stream": "stdout",
       "text": [
        "\n",
        "denovo23168\n",
        "denovo23169\n",
        "denovo46245\n",
        "denovo62585"
       ]
      },
      {
       "output_type": "stream",
       "stream": "stdout",
       "text": [
        "\n",
        "denovo62584\n",
        "denovo62587\n",
        "denovo62586\n",
        "denovo62581"
       ]
      },
      {
       "output_type": "stream",
       "stream": "stdout",
       "text": [
        "\n",
        "denovo62580\n",
        "denovo15989\n",
        "denovo15988\n",
        "denovo15987"
       ]
      },
      {
       "output_type": "stream",
       "stream": "stdout",
       "text": [
        "\n",
        "denovo15986\n",
        "denovo15985\n",
        "denovo15984\n",
        "denovo15983"
       ]
      },
      {
       "output_type": "stream",
       "stream": "stdout",
       "text": [
        "\n",
        "denovo15982\n",
        "denovo15981\n",
        "denovo15980\n",
        "denovo1772"
       ]
      },
      {
       "output_type": "stream",
       "stream": "stdout",
       "text": [
        "\n",
        "denovo1773\n",
        "denovo1770\n",
        "denovo1771\n",
        "denovo1776"
       ]
      },
      {
       "output_type": "stream",
       "stream": "stdout",
       "text": [
        "\n",
        "denovo1777\n",
        "denovo1774\n",
        "denovo1775\n",
        "denovo1778"
       ]
      },
      {
       "output_type": "stream",
       "stream": "stdout",
       "text": [
        "\n",
        "denovo1779\n",
        "denovo61588\n",
        "denovo61589\n",
        "denovo54295"
       ]
      },
      {
       "output_type": "stream",
       "stream": "stdout",
       "text": [
        "\n",
        "denovo61580\n",
        "denovo61581\n",
        "denovo61582"
       ]
      },
      {
       "output_type": "stream",
       "stream": "stdout",
       "text": [
        "\n",
        "denovo61583\n",
        "denovo61584\n",
        "denovo61585"
       ]
      },
      {
       "output_type": "stream",
       "stream": "stdout",
       "text": [
        "\n",
        "denovo61586\n",
        "denovo61587\n",
        "denovo36733"
       ]
      },
      {
       "output_type": "stream",
       "stream": "stdout",
       "text": [
        "\n",
        "denovo36732\n",
        "denovo36731\n",
        "denovo36730\n",
        "denovo36737"
       ]
      },
      {
       "output_type": "stream",
       "stream": "stdout",
       "text": [
        "\n",
        "denovo36736\n",
        "denovo36735\n",
        "denovo36734\n",
        "denovo36739"
       ]
      },
      {
       "output_type": "stream",
       "stream": "stdout",
       "text": [
        "\n",
        "denovo36738\n",
        "denovo15144\n",
        "denovo19384\n",
        "denovo35282"
       ]
      },
      {
       "output_type": "stream",
       "stream": "stdout",
       "text": [
        "\n",
        "denovo35283\n",
        "denovo35280\n",
        "denovo35281"
       ]
      },
      {
       "output_type": "stream",
       "stream": "stdout",
       "text": [
        "\n",
        "denovo35286\n",
        "denovo35287\n",
        "denovo35284"
       ]
      },
      {
       "output_type": "stream",
       "stream": "stdout",
       "text": [
        "\n",
        "denovo35285\n",
        "denovo34865\n",
        "denovo35288\n",
        "denovo35289"
       ]
      },
      {
       "output_type": "stream",
       "stream": "stdout",
       "text": [
        "\n",
        "denovo34864\n",
        "denovo19654\n",
        "denovo34867"
       ]
      },
      {
       "output_type": "stream",
       "stream": "stdout",
       "text": [
        "\n",
        "denovo34866\n",
        "denovo34775\n",
        "denovo34774\n",
        "denovo34777"
       ]
      },
      {
       "output_type": "stream",
       "stream": "stdout",
       "text": [
        "\n",
        "denovo34776\n",
        "denovo34771\n",
        "denovo34770\n",
        "denovo34773"
       ]
      },
      {
       "output_type": "stream",
       "stream": "stdout",
       "text": [
        "\n",
        "denovo34772\n",
        "denovo61638\n",
        "denovo61639\n",
        "denovo34779"
       ]
      },
      {
       "output_type": "stream",
       "stream": "stdout",
       "text": [
        "\n",
        "denovo34778\n",
        "denovo38258\n",
        "denovo38259\n",
        "denovo36885"
       ]
      },
      {
       "output_type": "stream",
       "stream": "stdout",
       "text": [
        "\n",
        "denovo36884\n",
        "denovo36887\n",
        "denovo36886\n",
        "denovo36881"
       ]
      },
      {
       "output_type": "stream",
       "stream": "stdout",
       "text": [
        "\n",
        "denovo36880\n",
        "denovo36883\n",
        "denovo36882"
       ]
      },
      {
       "output_type": "stream",
       "stream": "stdout",
       "text": [
        "\n",
        "denovo36889\n",
        "denovo36888\n",
        "denovo51165"
       ]
      },
      {
       "output_type": "stream",
       "stream": "stdout",
       "text": [
        "\n",
        "denovo51164\n",
        "denovo51167\n",
        "denovo51166"
       ]
      },
      {
       "output_type": "stream",
       "stream": "stdout",
       "text": [
        "\n",
        "denovo51161\n",
        "denovo51160\n",
        "denovo16988\n",
        "denovo16989"
       ]
      },
      {
       "output_type": "stream",
       "stream": "stdout",
       "text": [
        "\n",
        "denovo16986\n",
        "denovo16987\n",
        "denovo16984"
       ]
      },
      {
       "output_type": "stream",
       "stream": "stdout",
       "text": [
        "\n",
        "denovo16985\n",
        "denovo16982\n",
        "denovo16983\n",
        "denovo16980"
       ]
      },
      {
       "output_type": "stream",
       "stream": "stdout",
       "text": [
        "\n",
        "denovo16981\n",
        "denovo34489\n",
        "denovo34488"
       ]
      },
      {
       "output_type": "stream",
       "stream": "stdout",
       "text": [
        "\n",
        "denovo34487\n",
        "denovo34486\n",
        "denovo34485\n",
        "denovo34484"
       ]
      },
      {
       "output_type": "stream",
       "stream": "stdout",
       "text": [
        "\n",
        "denovo34483\n",
        "denovo34482\n",
        "denovo34481\n",
        "denovo34480"
       ]
      },
      {
       "output_type": "stream",
       "stream": "stdout",
       "text": [
        "\n",
        "denovo8447\n",
        "denovo41472\n",
        "denovo8445"
       ]
      },
      {
       "output_type": "stream",
       "stream": "stdout",
       "text": [
        "\n",
        "denovo8444\n",
        "denovo8443\n",
        "denovo8442"
       ]
      },
      {
       "output_type": "stream",
       "stream": "stdout",
       "text": [
        "\n",
        "denovo8441\n",
        "denovo41473\n",
        "denovo39274\n",
        "denovo41470"
       ]
      },
      {
       "output_type": "stream",
       "stream": "stdout",
       "text": [
        "\n",
        "denovo8449\n",
        "denovo8448\n",
        "denovo24309"
       ]
      },
      {
       "output_type": "stream",
       "stream": "stdout",
       "text": [
        "\n",
        "denovo24308\n",
        "denovo41471\n",
        "denovo15148"
       ]
      },
      {
       "output_type": "stream",
       "stream": "stdout",
       "text": [
        "\n",
        "denovo29159\n",
        "denovo29158\n",
        "denovo29157\n",
        "denovo24300"
       ]
      },
      {
       "output_type": "stream",
       "stream": "stdout",
       "text": [
        "\n",
        "denovo24303\n",
        "denovo24302\n",
        "denovo24305\n",
        "denovo29152"
       ]
      },
      {
       "output_type": "stream",
       "stream": "stdout",
       "text": [
        "\n",
        "denovo24307\n",
        "denovo24306\n",
        "denovo53825\n",
        "denovo41196"
       ]
      },
      {
       "output_type": "stream",
       "stream": "stdout",
       "text": [
        "\n",
        "denovo41474\n",
        "denovo41475\n",
        "denovo28681"
       ]
      },
      {
       "output_type": "stream",
       "stream": "stdout",
       "text": [
        "\n",
        "denovo28682\n",
        "denovo4979\n",
        "denovo26458\n",
        "denovo3240"
       ]
      },
      {
       "output_type": "stream",
       "stream": "stdout",
       "text": [
        "\n",
        "denovo54535\n",
        "denovo50695\n",
        "denovo20538\n",
        "denovo50697"
       ]
      },
      {
       "output_type": "stream",
       "stream": "stdout",
       "text": [
        "\n",
        "denovo50690\n",
        "denovo54530\n",
        "denovo54533"
       ]
      },
      {
       "output_type": "stream",
       "stream": "stdout",
       "text": [
        "\n",
        "denovo54532\n",
        "denovo20532\n",
        "denovo20533"
       ]
      },
      {
       "output_type": "stream",
       "stream": "stdout",
       "text": [
        "\n",
        "denovo20530\n",
        "denovo20531\n",
        "denovo20536\n",
        "denovo20537"
       ]
      },
      {
       "output_type": "stream",
       "stream": "stdout",
       "text": [
        "\n",
        "denovo20534\n",
        "denovo20535\n",
        "denovo10306"
       ]
      },
      {
       "output_type": "stream",
       "stream": "stdout",
       "text": [
        "\n",
        "denovo10307\n",
        "denovo10304\n",
        "denovo9314"
       ]
      },
      {
       "output_type": "stream",
       "stream": "stdout",
       "text": [
        "\n",
        "denovo9315\n",
        "denovo9316\n",
        "denovo9317\n",
        "denovo9310"
       ]
      },
      {
       "output_type": "stream",
       "stream": "stdout",
       "text": [
        "\n",
        "denovo9311\n",
        "denovo9312\n",
        "denovo9313\n",
        "denovo15154"
       ]
      },
      {
       "output_type": "stream",
       "stream": "stdout",
       "text": [
        "\n",
        "denovo9318\n",
        "denovo9319\n",
        "denovo15155\n",
        "denovo15156"
       ]
      },
      {
       "output_type": "stream",
       "stream": "stdout",
       "text": [
        "\n",
        "denovo50348\n",
        "denovo50349\n",
        "denovo50346"
       ]
      },
      {
       "output_type": "stream",
       "stream": "stdout",
       "text": [
        "\n",
        "denovo50347\n",
        "denovo50344\n",
        "denovo50345\n",
        "denovo50342"
       ]
      },
      {
       "output_type": "stream",
       "stream": "stdout",
       "text": [
        "\n",
        "denovo50343\n",
        "denovo50340\n",
        "denovo50341\n",
        "denovo58193"
       ]
      },
      {
       "output_type": "stream",
       "stream": "stdout",
       "text": [
        "\n",
        "denovo58192\n",
        "denovo58191\n",
        "denovo58190\n",
        "denovo58197"
       ]
      },
      {
       "output_type": "stream",
       "stream": "stdout",
       "text": [
        "\n",
        "denovo58196\n",
        "denovo58195\n",
        "denovo58194\n",
        "denovo58199"
       ]
      },
      {
       "output_type": "stream",
       "stream": "stdout",
       "text": [
        "\n",
        "denovo58198\n",
        "denovo23942\n",
        "denovo23943\n",
        "denovo23940"
       ]
      },
      {
       "output_type": "stream",
       "stream": "stdout",
       "text": [
        "\n",
        "denovo23941\n",
        "denovo23946\n",
        "denovo23947\n",
        "denovo23944"
       ]
      },
      {
       "output_type": "stream",
       "stream": "stdout",
       "text": [
        "\n",
        "denovo23945\n",
        "denovo23948\n",
        "denovo23949\n",
        "denovo60981"
       ]
      },
      {
       "output_type": "stream",
       "stream": "stdout",
       "text": [
        "\n",
        "denovo15204\n",
        "denovo15205\n",
        "denovo15206\n",
        "denovo15207"
       ]
      },
      {
       "output_type": "stream",
       "stream": "stdout",
       "text": [
        "\n",
        "denovo15200\n",
        "denovo15201\n",
        "denovo15202\n",
        "denovo15203\n",
        "denovo60987"
       ]
      },
      {
       "output_type": "stream",
       "stream": "stdout",
       "text": [
        "\n",
        "denovo10309\n",
        "denovo15208\n",
        "denovo15209\n",
        "denovo60986"
       ]
      },
      {
       "output_type": "stream",
       "stream": "stdout",
       "text": [
        "\n",
        "denovo60514\n",
        "denovo60515\n",
        "denovo60516"
       ]
      },
      {
       "output_type": "stream",
       "stream": "stdout",
       "text": [
        "\n",
        "denovo60517\n",
        "denovo60510\n",
        "denovo60511\n",
        "denovo60512"
       ]
      },
      {
       "output_type": "stream",
       "stream": "stdout",
       "text": [
        "\n",
        "denovo60513\n",
        "denovo28687\n",
        "denovo35421\n",
        "denovo60518"
       ]
      },
      {
       "output_type": "stream",
       "stream": "stdout",
       "text": [
        "\n",
        "denovo60519\n",
        "denovo13656\n",
        "denovo13651\n",
        "denovo14682"
       ]
      },
      {
       "output_type": "stream",
       "stream": "stdout",
       "text": [
        "\n",
        "denovo14681\n",
        "denovo26279\n",
        "denovo26278"
       ]
      },
      {
       "output_type": "stream",
       "stream": "stdout",
       "text": [
        "\n",
        "denovo26277\n",
        "denovo26276\n",
        "denovo26275\n",
        "denovo26274"
       ]
      },
      {
       "output_type": "stream",
       "stream": "stdout",
       "text": [
        "\n",
        "denovo26273\n",
        "denovo26272\n",
        "denovo26271\n",
        "denovo26270"
       ]
      },
      {
       "output_type": "stream",
       "stream": "stdout",
       "text": [
        "\n",
        "denovo43534\n",
        "denovo56979\n",
        "denovo56978\n",
        "denovo56977"
       ]
      },
      {
       "output_type": "stream",
       "stream": "stdout",
       "text": [
        "\n",
        "denovo56976\n",
        "denovo56975\n",
        "denovo56974\n",
        "denovo56973"
       ]
      },
      {
       "output_type": "stream",
       "stream": "stdout",
       "text": [
        "\n",
        "denovo56972\n",
        "denovo56971\n",
        "denovo56970\n",
        "denovo4009"
       ]
      },
      {
       "output_type": "stream",
       "stream": "stdout",
       "text": [
        "\n",
        "denovo4008\n",
        "denovo4003\n",
        "denovo4002\n",
        "denovo4001"
       ]
      },
      {
       "output_type": "stream",
       "stream": "stdout",
       "text": [
        "\n",
        "denovo4000\n",
        "denovo4007\n",
        "denovo4006\n",
        "denovo4005"
       ]
      },
      {
       "output_type": "stream",
       "stream": "stdout",
       "text": [
        "\n",
        "denovo4004\n",
        "denovo24524\n",
        "denovo57378\n",
        "denovo57379"
       ]
      },
      {
       "output_type": "stream",
       "stream": "stdout",
       "text": [
        "\n",
        "denovo57376\n",
        "denovo57377\n",
        "denovo57374\n",
        "denovo57375"
       ]
      },
      {
       "output_type": "stream",
       "stream": "stdout",
       "text": [
        "\n",
        "denovo57372\n",
        "denovo57373\n",
        "denovo57370\n",
        "denovo57371"
       ]
      },
      {
       "output_type": "stream",
       "stream": "stdout",
       "text": [
        "\n",
        "denovo18249\n",
        "denovo18248\n",
        "denovo45748"
       ]
      },
      {
       "output_type": "stream",
       "stream": "stdout",
       "text": [
        "\n",
        "denovo45749\n",
        "denovo18243\n",
        "denovo18242"
       ]
      },
      {
       "output_type": "stream",
       "stream": "stdout",
       "text": [
        "\n",
        "denovo18241\n",
        "denovo18240\n",
        "denovo18247\n",
        "denovo18246"
       ]
      },
      {
       "output_type": "stream",
       "stream": "stdout",
       "text": [
        "\n",
        "denovo18245\n",
        "denovo18244\n",
        "denovo14559"
       ]
      },
      {
       "output_type": "stream",
       "stream": "stdout",
       "text": [
        "\n",
        "denovo14558\n",
        "denovo14553\n",
        "denovo14552\n",
        "denovo14551"
       ]
      },
      {
       "output_type": "stream",
       "stream": "stdout",
       "text": [
        "\n",
        "denovo14550\n",
        "denovo14557\n",
        "denovo14556\n",
        "denovo14555"
       ]
      },
      {
       "output_type": "stream",
       "stream": "stdout",
       "text": [
        "\n",
        "denovo14554\n",
        "denovo12898\n",
        "denovo12899\n",
        "denovo47454"
       ]
      },
      {
       "output_type": "stream",
       "stream": "stdout",
       "text": [
        "\n",
        "denovo47455\n",
        "denovo47452\n",
        "denovo53610\n",
        "denovo47450"
       ]
      },
      {
       "output_type": "stream",
       "stream": "stdout",
       "text": [
        "\n",
        "denovo47451\n",
        "denovo12890\n",
        "denovo12891\n",
        "denovo12892"
       ]
      },
      {
       "output_type": "stream",
       "stream": "stdout",
       "text": [
        "\n",
        "denovo12893\n",
        "denovo12894\n",
        "denovo12895\n",
        "denovo12896"
       ]
      },
      {
       "output_type": "stream",
       "stream": "stdout",
       "text": [
        "\n",
        "denovo12897\n",
        "denovo26899\n",
        "denovo26898\n",
        "denovo26893"
       ]
      },
      {
       "output_type": "stream",
       "stream": "stdout",
       "text": [
        "\n",
        "denovo26892\n",
        "denovo26891\n",
        "denovo26890"
       ]
      },
      {
       "output_type": "stream",
       "stream": "stdout",
       "text": [
        "\n",
        "denovo26897\n",
        "denovo26896\n",
        "denovo26895\n",
        "denovo26894\n",
        "denovo56399"
       ]
      },
      {
       "output_type": "stream",
       "stream": "stdout",
       "text": [
        "\n",
        "denovo56398\n",
        "denovo56393\n",
        "denovo56392\n",
        "denovo56391"
       ]
      },
      {
       "output_type": "stream",
       "stream": "stdout",
       "text": [
        "\n",
        "denovo56390\n",
        "denovo56397\n",
        "denovo56396\n",
        "denovo56395"
       ]
      },
      {
       "output_type": "stream",
       "stream": "stdout",
       "text": [
        "\n",
        "denovo56394\n",
        "denovo51328\n",
        "denovo52511\n",
        "denovo44090"
       ]
      },
      {
       "output_type": "stream",
       "stream": "stdout",
       "text": [
        "\n",
        "denovo29522\n",
        "denovo43533\n",
        "denovo15488\n",
        "denovo17118"
       ]
      },
      {
       "output_type": "stream",
       "stream": "stdout",
       "text": [
        "\n",
        "denovo17119\n",
        "denovo17112\n",
        "denovo17113"
       ]
      },
      {
       "output_type": "stream",
       "stream": "stdout",
       "text": [
        "\n",
        "denovo17110\n",
        "denovo17111\n",
        "denovo17116"
       ]
      },
      {
       "output_type": "stream",
       "stream": "stdout",
       "text": [
        "\n",
        "denovo17117\n",
        "denovo17114\n",
        "denovo17115"
       ]
      },
      {
       "output_type": "stream",
       "stream": "stdout",
       "text": [
        "\n",
        "denovo56029\n",
        "denovo56028\n",
        "denovo56025"
       ]
      },
      {
       "output_type": "stream",
       "stream": "stdout",
       "text": [
        "\n",
        "denovo56024\n",
        "denovo56027\n",
        "denovo56026\n",
        "denovo56021"
       ]
      },
      {
       "output_type": "stream",
       "stream": "stdout",
       "text": [
        "\n",
        "denovo56020\n",
        "denovo56023\n",
        "denovo56022\n",
        "denovo42213"
       ]
      },
      {
       "output_type": "stream",
       "stream": "stdout",
       "text": [
        "\n",
        "denovo42212\n",
        "denovo42211\n",
        "denovo42210"
       ]
      },
      {
       "output_type": "stream",
       "stream": "stdout",
       "text": [
        "\n",
        "denovo42217\n",
        "denovo42216\n",
        "denovo42215\n",
        "denovo33072"
       ]
      },
      {
       "output_type": "stream",
       "stream": "stdout",
       "text": [
        "\n",
        "denovo42219\n",
        "denovo42218\n",
        "denovo33071\n",
        "denovo28367"
       ]
      },
      {
       "output_type": "stream",
       "stream": "stdout",
       "text": [
        "\n",
        "denovo28366\n",
        "denovo28365\n",
        "denovo28364\n",
        "denovo28363"
       ]
      },
      {
       "output_type": "stream",
       "stream": "stdout",
       "text": [
        "\n",
        "denovo28362\n",
        "denovo28361\n",
        "denovo28360"
       ]
      },
      {
       "output_type": "stream",
       "stream": "stdout",
       "text": [
        "\n",
        "denovo48079\n",
        "denovo48078\n",
        "denovo28369"
       ]
      },
      {
       "output_type": "stream",
       "stream": "stdout",
       "text": [
        "\n",
        "denovo28368\n",
        "denovo44905\n",
        "denovo44904\n",
        "denovo44907"
       ]
      },
      {
       "output_type": "stream",
       "stream": "stdout",
       "text": [
        "\n",
        "denovo44906\n",
        "denovo44901\n",
        "denovo44900"
       ]
      },
      {
       "output_type": "stream",
       "stream": "stdout",
       "text": [
        "\n",
        "denovo44903\n",
        "denovo44902\n",
        "denovo33074\n",
        "denovo44909"
       ]
      },
      {
       "output_type": "stream",
       "stream": "stdout",
       "text": [
        "\n",
        "denovo44908\n",
        "denovo3851\n",
        "denovo3850"
       ]
      },
      {
       "output_type": "stream",
       "stream": "stdout",
       "text": [
        "\n",
        "denovo3853\n",
        "denovo3852\n",
        "denovo3855"
       ]
      },
      {
       "output_type": "stream",
       "stream": "stdout",
       "text": [
        "\n",
        "denovo3854\n",
        "denovo3857\n",
        "denovo3856\n",
        "denovo3859"
       ]
      },
      {
       "output_type": "stream",
       "stream": "stdout",
       "text": [
        "\n",
        "denovo3858\n",
        "denovo55615\n",
        "denovo55614\n",
        "denovo55613"
       ]
      },
      {
       "output_type": "stream",
       "stream": "stdout",
       "text": [
        "\n",
        "denovo55612\n",
        "denovo55611\n",
        "denovo55610\n",
        "denovo1981"
       ]
      },
      {
       "output_type": "stream",
       "stream": "stdout",
       "text": [
        "\n",
        "denovo1980\n",
        "denovo1983\n",
        "denovo1982\n",
        "denovo1985"
       ]
      },
      {
       "output_type": "stream",
       "stream": "stdout",
       "text": [
        "\n",
        "denovo1984\n",
        "denovo1987\n",
        "denovo1986"
       ]
      },
      {
       "output_type": "stream",
       "stream": "stdout",
       "text": [
        "\n",
        "denovo1989\n",
        "denovo1988\n",
        "denovo6449"
       ]
      },
      {
       "output_type": "stream",
       "stream": "stdout",
       "text": [
        "\n",
        "denovo6448\n",
        "denovo62589\n",
        "denovo62588\n",
        "denovo46468"
       ]
      },
      {
       "output_type": "stream",
       "stream": "stdout",
       "text": [
        "\n",
        "denovo46469\n",
        "denovo46464\n",
        "denovo46465\n",
        "denovo46466"
       ]
      },
      {
       "output_type": "stream",
       "stream": "stdout",
       "text": [
        "\n",
        "denovo46467\n",
        "denovo46460\n",
        "denovo46461\n",
        "denovo46462"
       ]
      },
      {
       "output_type": "stream",
       "stream": "stdout",
       "text": [
        "\n",
        "denovo46463\n",
        "denovo6441\n",
        "denovo30929\n",
        "denovo6440"
       ]
      },
      {
       "output_type": "stream",
       "stream": "stdout",
       "text": [
        "\n",
        "denovo31994\n",
        "denovo16023\n",
        "denovo6442"
       ]
      },
      {
       "output_type": "stream",
       "stream": "stdout",
       "text": [
        "\n",
        "denovo6445\n",
        "denovo6444\n",
        "denovo49300\n",
        "denovo49301"
       ]
      },
      {
       "output_type": "stream",
       "stream": "stdout",
       "text": [
        "\n",
        "denovo49302\n",
        "denovo49303\n",
        "denovo49304\n",
        "denovo49305"
       ]
      },
      {
       "output_type": "stream",
       "stream": "stdout",
       "text": [
        "\n",
        "denovo49306\n",
        "denovo49307\n",
        "denovo49308\n",
        "denovo49309"
       ]
      },
      {
       "output_type": "stream",
       "stream": "stdout",
       "text": [
        "\n",
        "denovo6446\n",
        "denovo16793\n",
        "denovo16792\n",
        "denovo16791"
       ]
      },
      {
       "output_type": "stream",
       "stream": "stdout",
       "text": [
        "\n",
        "denovo16790\n",
        "denovo16797\n",
        "denovo16796\n",
        "denovo16795"
       ]
      },
      {
       "output_type": "stream",
       "stream": "stdout",
       "text": [
        "\n",
        "denovo16794\n",
        "denovo16799\n",
        "denovo16798\n",
        "denovo26610"
       ]
      },
      {
       "output_type": "stream",
       "stream": "stdout",
       "text": [
        "\n",
        "denovo23819\n",
        "denovo26613\n",
        "denovo40101\n",
        "denovo40100"
       ]
      },
      {
       "output_type": "stream",
       "stream": "stdout",
       "text": [
        "\n",
        "denovo40103\n",
        "denovo40102\n",
        "denovo40105\n",
        "denovo40104"
       ]
      },
      {
       "output_type": "stream",
       "stream": "stdout",
       "text": [
        "\n",
        "denovo40107\n",
        "denovo40106\n",
        "denovo40109\n",
        "denovo40108"
       ]
      },
      {
       "output_type": "stream",
       "stream": "stdout",
       "text": [
        "\n",
        "denovo47339\n",
        "denovo47338\n",
        "denovo4854\n",
        "denovo4855"
       ]
      },
      {
       "output_type": "stream",
       "stream": "stdout",
       "text": [
        "\n",
        "denovo4856\n",
        "denovo4857\n",
        "denovo8168\n",
        "denovo8169"
       ]
      },
      {
       "output_type": "stream",
       "stream": "stdout",
       "text": [
        "\n",
        "denovo8164\n",
        "denovo8165\n",
        "denovo8166"
       ]
      },
      {
       "output_type": "stream",
       "stream": "stdout",
       "text": [
        "\n",
        "denovo8167\n",
        "denovo8160\n",
        "denovo8161"
       ]
      },
      {
       "output_type": "stream",
       "stream": "stdout",
       "text": [
        "\n",
        "denovo8162\n",
        "denovo8163\n",
        "denovo45954\n",
        "denovo40496\n",
        "denovo48916"
       ]
      },
      {
       "output_type": "stream",
       "stream": "stdout",
       "text": [
        "\n",
        "denovo28825\n",
        "denovo28826\n",
        "denovo11222\n",
        "denovo11223"
       ]
      },
      {
       "output_type": "stream",
       "stream": "stdout",
       "text": [
        "\n",
        "denovo11220\n",
        "denovo11221\n",
        "denovo11226\n",
        "denovo11227"
       ]
      },
      {
       "output_type": "stream",
       "stream": "stdout",
       "text": [
        "\n",
        "denovo11224\n",
        "denovo11225\n",
        "denovo28820"
       ]
      },
      {
       "output_type": "stream",
       "stream": "stdout",
       "text": [
        "\n",
        "denovo11228\n",
        "denovo11229\n",
        "denovo28821\n",
        "denovo26619"
       ]
      },
      {
       "output_type": "stream",
       "stream": "stdout",
       "text": [
        "\n",
        "denovo28822\n",
        "denovo26618\n",
        "denovo48911\n",
        "denovo2860"
       ]
      },
      {
       "output_type": "stream",
       "stream": "stdout",
       "text": [
        "\n",
        "denovo40494\n",
        "denovo25207\n",
        "denovo25206\n",
        "denovo25205"
       ]
      },
      {
       "output_type": "stream",
       "stream": "stdout",
       "text": [
        "\n",
        "denovo25204\n",
        "denovo25203\n",
        "denovo25202\n",
        "denovo25201"
       ]
      },
      {
       "output_type": "stream",
       "stream": "stdout",
       "text": [
        "\n",
        "denovo25200\n",
        "denovo41278\n",
        "denovo41279\n",
        "denovo5723"
       ]
      },
      {
       "output_type": "stream",
       "stream": "stdout",
       "text": [
        "\n",
        "denovo5722\n",
        "denovo5725\n",
        "denovo5724\n",
        "denovo25209"
       ]
      },
      {
       "output_type": "stream",
       "stream": "stdout",
       "text": [
        "\n",
        "denovo25208\n",
        "denovo39703\n",
        "denovo26612\n",
        "denovo39702"
       ]
      },
      {
       "output_type": "stream",
       "stream": "stdout",
       "text": [
        "\n",
        "denovo39701\n",
        "denovo3073\n",
        "denovo3072\n",
        "denovo3071"
       ]
      },
      {
       "output_type": "stream",
       "stream": "stdout",
       "text": [
        "\n",
        "denovo3070\n",
        "denovo3077\n",
        "denovo3076"
       ]
      },
      {
       "output_type": "stream",
       "stream": "stdout",
       "text": [
        "\n",
        "denovo3075\n",
        "denovo3074\n",
        "denovo39707"
       ]
      },
      {
       "output_type": "stream",
       "stream": "stdout",
       "text": [
        "\n",
        "denovo3079\n",
        "denovo3078\n",
        "denovo39706\n",
        "denovo18355\n",
        "denovo39705"
       ]
      },
      {
       "output_type": "stream",
       "stream": "stdout",
       "text": [
        "\n",
        "denovo39704\n",
        "denovo44174\n",
        "denovo44175\n",
        "denovo44176"
       ]
      },
      {
       "output_type": "stream",
       "stream": "stdout",
       "text": [
        "\n",
        "denovo44177\n",
        "denovo44170\n",
        "denovo44171\n",
        "denovo44172"
       ]
      },
      {
       "output_type": "stream",
       "stream": "stdout",
       "text": [
        "\n",
        "denovo44173\n",
        "denovo11828\n",
        "denovo44178\n",
        "denovo39709"
       ]
      },
      {
       "output_type": "stream",
       "stream": "stdout",
       "text": [
        "\n",
        "denovo45814\n",
        "denovo39708\n",
        "denovo45815\n",
        "denovo45816"
       ]
      },
      {
       "output_type": "stream",
       "stream": "stdout",
       "text": [
        "\n",
        "denovo34415\n",
        "denovo45817\n",
        "denovo45810\n",
        "denovo13307"
       ]
      },
      {
       "output_type": "stream",
       "stream": "stdout",
       "text": [
        "\n",
        "denovo45811\n",
        "denovo47629\n",
        "denovo45812\n",
        "denovo47628"
       ]
      },
      {
       "output_type": "stream",
       "stream": "stdout",
       "text": [
        "\n",
        "denovo33085\n",
        "denovo45813\n",
        "denovo47085"
       ]
      },
      {
       "output_type": "stream",
       "stream": "stdout",
       "text": [
        "\n",
        "denovo34417\n",
        "denovo47084\n",
        "denovo47621\n",
        "denovo47087"
       ]
      },
      {
       "output_type": "stream",
       "stream": "stdout",
       "text": [
        "\n",
        "denovo47620\n",
        "denovo47086\n",
        "denovo47623\n",
        "denovo176"
       ]
      },
      {
       "output_type": "stream",
       "stream": "stdout",
       "text": [
        "\n",
        "denovo47622\n",
        "denovo177\n",
        "denovo47625\n",
        "denovo174"
       ]
      },
      {
       "output_type": "stream",
       "stream": "stdout",
       "text": [
        "\n",
        "denovo47624\n",
        "denovo45229\n",
        "denovo45228\n",
        "denovo47627"
       ]
      },
      {
       "output_type": "stream",
       "stream": "stdout",
       "text": [
        "\n",
        "denovo45223\n",
        "denovo45222\n",
        "denovo45221"
       ]
      },
      {
       "output_type": "stream",
       "stream": "stdout",
       "text": [
        "\n",
        "denovo45220\n",
        "denovo45227\n",
        "denovo45226\n",
        "denovo45225"
       ]
      },
      {
       "output_type": "stream",
       "stream": "stdout",
       "text": [
        "\n",
        "denovo45224\n",
        "denovo38256\n",
        "denovo170\n",
        "denovo38257"
       ]
      },
      {
       "output_type": "stream",
       "stream": "stdout",
       "text": [
        "\n",
        "denovo171\n",
        "denovo38254\n",
        "denovo12241\n",
        "denovo38255"
       ]
      },
      {
       "output_type": "stream",
       "stream": "stdout",
       "text": [
        "\n",
        "denovo38252\n",
        "denovo38253\n",
        "denovo38250\n",
        "denovo38251\n",
        "denovo18352"
       ]
      },
      {
       "output_type": "stream",
       "stream": "stdout",
       "text": [
        "\n",
        "denovo26334\n",
        "denovo10399\n",
        "denovo10398\n",
        "denovo45854"
       ]
      },
      {
       "output_type": "stream",
       "stream": "stdout",
       "text": [
        "\n",
        "denovo50958\n",
        "denovo10391\n",
        "denovo45855\n",
        "denovo10390"
       ]
      },
      {
       "output_type": "stream",
       "stream": "stdout",
       "text": [
        "\n",
        "denovo31499\n",
        "denovo31498\n",
        "denovo31493\n",
        "denovo31492"
       ]
      },
      {
       "output_type": "stream",
       "stream": "stdout",
       "text": [
        "\n",
        "denovo31491\n",
        "denovo31490\n",
        "denovo31497\n",
        "denovo31496"
       ]
      },
      {
       "output_type": "stream",
       "stream": "stdout",
       "text": [
        "\n",
        "denovo31495\n",
        "denovo31494\n",
        "denovo48538\n",
        "denovo48539"
       ]
      },
      {
       "output_type": "stream",
       "stream": "stdout",
       "text": [
        "\n",
        "denovo48530\n",
        "denovo48531\n",
        "denovo48532\n",
        "denovo48533"
       ]
      },
      {
       "output_type": "stream",
       "stream": "stdout",
       "text": [
        "\n",
        "denovo48534\n",
        "denovo48535\n",
        "denovo48536"
       ]
      },
      {
       "output_type": "stream",
       "stream": "stdout",
       "text": [
        "\n",
        "denovo48537\n",
        "denovo32816\n",
        "denovo675\n",
        "denovo674"
       ]
      },
      {
       "output_type": "stream",
       "stream": "stdout",
       "text": [
        "\n",
        "denovo677\n",
        "denovo676\n",
        "denovo31729"
       ]
      },
      {
       "output_type": "stream",
       "stream": "stdout",
       "text": [
        "\n",
        "denovo31728\n",
        "denovo673\n",
        "denovo672\n",
        "denovo31725"
       ]
      },
      {
       "output_type": "stream",
       "stream": "stdout",
       "text": [
        "\n",
        "denovo31724\n",
        "denovo31727\n",
        "denovo31726\n",
        "denovo31721"
       ]
      },
      {
       "output_type": "stream",
       "stream": "stdout",
       "text": [
        "\n",
        "denovo31720\n",
        "denovo31723\n",
        "denovo31722\n",
        "denovo26335"
       ]
      },
      {
       "output_type": "stream",
       "stream": "stdout",
       "text": [
        "\n",
        "denovo59319\n",
        "denovo48816\n",
        "denovo5519\n",
        "denovo43319"
       ]
      },
      {
       "output_type": "stream",
       "stream": "stdout",
       "text": [
        "\n",
        "denovo43318\n",
        "denovo15048\n",
        "denovo15049"
       ]
      },
      {
       "output_type": "stream",
       "stream": "stdout",
       "text": [
        "\n",
        "denovo51163\n",
        "denovo43311\n",
        "denovo15043\n",
        "denovo43313"
       ]
      },
      {
       "output_type": "stream",
       "stream": "stdout",
       "text": [
        "\n",
        "denovo43312\n",
        "denovo15046\n",
        "denovo15047\n",
        "denovo15044"
       ]
      },
      {
       "output_type": "stream",
       "stream": "stdout",
       "text": [
        "\n",
        "denovo15045\n",
        "denovo59312\n",
        "denovo59313\n",
        "denovo59310"
       ]
      },
      {
       "output_type": "stream",
       "stream": "stdout",
       "text": [
        "\n",
        "denovo59311\n",
        "denovo51169\n",
        "denovo51168\n",
        "denovo14351\n",
        "denovo59314"
       ]
      },
      {
       "output_type": "stream",
       "stream": "stdout",
       "text": [
        "\n",
        "denovo14350\n",
        "denovo59315\n",
        "denovo14353\n",
        "denovo40364\n",
        "denovo14352"
       ]
      },
      {
       "output_type": "stream",
       "stream": "stdout",
       "text": [
        "\n",
        "denovo33389\n",
        "denovo33388\n",
        "denovo33385\n",
        "denovo33384"
       ]
      },
      {
       "output_type": "stream",
       "stream": "stdout",
       "text": [
        "\n",
        "denovo33387\n",
        "denovo33386\n",
        "denovo33381\n",
        "denovo33380"
       ]
      },
      {
       "output_type": "stream",
       "stream": "stdout",
       "text": [
        "\n",
        "denovo33383\n",
        "denovo33382\n",
        "denovo14896\n",
        "denovo37899"
       ]
      },
      {
       "output_type": "stream",
       "stream": "stdout",
       "text": [
        "\n",
        "denovo14357\n",
        "denovo14897\n",
        "denovo37895\n",
        "denovo37894"
       ]
      },
      {
       "output_type": "stream",
       "stream": "stdout",
       "text": [
        "\n",
        "denovo37897\n",
        "denovo37896\n",
        "denovo37891\n",
        "denovo37890"
       ]
      },
      {
       "output_type": "stream",
       "stream": "stdout",
       "text": [
        "\n",
        "denovo37893\n",
        "denovo37892\n",
        "denovo14895\n",
        "denovo14892"
       ]
      },
      {
       "output_type": "stream",
       "stream": "stdout",
       "text": [
        "\n",
        "denovo14893\n",
        "denovo14890\n",
        "denovo14891\n",
        "denovo44836"
       ]
      },
      {
       "output_type": "stream",
       "stream": "stdout",
       "text": [
        "\n",
        "denovo21971\n",
        "denovo21970\n",
        "denovo21973\n",
        "denovo21972"
       ]
      },
      {
       "output_type": "stream",
       "stream": "stdout",
       "text": [
        "\n",
        "denovo21975\n",
        "denovo21974\n",
        "denovo21977"
       ]
      },
      {
       "output_type": "stream",
       "stream": "stdout",
       "text": [
        "\n",
        "denovo21976\n",
        "denovo21979\n",
        "denovo21978\n",
        "denovo53230"
       ]
      },
      {
       "output_type": "stream",
       "stream": "stdout",
       "text": [
        "\n",
        "denovo33659\n",
        "denovo33658\n",
        "denovo14799\n",
        "denovo14798"
       ]
      },
      {
       "output_type": "stream",
       "stream": "stdout",
       "text": [
        "\n",
        "denovo37765\n",
        "denovo37764\n",
        "denovo37763"
       ]
      },
      {
       "output_type": "stream",
       "stream": "stdout",
       "text": [
        "\n",
        "denovo37762\n",
        "denovo37761\n",
        "denovo37760\n",
        "denovo14791"
       ]
      },
      {
       "output_type": "stream",
       "stream": "stdout",
       "text": [
        "\n",
        "denovo14790\n",
        "denovo14793\n",
        "denovo14792"
       ]
      },
      {
       "output_type": "stream",
       "stream": "stdout",
       "text": [
        "\n",
        "denovo14795\n",
        "denovo14794\n",
        "denovo14797\n",
        "denovo14796"
       ]
      },
      {
       "output_type": "stream",
       "stream": "stdout",
       "text": [
        "\n",
        "denovo61042\n",
        "denovo8446\n",
        "denovo12212"
       ]
      },
      {
       "output_type": "stream",
       "stream": "stdout",
       "text": [
        "\n",
        "denovo15490\n",
        "denovo12213\n",
        "denovo12210\n",
        "denovo12211"
       ]
      },
      {
       "output_type": "stream",
       "stream": "stdout",
       "text": [
        "\n",
        "denovo40659\n",
        "denovo59909\n",
        "denovo59908\n",
        "denovo59907"
       ]
      },
      {
       "output_type": "stream",
       "stream": "stdout",
       "text": [
        "\n",
        "denovo59906\n",
        "denovo59905\n",
        "denovo59904\n",
        "denovo59903"
       ]
      },
      {
       "output_type": "stream",
       "stream": "stdout",
       "text": [
        "\n",
        "denovo59902\n",
        "denovo59901\n",
        "denovo59900\n",
        "denovo13071"
       ]
      },
      {
       "output_type": "stream",
       "stream": "stdout",
       "text": [
        "\n",
        "denovo13070\n",
        "denovo13073\n",
        "denovo13072\n",
        "denovo13075"
       ]
      },
      {
       "output_type": "stream",
       "stream": "stdout",
       "text": [
        "\n",
        "denovo13074\n",
        "denovo13077\n",
        "denovo13076"
       ]
      },
      {
       "output_type": "stream",
       "stream": "stdout",
       "text": [
        "\n",
        "denovo13079\n",
        "denovo13078\n",
        "denovo19017"
       ]
      },
      {
       "output_type": "stream",
       "stream": "stdout",
       "text": [
        "\n",
        "denovo19016\n",
        "denovo19011\n",
        "denovo19010\n",
        "denovo19013"
       ]
      },
      {
       "output_type": "stream",
       "stream": "stdout",
       "text": [
        "\n",
        "denovo19012\n",
        "denovo12300\n",
        "denovo12301"
       ]
      },
      {
       "output_type": "stream",
       "stream": "stdout",
       "text": [
        "\n",
        "denovo12302\n",
        "denovo12303\n",
        "denovo12304\n",
        "denovo12305"
       ]
      },
      {
       "output_type": "stream",
       "stream": "stdout",
       "text": [
        "\n",
        "denovo12306\n",
        "denovo12307\n",
        "denovo12308"
       ]
      },
      {
       "output_type": "stream",
       "stream": "stdout",
       "text": [
        "\n",
        "denovo12309\n",
        "denovo32814\n",
        "denovo36386\n",
        "denovo36387"
       ]
      },
      {
       "output_type": "stream",
       "stream": "stdout",
       "text": [
        "\n",
        "denovo36384\n",
        "denovo36385\n",
        "denovo36382\n",
        "denovo36383"
       ]
      },
      {
       "output_type": "stream",
       "stream": "stdout",
       "text": [
        "\n",
        "denovo36380\n",
        "denovo36381\n",
        "denovo15931\n",
        "denovo36388"
       ]
      },
      {
       "output_type": "stream",
       "stream": "stdout",
       "text": [
        "\n",
        "denovo36389\n",
        "denovo14788\n",
        "denovo55068"
       ]
      },
      {
       "output_type": "stream",
       "stream": "stdout",
       "text": [
        "\n",
        "denovo22400\n",
        "denovo22401\n",
        "denovo22402"
       ]
      },
      {
       "output_type": "stream",
       "stream": "stdout",
       "text": [
        "\n",
        "denovo22403\n",
        "denovo22404\n",
        "denovo22405\n",
        "denovo22406"
       ]
      },
      {
       "output_type": "stream",
       "stream": "stdout",
       "text": [
        "\n",
        "denovo22407\n",
        "denovo22408\n",
        "denovo22409\n",
        "denovo26719"
       ]
      },
      {
       "output_type": "stream",
       "stream": "stdout",
       "text": [
        "\n",
        "denovo28165\n",
        "denovo28164\n",
        "denovo20318\n",
        "denovo20319"
       ]
      },
      {
       "output_type": "stream",
       "stream": "stdout",
       "text": [
        "\n",
        "denovo28161\n",
        "denovo28160\n",
        "denovo28163\n",
        "denovo28162"
       ]
      },
      {
       "output_type": "stream",
       "stream": "stdout",
       "text": [
        "\n",
        "denovo20312\n",
        "denovo20313\n",
        "denovo20310\n",
        "denovo20311"
       ]
      },
      {
       "output_type": "stream",
       "stream": "stdout",
       "text": [
        "\n",
        "denovo28169\n",
        "denovo20317\n",
        "denovo20314"
       ]
      },
      {
       "output_type": "stream",
       "stream": "stdout",
       "text": [
        "\n",
        "denovo20315\n",
        "denovo24301\n",
        "denovo24808\n",
        "denovo24809"
       ]
      },
      {
       "output_type": "stream",
       "stream": "stdout",
       "text": [
        "\n",
        "denovo18658\n",
        "denovo18659\n",
        "denovo29156\n",
        "denovo24802"
       ]
      },
      {
       "output_type": "stream",
       "stream": "stdout",
       "text": [
        "\n",
        "denovo24803\n",
        "denovo24800\n",
        "denovo24801"
       ]
      },
      {
       "output_type": "stream",
       "stream": "stdout",
       "text": [
        "\n",
        "denovo24806\n",
        "denovo24807\n",
        "denovo24804\n",
        "denovo24805"
       ]
      },
      {
       "output_type": "stream",
       "stream": "stdout",
       "text": [
        "\n",
        "denovo60828\n",
        "denovo60829\n",
        "denovo29154\n",
        "denovo39008"
       ]
      },
      {
       "output_type": "stream",
       "stream": "stdout",
       "text": [
        "\n",
        "denovo39009\n",
        "denovo39004\n",
        "denovo29153"
       ]
      },
      {
       "output_type": "stream",
       "stream": "stdout",
       "text": [
        "\n",
        "denovo60822\n",
        "denovo39007\n",
        "denovo60824\n",
        "denovo39001"
       ]
      },
      {
       "output_type": "stream",
       "stream": "stdout",
       "text": [
        "\n",
        "denovo39002\n",
        "denovo24304\n",
        "denovo29151"
       ]
      },
      {
       "output_type": "stream",
       "stream": "stdout",
       "text": [
        "\n",
        "denovo29150\n",
        "denovo36962\n",
        "denovo36963\n",
        "denovo36960"
       ]
      },
      {
       "output_type": "stream",
       "stream": "stdout",
       "text": [
        "\n",
        "denovo36961\n",
        "denovo36966\n",
        "denovo36967"
       ]
      },
      {
       "output_type": "stream",
       "stream": "stdout",
       "text": [
        "\n",
        "denovo36964\n",
        "denovo36965\n",
        "denovo52814"
       ]
      },
      {
       "output_type": "stream",
       "stream": "stdout",
       "text": [
        "\n",
        "denovo52815\n",
        "denovo36968\n",
        "denovo36969\n",
        "denovo52810"
       ]
      },
      {
       "output_type": "stream",
       "stream": "stdout",
       "text": [
        "\n",
        "denovo52811\n",
        "denovo52812\n",
        "denovo52813"
       ]
      },
      {
       "output_type": "stream",
       "stream": "stdout",
       "text": [
        "\n",
        "denovo62462\n",
        "denovo62463\n",
        "denovo62460"
       ]
      },
      {
       "output_type": "stream",
       "stream": "stdout",
       "text": [
        "\n",
        "denovo62461\n",
        "denovo62466\n",
        "denovo62467\n",
        "denovo62464"
       ]
      },
      {
       "output_type": "stream",
       "stream": "stdout",
       "text": [
        "\n",
        "denovo62465\n",
        "denovo14784\n",
        "denovo62468\n",
        "denovo62469"
       ]
      },
      {
       "output_type": "stream",
       "stream": "stdout",
       "text": [
        "\n",
        "denovo15824\n",
        "denovo15825\n",
        "denovo15826\n",
        "denovo15827"
       ]
      },
      {
       "output_type": "stream",
       "stream": "stdout",
       "text": [
        "\n",
        "denovo15820\n",
        "denovo15821\n",
        "denovo15822\n",
        "denovo15823"
       ]
      },
      {
       "output_type": "stream",
       "stream": "stdout",
       "text": [
        "\n",
        "denovo15828\n",
        "denovo15829\n",
        "denovo21119\n",
        "denovo40656"
       ]
      },
      {
       "output_type": "stream",
       "stream": "stdout",
       "text": [
        "\n",
        "denovo44838\n",
        "denovo29694\n",
        "denovo29695\n",
        "denovo29696"
       ]
      },
      {
       "output_type": "stream",
       "stream": "stdout",
       "text": [
        "\n",
        "denovo29697\n",
        "denovo29690\n",
        "denovo29691"
       ]
      },
      {
       "output_type": "stream",
       "stream": "stdout",
       "text": [
        "\n",
        "denovo29692\n",
        "denovo29693\n",
        "denovo55066\n",
        "denovo29698"
       ]
      },
      {
       "output_type": "stream",
       "stream": "stdout",
       "text": [
        "\n",
        "denovo29699\n",
        "denovo16551\n",
        "denovo16550"
       ]
      },
      {
       "output_type": "stream",
       "stream": "stdout",
       "text": [
        "\n",
        "denovo16553\n",
        "denovo16552"
       ]
      },
      {
       "output_type": "stream",
       "stream": "stdout",
       "text": [
        "\n",
        "denovo16555\n",
        "denovo16554"
       ]
      },
      {
       "output_type": "stream",
       "stream": "stdout",
       "text": [
        "\n",
        "denovo16557\n",
        "denovo16556\n",
        "denovo16559"
       ]
      },
      {
       "output_type": "stream",
       "stream": "stdout",
       "text": [
        "\n",
        "denovo16558\n",
        "denovo36359"
       ]
      },
      {
       "output_type": "stream",
       "stream": "stdout",
       "text": [
        "\n",
        "denovo27565\n",
        "denovo23469"
       ]
      },
      {
       "output_type": "stream",
       "stream": "stdout",
       "text": [
        "\n",
        "denovo23468\n",
        "denovo38351\n",
        "denovo38350"
       ]
      },
      {
       "output_type": "stream",
       "stream": "stdout",
       "text": [
        "\n",
        "denovo38357\n",
        "denovo38356\n",
        "denovo38355"
       ]
      },
      {
       "output_type": "stream",
       "stream": "stdout",
       "text": [
        "\n",
        "denovo38354\n",
        "denovo23461\n",
        "denovo23460"
       ]
      },
      {
       "output_type": "stream",
       "stream": "stdout",
       "text": [
        "\n",
        "denovo23463\n",
        "denovo23462\n",
        "denovo23465"
       ]
      },
      {
       "output_type": "stream",
       "stream": "stdout",
       "text": [
        "\n",
        "denovo23464\n",
        "denovo23467\n",
        "denovo23466"
       ]
      },
      {
       "output_type": "stream",
       "stream": "stdout",
       "text": [
        "\n",
        "denovo24118\n",
        "denovo24119\n",
        "denovo29348\n",
        "denovo29349"
       ]
      },
      {
       "output_type": "stream",
       "stream": "stdout",
       "text": [
        "\n",
        "denovo24110\n",
        "denovo24111\n",
        "denovo24112"
       ]
      },
      {
       "output_type": "stream",
       "stream": "stdout",
       "text": [
        "\n",
        "denovo24113\n",
        "denovo24114\n",
        "denovo24115"
       ]
      },
      {
       "output_type": "stream",
       "stream": "stdout",
       "text": [
        "\n",
        "denovo29340\n",
        "denovo24117\n",
        "denovo21193"
       ]
      },
      {
       "output_type": "stream",
       "stream": "stdout",
       "text": [
        "\n",
        "denovo21192\n",
        "denovo21191\n",
        "denovo21190"
       ]
      },
      {
       "output_type": "stream",
       "stream": "stdout",
       "text": [
        "\n",
        "denovo21197\n",
        "denovo21196\n",
        "denovo21195"
       ]
      },
      {
       "output_type": "stream",
       "stream": "stdout",
       "text": [
        "\n",
        "denovo21194\n",
        "denovo28617\n",
        "denovo21199"
       ]
      },
      {
       "output_type": "stream",
       "stream": "stdout",
       "text": [
        "\n",
        "denovo21198\n",
        "denovo23648\n",
        "denovo1255\n",
        "denovo1254"
       ]
      },
      {
       "output_type": "stream",
       "stream": "stdout",
       "text": [
        "\n",
        "denovo1257\n",
        "denovo1256\n",
        "denovo1251"
       ]
      },
      {
       "output_type": "stream",
       "stream": "stdout",
       "text": [
        "\n",
        "denovo1250\n",
        "denovo1253\n",
        "denovo1252"
       ]
      },
      {
       "output_type": "stream",
       "stream": "stdout",
       "text": [
        "\n",
        "denovo1259\n",
        "denovo1258\n",
        "denovo59299"
       ]
      },
      {
       "output_type": "stream",
       "stream": "stdout",
       "text": [
        "\n",
        "denovo59298\n",
        "denovo34524\n",
        "denovo34525\n",
        "denovo34526"
       ]
      },
      {
       "output_type": "stream",
       "stream": "stdout",
       "text": [
        "\n",
        "denovo34527\n",
        "denovo34520"
       ]
      },
      {
       "output_type": "stream",
       "stream": "stdout",
       "text": [
        "\n",
        "denovo34521\n",
        "denovo34522\n",
        "denovo34523"
       ]
      },
      {
       "output_type": "stream",
       "stream": "stdout",
       "text": [
        "\n",
        "denovo3617\n",
        "denovo8768"
       ]
      },
      {
       "output_type": "stream",
       "stream": "stdout",
       "text": [
        "\n",
        "denovo8769\n",
        "denovo34528"
       ]
      },
      {
       "output_type": "stream",
       "stream": "stdout",
       "text": [
        "\n",
        "denovo23647\n",
        "denovo2500"
       ]
      },
      {
       "output_type": "stream",
       "stream": "stdout",
       "text": [
        "\n",
        "denovo2501\n",
        "denovo57947"
       ]
      },
      {
       "output_type": "stream",
       "stream": "stdout",
       "text": [
        "\n",
        "denovo2503\n",
        "denovo2504"
       ]
      },
      {
       "output_type": "stream",
       "stream": "stdout",
       "text": [
        "\n",
        "denovo2505\n",
        "denovo2506\n",
        "denovo2507"
       ]
      },
      {
       "output_type": "stream",
       "stream": "stdout",
       "text": [
        "\n",
        "denovo2508\n",
        "denovo2509\n",
        "denovo57949"
       ]
      },
      {
       "output_type": "stream",
       "stream": "stdout",
       "text": [
        "\n",
        "denovo57948\n",
        "denovo51734\n",
        "denovo51735"
       ]
      },
      {
       "output_type": "stream",
       "stream": "stdout",
       "text": [
        "\n",
        "denovo51736\n",
        "denovo51737\n",
        "denovo51730\n",
        "denovo51731"
       ]
      },
      {
       "output_type": "stream",
       "stream": "stdout",
       "text": [
        "\n",
        "denovo51732\n",
        "denovo51733\n",
        "denovo59121"
       ]
      },
      {
       "output_type": "stream",
       "stream": "stdout",
       "text": [
        "\n",
        "denovo59120\n",
        "denovo59123\n",
        "denovo59122\n",
        "denovo51738"
       ]
      },
      {
       "output_type": "stream",
       "stream": "stdout",
       "text": [
        "\n",
        "denovo51739\n",
        "denovo59127\n",
        "denovo59126"
       ]
      },
      {
       "output_type": "stream",
       "stream": "stdout",
       "text": [
        "\n",
        "denovo11020\n",
        "denovo11021\n",
        "denovo11022"
       ]
      },
      {
       "output_type": "stream",
       "stream": "stdout",
       "text": [
        "\n",
        "denovo11023\n",
        "denovo11024\n",
        "denovo11025\n",
        "denovo11026"
       ]
      },
      {
       "output_type": "stream",
       "stream": "stdout",
       "text": [
        "\n",
        "denovo11027\n",
        "denovo11028\n",
        "denovo11029"
       ]
      },
      {
       "output_type": "stream",
       "stream": "stdout",
       "text": [
        "\n",
        "denovo57943\n",
        "denovo21852"
       ]
      },
      {
       "output_type": "stream",
       "stream": "stdout",
       "text": [
        "\n",
        "denovo20691\n",
        "denovo21853\n",
        "denovo30076"
       ]
      },
      {
       "output_type": "stream",
       "stream": "stdout",
       "text": [
        "\n",
        "denovo21850\n",
        "denovo30077\n",
        "denovo21851"
       ]
      },
      {
       "output_type": "stream",
       "stream": "stdout",
       "text": [
        "\n",
        "denovo21856\n",
        "denovo21857"
       ]
      },
      {
       "output_type": "stream",
       "stream": "stdout",
       "text": [
        "\n",
        "denovo21111\n",
        "denovo26806"
       ]
      },
      {
       "output_type": "stream",
       "stream": "stdout",
       "text": [
        "\n",
        "denovo21855\n",
        "denovo25445\n",
        "denovo25444"
       ]
      },
      {
       "output_type": "stream",
       "stream": "stdout",
       "text": [
        "\n",
        "denovo25447\n",
        "denovo25446"
       ]
      },
      {
       "output_type": "stream",
       "stream": "stdout",
       "text": [
        "\n",
        "denovo25441\n",
        "denovo25440"
       ]
      },
      {
       "output_type": "stream",
       "stream": "stdout",
       "text": [
        "\n",
        "denovo25443\n",
        "denovo25442\n",
        "denovo25449\n",
        "denovo25448"
       ]
      },
      {
       "output_type": "stream",
       "stream": "stdout",
       "text": [
        "\n",
        "denovo21110\n",
        "denovo24912\n",
        "denovo3671\n",
        "denovo3670"
       ]
      },
      {
       "output_type": "stream",
       "stream": "stdout",
       "text": [
        "\n",
        "denovo3673\n",
        "denovo3672\n",
        "denovo3675\n",
        "denovo3674"
       ]
      },
      {
       "output_type": "stream",
       "stream": "stdout",
       "text": [
        "\n",
        "denovo3677\n",
        "denovo3676\n",
        "denovo3679\n",
        "denovo3678"
       ]
      },
      {
       "output_type": "stream",
       "stream": "stdout",
       "text": [
        "\n",
        "denovo50061\n",
        "denovo50060\n",
        "denovo50067\n",
        "denovo50066"
       ]
      },
      {
       "output_type": "stream",
       "stream": "stdout",
       "text": [
        "\n",
        "denovo50065\n",
        "denovo50064\n",
        "denovo54764"
       ]
      },
      {
       "output_type": "stream",
       "stream": "stdout",
       "text": [
        "\n",
        "denovo54765\n",
        "denovo44378\n",
        "denovo44379"
       ]
      },
      {
       "output_type": "stream",
       "stream": "stdout",
       "text": [
        "\n",
        "denovo54760\n",
        "denovo54761"
       ]
      },
      {
       "output_type": "stream",
       "stream": "stdout",
       "text": [
        "\n",
        "denovo25999\n",
        "denovo25998"
       ]
      },
      {
       "output_type": "stream",
       "stream": "stdout",
       "text": [
        "\n",
        "denovo25997\n",
        "denovo25996\n",
        "denovo25995"
       ]
      },
      {
       "output_type": "stream",
       "stream": "stdout",
       "text": [
        "\n",
        "denovo25994\n",
        "denovo25993\n",
        "denovo25992"
       ]
      },
      {
       "output_type": "stream",
       "stream": "stdout",
       "text": [
        "\n",
        "denovo25991\n",
        "denovo25990\n",
        "denovo24918\n",
        "denovo57499"
       ]
      },
      {
       "output_type": "stream",
       "stream": "stdout",
       "text": [
        "\n",
        "denovo24919\n",
        "denovo57497\n",
        "denovo57496\n",
        "denovo57495"
       ]
      },
      {
       "output_type": "stream",
       "stream": "stdout",
       "text": [
        "\n",
        "denovo57494\n",
        "denovo57493\n",
        "denovo57492\n",
        "denovo57491"
       ]
      },
      {
       "output_type": "stream",
       "stream": "stdout",
       "text": [
        "\n",
        "denovo57490\n",
        "denovo46208\n",
        "denovo46209\n",
        "denovo56728"
       ]
      },
      {
       "output_type": "stream",
       "stream": "stdout",
       "text": [
        "\n",
        "denovo56729\n",
        "denovo46204\n",
        "denovo46205\n",
        "denovo46206"
       ]
      },
      {
       "output_type": "stream",
       "stream": "stdout",
       "text": [
        "\n",
        "denovo46207\n",
        "denovo46200\n",
        "denovo46201\n",
        "denovo46202"
       ]
      },
      {
       "output_type": "stream",
       "stream": "stdout",
       "text": [
        "\n",
        "denovo46203\n",
        "denovo27591\n",
        "denovo27590\n",
        "denovo27593"
       ]
      },
      {
       "output_type": "stream",
       "stream": "stdout",
       "text": [
        "\n",
        "denovo27592\n",
        "denovo27595\n",
        "denovo27594\n",
        "denovo27597"
       ]
      },
      {
       "output_type": "stream",
       "stream": "stdout",
       "text": [
        "\n",
        "denovo27596\n",
        "denovo27599\n",
        "denovo27598\n",
        "denovo40947"
       ]
      },
      {
       "output_type": "stream",
       "stream": "stdout",
       "text": [
        "\n",
        "denovo40946\n",
        "denovo40941\n",
        "denovo40940\n",
        "denovo10049"
       ]
      },
      {
       "output_type": "stream",
       "stream": "stdout",
       "text": [
        "\n",
        "denovo10048\n",
        "denovo40943\n",
        "denovo10041\n",
        "denovo10040"
       ]
      },
      {
       "output_type": "stream",
       "stream": "stdout",
       "text": [
        "\n",
        "denovo10043\n",
        "denovo10042\n",
        "denovo10045"
       ]
      },
      {
       "output_type": "stream",
       "stream": "stdout",
       "text": [
        "\n",
        "denovo10044\n",
        "denovo10047"
       ]
      },
      {
       "output_type": "stream",
       "stream": "stdout",
       "text": [
        "\n",
        "denovo10046\n",
        "denovo13538\n",
        "denovo13539"
       ]
      },
      {
       "output_type": "stream",
       "stream": "stdout",
       "text": [
        "\n",
        "denovo13530\n",
        "denovo13531\n",
        "denovo13532"
       ]
      },
      {
       "output_type": "stream",
       "stream": "stdout",
       "text": [
        "\n",
        "denovo13533\n",
        "denovo13534\n",
        "denovo13535"
       ]
      },
      {
       "output_type": "stream",
       "stream": "stdout",
       "text": [
        "\n",
        "denovo13536\n",
        "denovo13537\n",
        "denovo39669\n",
        "denovo48222"
       ]
      },
      {
       "output_type": "stream",
       "stream": "stdout",
       "text": [
        "\n",
        "denovo50694\n",
        "denovo57239\n",
        "denovo57238\n",
        "denovo54534"
       ]
      },
      {
       "output_type": "stream",
       "stream": "stdout",
       "text": [
        "\n",
        "denovo57233\n",
        "denovo57232\n",
        "denovo57231\n",
        "denovo57230"
       ]
      },
      {
       "output_type": "stream",
       "stream": "stdout",
       "text": [
        "\n",
        "denovo57237\n",
        "denovo50696\n",
        "denovo57235\n",
        "denovo57234"
       ]
      },
      {
       "output_type": "stream",
       "stream": "stdout",
       "text": [
        "\n",
        "denovo20539\n",
        "denovo54531\n",
        "denovo50691\n",
        "denovo36838"
       ]
      },
      {
       "output_type": "stream",
       "stream": "stdout",
       "text": [
        "\n",
        "denovo44942\n",
        "denovo50692\n",
        "denovo7951\n",
        "denovo50693"
       ]
      },
      {
       "output_type": "stream",
       "stream": "stdout",
       "text": [
        "\n",
        "denovo3551\n",
        "denovo47553\n",
        "denovo47552\n",
        "denovo47551"
       ]
      },
      {
       "output_type": "stream",
       "stream": "stdout",
       "text": [
        "\n",
        "denovo47550\n",
        "denovo47557\n",
        "denovo47556\n",
        "denovo47555\n",
        "denovo47554"
       ]
      },
      {
       "output_type": "stream",
       "stream": "stdout",
       "text": [
        "\n",
        "denovo47559\n",
        "denovo47558\n",
        "denovo44062\n",
        "denovo41011\n",
        "denovo50698"
       ]
      },
      {
       "output_type": "stream",
       "stream": "stdout",
       "text": [
        "\n",
        "denovo44060\n",
        "denovo50699\n",
        "denovo7958\n",
        "denovo44061"
       ]
      },
      {
       "output_type": "stream",
       "stream": "stdout",
       "text": [
        "\n",
        "denovo7959\n",
        "denovo44066\n",
        "denovo44067\n",
        "denovo42002"
       ]
      },
      {
       "output_type": "stream",
       "stream": "stdout",
       "text": [
        "\n",
        "denovo42003\n",
        "denovo42000\n",
        "denovo42001\n",
        "denovo42006"
       ]
      },
      {
       "output_type": "stream",
       "stream": "stdout",
       "text": [
        "\n",
        "denovo42007\n",
        "denovo42004\n",
        "denovo42005"
       ]
      },
      {
       "output_type": "stream",
       "stream": "stdout",
       "text": [
        "\n",
        "denovo42008\n",
        "denovo42009"
       ]
      },
      {
       "output_type": "stream",
       "stream": "stdout",
       "text": [
        "\n",
        "denovo53804\n",
        "denovo53805"
       ]
      },
      {
       "output_type": "stream",
       "stream": "stdout",
       "text": [
        "\n",
        "denovo53806\n",
        "denovo53807\n",
        "denovo53800\n",
        "denovo53801"
       ]
      },
      {
       "output_type": "stream",
       "stream": "stdout",
       "text": [
        "\n",
        "denovo53802\n",
        "denovo53803\n",
        "denovo14003\n",
        "denovo53808"
       ]
      },
      {
       "output_type": "stream",
       "stream": "stdout",
       "text": [
        "\n",
        "denovo53809\n",
        "denovo38969\n",
        "denovo17097\n",
        "denovo17096"
       ]
      },
      {
       "output_type": "stream",
       "stream": "stdout",
       "text": [
        "\n",
        "denovo17095\n",
        "denovo17094\n",
        "denovo17093\n",
        "denovo17092"
       ]
      },
      {
       "output_type": "stream",
       "stream": "stdout",
       "text": [
        "\n",
        "denovo17091\n",
        "denovo17090\n",
        "denovo3618\n",
        "denovo32811"
       ]
      },
      {
       "output_type": "stream",
       "stream": "stdout",
       "text": [
        "\n",
        "denovo17099\n",
        "denovo17098\n",
        "denovo36254\n",
        "denovo10558"
       ]
      },
      {
       "output_type": "stream",
       "stream": "stdout",
       "text": [
        "\n",
        "denovo17329\n",
        "denovo17328\n",
        "denovo3556\n",
        "denovo17321"
       ]
      },
      {
       "output_type": "stream",
       "stream": "stdout",
       "text": [
        "\n",
        "denovo17320\n",
        "denovo17323\n",
        "denovo17322\n",
        "denovo17325"
       ]
      },
      {
       "output_type": "stream",
       "stream": "stdout",
       "text": [
        "\n",
        "denovo17324\n",
        "denovo17327\n",
        "denovo17326\n",
        "denovo36255"
       ]
      },
      {
       "output_type": "stream",
       "stream": "stdout",
       "text": [
        "\n",
        "denovo17757\n",
        "denovo50251\n",
        "denovo36256\n",
        "denovo30036"
       ]
      },
      {
       "output_type": "stream",
       "stream": "stdout",
       "text": [
        "\n",
        "denovo30037\n",
        "denovo30034\n",
        "denovo30035\n",
        "denovo30032"
       ]
      },
      {
       "output_type": "stream",
       "stream": "stdout",
       "text": [
        "\n",
        "denovo30033\n",
        "denovo30030\n",
        "denovo30031\n",
        "denovo46781"
       ]
      },
      {
       "output_type": "stream",
       "stream": "stdout",
       "text": [
        "\n",
        "denovo46780\n",
        "denovo46783\n",
        "denovo46782\n",
        "denovo46785"
       ]
      },
      {
       "output_type": "stream",
       "stream": "stdout",
       "text": [
        "\n",
        "denovo46784\n",
        "denovo30038\n",
        "denovo30039\n",
        "denovo18560\n",
        "denovo55408"
       ]
      },
      {
       "output_type": "stream",
       "stream": "stdout",
       "text": [
        "\n",
        "denovo55409\n",
        "denovo55406\n",
        "denovo55407\n",
        "denovo55404\n",
        "denovo55405"
       ]
      },
      {
       "output_type": "stream",
       "stream": "stdout",
       "text": [
        "\n",
        "denovo55402\n",
        "denovo55403\n",
        "denovo55400\n",
        "denovo55401"
       ]
      },
      {
       "output_type": "stream",
       "stream": "stdout",
       "text": [
        "\n",
        "denovo14945\n",
        "denovo43661\n",
        "denovo43660\n",
        "denovo43663"
       ]
      },
      {
       "output_type": "stream",
       "stream": "stdout",
       "text": [
        "\n",
        "denovo43662\n",
        "denovo43665\n",
        "denovo43664\n",
        "denovo43667"
       ]
      },
      {
       "output_type": "stream",
       "stream": "stdout",
       "text": [
        "\n",
        "denovo43666\n",
        "denovo43669\n",
        "denovo43668\n",
        "denovo16058"
       ]
      },
      {
       "output_type": "stream",
       "stream": "stdout",
       "text": [
        "\n",
        "denovo16059\n",
        "denovo16050\n",
        "denovo16051\n",
        "denovo16052\n",
        "denovo16053"
       ]
      },
      {
       "output_type": "stream",
       "stream": "stdout",
       "text": [
        "\n",
        "denovo16054\n",
        "denovo16055\n",
        "denovo16056\n",
        "denovo16057"
       ]
      },
      {
       "output_type": "stream",
       "stream": "stdout",
       "text": [
        "\n",
        "denovo12753\n",
        "denovo32369\n",
        "denovo49177\n",
        "denovo49176\n",
        "denovo45849"
       ]
      },
      {
       "output_type": "stream",
       "stream": "stdout",
       "text": [
        "\n",
        "denovo45848\n",
        "denovo49173\n",
        "denovo49172\n",
        "denovo49171\n",
        "denovo49170\n",
        "denovo45843"
       ]
      },
      {
       "output_type": "stream",
       "stream": "stdout",
       "text": [
        "\n",
        "denovo45842\n",
        "denovo45841\n",
        "denovo45840\n",
        "denovo45847"
       ]
      },
      {
       "output_type": "stream",
       "stream": "stdout",
       "text": [
        "\n",
        "denovo45846\n",
        "denovo45845\n",
        "denovo45844\n",
        "denovo37565"
       ]
      },
      {
       "output_type": "stream",
       "stream": "stdout",
       "text": [
        "\n",
        "denovo37564\n",
        "denovo37567\n",
        "denovo37566\n",
        "denovo37561"
       ]
      },
      {
       "output_type": "stream",
       "stream": "stdout",
       "text": [
        "\n",
        "denovo37560\n",
        "denovo37563\n",
        "denovo37562\n",
        "denovo37569"
       ]
      },
      {
       "output_type": "stream",
       "stream": "stdout",
       "text": [
        "\n",
        "denovo37568\n",
        "denovo31819\n",
        "denovo31818\n",
        "denovo31817"
       ]
      },
      {
       "output_type": "stream",
       "stream": "stdout",
       "text": [
        "\n",
        "denovo31816\n",
        "denovo31815\n",
        "denovo31814\n",
        "denovo31813"
       ]
      },
      {
       "output_type": "stream",
       "stream": "stdout",
       "text": [
        "\n",
        "denovo31812\n",
        "denovo31811\n",
        "denovo31810\n",
        "denovo2269"
       ]
      },
      {
       "output_type": "stream",
       "stream": "stdout",
       "text": [
        "\n",
        "denovo2268\n",
        "denovo2261\n",
        "denovo2260\n",
        "denovo2263"
       ]
      },
      {
       "output_type": "stream",
       "stream": "stdout",
       "text": [
        "\n",
        "denovo2262\n",
        "denovo2265\n",
        "denovo2264\n",
        "denovo2267"
       ]
      },
      {
       "output_type": "stream",
       "stream": "stdout",
       "text": [
        "\n",
        "denovo2266\n",
        "denovo3459\n",
        "denovo6087\n",
        "denovo40310\n",
        "denovo40311"
       ]
      },
      {
       "output_type": "stream",
       "stream": "stdout",
       "text": [
        "\n",
        "denovo40312\n",
        "denovo40313\n",
        "denovo40314\n",
        "denovo40315"
       ]
      },
      {
       "output_type": "stream",
       "stream": "stdout",
       "text": [
        "\n",
        "denovo40316\n",
        "denovo40317\n",
        "denovo40318\n",
        "denovo40319"
       ]
      },
      {
       "output_type": "stream",
       "stream": "stdout",
       "text": [
        "\n",
        "denovo3458\n",
        "denovo12820\n",
        "denovo61311\n",
        "denovo61310"
       ]
      },
      {
       "output_type": "stream",
       "stream": "stdout",
       "text": [
        "\n",
        "denovo61313\n",
        "denovo61312\n",
        "denovo61315\n",
        "denovo61314"
       ]
      },
      {
       "output_type": "stream",
       "stream": "stdout",
       "text": [
        "\n",
        "denovo61317\n",
        "denovo61316\n",
        "denovo61319\n",
        "denovo61318\n",
        "denovo33716"
       ]
      },
      {
       "output_type": "stream",
       "stream": "stdout",
       "text": [
        "\n",
        "denovo33717\n",
        "denovo33714\n",
        "denovo33715\n",
        "denovo33712\n",
        "denovo33713"
       ]
      },
      {
       "output_type": "stream",
       "stream": "stdout",
       "text": [
        "\n",
        "denovo33710\n",
        "denovo33711\n",
        "denovo12752\n",
        "denovo50768"
       ]
      },
      {
       "output_type": "stream",
       "stream": "stdout",
       "text": [
        "\n",
        "denovo33718\n",
        "denovo33719\n",
        "denovo13241\n",
        "denovo20566"
       ]
      },
      {
       "output_type": "stream",
       "stream": "stdout",
       "text": [
        "\n",
        "denovo53664\n",
        "denovo43077\n",
        "denovo19963\n",
        "denovo36809"
       ]
      },
      {
       "output_type": "stream",
       "stream": "stdout",
       "text": [
        "\n",
        "denovo21737\n",
        "denovo1078\n",
        "denovo25664\n",
        "denovo62660\n",
        "denovo62661"
       ]
      },
      {
       "output_type": "stream",
       "stream": "stdout",
       "text": [
        "\n",
        "denovo62662\n",
        "denovo62663\n",
        "denovo62664\n",
        "denovo62665\n",
        "denovo62666"
       ]
      },
      {
       "output_type": "stream",
       "stream": "stdout",
       "text": [
        "\n",
        "denovo62667\n",
        "denovo62668\n",
        "denovo62669\n",
        "denovo45003\n",
        "denovo32045"
       ]
      },
      {
       "output_type": "stream",
       "stream": "stdout",
       "text": [
        "\n",
        "denovo32044\n",
        "denovo32047\n",
        "denovo32046\n",
        "denovo32041"
       ]
      },
      {
       "output_type": "stream",
       "stream": "stdout",
       "text": [
        "\n",
        "denovo21731\n",
        "denovo32043\n",
        "denovo32042\n",
        "denovo16448"
       ]
      },
      {
       "output_type": "stream",
       "stream": "stdout",
       "text": [
        "\n",
        "denovo32049\n",
        "denovo32048\n",
        "denovo19965\n",
        "denovo16447\n",
        "denovo16446"
       ]
      },
      {
       "output_type": "stream",
       "stream": "stdout",
       "text": [
        "\n",
        "denovo16445\n",
        "denovo16444\n",
        "denovo16443\n",
        "denovo19964\n",
        "denovo16442"
       ]
      },
      {
       "output_type": "stream",
       "stream": "stdout",
       "text": [
        "\n",
        "denovo16441\n",
        "denovo16440\n",
        "denovo263\n",
        "denovo19967"
       ]
      },
      {
       "output_type": "stream",
       "stream": "stdout",
       "text": [
        "\n",
        "denovo14007\n",
        "denovo19966\n",
        "denovo44949\n",
        "denovo38286\n",
        "denovo57427"
       ]
      },
      {
       "output_type": "stream",
       "stream": "stdout",
       "text": [
        "\n",
        "denovo35909\n",
        "denovo35908\n",
        "denovo35901\n",
        "denovo35900\n",
        "denovo35903"
       ]
      },
      {
       "output_type": "stream",
       "stream": "stdout",
       "text": [
        "\n",
        "denovo35902\n",
        "denovo35905\n",
        "denovo35904\n",
        "denovo35907"
       ]
      },
      {
       "output_type": "stream",
       "stream": "stdout",
       "text": [
        "\n",
        "denovo35906\n",
        "denovo19679\n",
        "denovo19678"
       ]
      },
      {
       "output_type": "stream",
       "stream": "stdout",
       "text": [
        "\n",
        "denovo31028\n",
        "denovo31029"
       ]
      },
      {
       "output_type": "stream",
       "stream": "stdout",
       "text": [
        "\n",
        "denovo19675\n",
        "denovo19674\n",
        "denovo19677"
       ]
      },
      {
       "output_type": "stream",
       "stream": "stdout",
       "text": [
        "\n",
        "denovo19676\n",
        "denovo19671\n",
        "denovo19670"
       ]
      },
      {
       "output_type": "stream",
       "stream": "stdout",
       "text": [
        "\n",
        "denovo19673\n",
        "denovo19672\n",
        "denovo42415\n",
        "denovo19327"
       ]
      },
      {
       "output_type": "stream",
       "stream": "stdout",
       "text": [
        "\n",
        "denovo14006\n",
        "denovo44432\n",
        "denovo19326\n",
        "denovo38887"
       ]
      },
      {
       "output_type": "stream",
       "stream": "stdout",
       "text": [
        "\n",
        "denovo38886\n",
        "denovo38885\n",
        "denovo38884\n",
        "denovo38883"
       ]
      },
      {
       "output_type": "stream",
       "stream": "stdout",
       "text": [
        "\n",
        "denovo38882\n",
        "denovo38881\n",
        "denovo29255\n",
        "denovo10843"
       ]
      },
      {
       "output_type": "stream",
       "stream": "stdout",
       "text": [
        "\n",
        "denovo38889\n",
        "denovo38888\n",
        "denovo33243\n",
        "denovo29250"
       ]
      },
      {
       "output_type": "stream",
       "stream": "stdout",
       "text": [
        "\n",
        "denovo29251\n",
        "denovo18078\n",
        "denovo18079\n",
        "denovo18074"
       ]
      },
      {
       "output_type": "stream",
       "stream": "stdout",
       "text": [
        "\n",
        "denovo18075\n",
        "denovo18076\n",
        "denovo18077\n",
        "denovo18070"
       ]
      },
      {
       "output_type": "stream",
       "stream": "stdout",
       "text": [
        "\n",
        "denovo18071\n",
        "denovo18072\n",
        "denovo18073\n",
        "denovo19324"
       ]
      },
      {
       "output_type": "stream",
       "stream": "stdout",
       "text": [
        "\n",
        "denovo33249\n",
        "denovo20909\n",
        "denovo20908\n",
        "denovo20907"
       ]
      },
      {
       "output_type": "stream",
       "stream": "stdout",
       "text": [
        "\n",
        "denovo20906\n",
        "denovo20905\n",
        "denovo20904\n",
        "denovo20903"
       ]
      },
      {
       "output_type": "stream",
       "stream": "stdout",
       "text": [
        "\n",
        "denovo20902\n",
        "denovo20901\n",
        "denovo20900\n",
        "denovo27861\n",
        "denovo30379"
       ]
      },
      {
       "output_type": "stream",
       "stream": "stdout",
       "text": [
        "\n",
        "denovo30378\n",
        "denovo27860\n",
        "denovo30375\n",
        "denovo30374\n",
        "denovo30377"
       ]
      },
      {
       "output_type": "stream",
       "stream": "stdout",
       "text": [
        "\n",
        "denovo30376\n",
        "denovo30371\n",
        "denovo30370\n",
        "denovo30373"
       ]
      },
      {
       "output_type": "stream",
       "stream": "stdout",
       "text": [
        "\n",
        "denovo30372\n",
        "denovo27862\n",
        "denovo56528\n",
        "denovo56529\n",
        "denovo42414"
       ]
      },
      {
       "output_type": "stream",
       "stream": "stdout",
       "text": [
        "\n",
        "denovo56524\n",
        "denovo56525\n",
        "denovo56526\n",
        "denovo56527"
       ]
      },
      {
       "output_type": "stream",
       "stream": "stdout",
       "text": [
        "\n",
        "denovo56520\n",
        "denovo56521\n",
        "denovo56522\n",
        "denovo56523\n",
        "denovo27867"
       ]
      },
      {
       "output_type": "stream",
       "stream": "stdout",
       "text": [
        "\n",
        "denovo43447\n",
        "denovo19321\n",
        "denovo43508\n",
        "denovo43509\n",
        "denovo10209"
       ]
      },
      {
       "output_type": "stream",
       "stream": "stdout",
       "text": [
        "\n",
        "denovo10208\n",
        "denovo10207\n",
        "denovo10206\n",
        "denovo10205\n",
        "denovo10204"
       ]
      },
      {
       "output_type": "stream",
       "stream": "stdout",
       "text": [
        "\n",
        "denovo10203\n",
        "denovo10202\n",
        "denovo10201\n",
        "denovo10200"
       ]
      },
      {
       "output_type": "stream",
       "stream": "stdout",
       "text": [
        "\n",
        "denovo14188\n",
        "denovo14189\n",
        "denovo56294"
       ]
      },
      {
       "output_type": "stream",
       "stream": "stdout",
       "text": [
        "\n",
        "denovo56295\n",
        "denovo56292"
       ]
      },
      {
       "output_type": "stream",
       "stream": "stdout",
       "text": [
        "\n",
        "denovo56293\n",
        "denovo56290\n",
        "denovo56291"
       ]
      },
      {
       "output_type": "stream",
       "stream": "stdout",
       "text": [
        "\n",
        "denovo14180\n",
        "denovo14181\n",
        "denovo14182"
       ]
      },
      {
       "output_type": "stream",
       "stream": "stdout",
       "text": [
        "\n",
        "denovo14183\n",
        "denovo14184\n",
        "denovo14185\n",
        "denovo14186"
       ]
      },
      {
       "output_type": "stream",
       "stream": "stdout",
       "text": [
        "\n",
        "denovo14187\n",
        "denovo34472\n",
        "denovo61878"
       ]
      },
      {
       "output_type": "stream",
       "stream": "stdout",
       "text": [
        "\n",
        "denovo61879\n",
        "denovo34473\n",
        "denovo61874\n",
        "denovo61875"
       ]
      },
      {
       "output_type": "stream",
       "stream": "stdout",
       "text": [
        "\n",
        "denovo61876\n",
        "denovo61877\n",
        "denovo61870\n",
        "denovo38791"
       ]
      },
      {
       "output_type": "stream",
       "stream": "stdout",
       "text": [
        "\n",
        "denovo61872\n",
        "denovo61873\n",
        "denovo15583\n",
        "denovo15582"
       ]
      },
      {
       "output_type": "stream",
       "stream": "stdout",
       "text": [
        "\n",
        "denovo15581\n",
        "denovo15580\n",
        "denovo15587\n",
        "denovo15586"
       ]
      },
      {
       "output_type": "stream",
       "stream": "stdout",
       "text": [
        "\n",
        "denovo15585\n",
        "denovo15584\n",
        "denovo38797\n",
        "denovo15589"
       ]
      },
      {
       "output_type": "stream",
       "stream": "stdout",
       "text": [
        "\n",
        "denovo15588\n",
        "denovo34477\n",
        "denovo14232\n",
        "denovo14233"
       ]
      },
      {
       "output_type": "stream",
       "stream": "stdout",
       "text": [
        "\n",
        "denovo14230\n",
        "denovo14231\n",
        "denovo14236\n",
        "denovo14237"
       ]
      },
      {
       "output_type": "stream",
       "stream": "stdout",
       "text": [
        "\n",
        "denovo14234\n",
        "denovo14235\n",
        "denovo14238\n",
        "denovo14239"
       ]
      },
      {
       "output_type": "stream",
       "stream": "stdout",
       "text": [
        "\n",
        "denovo58261\n",
        "denovo58260\n",
        "denovo58263\n",
        "denovo58262"
       ]
      },
      {
       "output_type": "stream",
       "stream": "stdout",
       "text": [
        "\n",
        "denovo58265\n",
        "denovo58264\n",
        "denovo58267\n",
        "denovo58266"
       ]
      },
      {
       "output_type": "stream",
       "stream": "stdout",
       "text": [
        "\n",
        "denovo58269\n",
        "denovo58268\n",
        "denovo34478\n",
        "denovo27539"
       ]
      },
      {
       "output_type": "stream",
       "stream": "stdout",
       "text": [
        "\n",
        "denovo38798\n",
        "denovo33758\n",
        "denovo26996\n",
        "denovo26997"
       ]
      },
      {
       "output_type": "stream",
       "stream": "stdout",
       "text": [
        "\n",
        "denovo26994\n",
        "denovo26995"
       ]
      },
      {
       "output_type": "stream",
       "stream": "stdout",
       "text": [
        "\n",
        "denovo26992\n",
        "denovo26993\n",
        "denovo26990"
       ]
      },
      {
       "output_type": "stream",
       "stream": "stdout",
       "text": [
        "\n",
        "denovo26991\n",
        "denovo26998\n",
        "denovo26999\n",
        "denovo1862"
       ]
      },
      {
       "output_type": "stream",
       "stream": "stdout",
       "text": [
        "\n",
        "denovo1863\n",
        "denovo1860\n",
        "denovo22674\n",
        "denovo22673"
       ]
      },
      {
       "output_type": "stream",
       "stream": "stdout",
       "text": [
        "\n",
        "denovo22672\n",
        "denovo22671\n",
        "denovo22670\n",
        "denovo27477"
       ]
      },
      {
       "output_type": "stream",
       "stream": "stdout",
       "text": [
        "\n",
        "denovo1868\n",
        "denovo1869\n",
        "denovo22679\n",
        "denovo22678"
       ]
      },
      {
       "output_type": "stream",
       "stream": "stdout",
       "text": [
        "\n",
        "denovo34066\n",
        "denovo36023\n",
        "denovo36022\n",
        "denovo36021\n",
        "denovo36020"
       ]
      },
      {
       "output_type": "stream",
       "stream": "stdout",
       "text": [
        "\n",
        "denovo36027\n",
        "denovo36026\n",
        "denovo36025\n",
        "denovo36024"
       ]
      },
      {
       "output_type": "stream",
       "stream": "stdout",
       "text": [
        "\n",
        "denovo33756\n",
        "denovo36029\n",
        "denovo36028\n",
        "denovo36205\n",
        "denovo33757"
       ]
      },
      {
       "output_type": "stream",
       "stream": "stdout",
       "text": [
        "\n",
        "denovo36204\n",
        "denovo36203\n",
        "denovo38283\n",
        "denovo36202"
       ]
      },
      {
       "output_type": "stream",
       "stream": "stdout",
       "text": [
        "\n",
        "denovo58849\n",
        "denovo36201\n",
        "denovo58845\n",
        "denovo58844\n",
        "denovo58847"
       ]
      },
      {
       "output_type": "stream",
       "stream": "stdout",
       "text": [
        "\n",
        "denovo36200\n",
        "denovo58841\n",
        "denovo58840\n",
        "denovo58843\n",
        "denovo58842"
       ]
      },
      {
       "output_type": "stream",
       "stream": "stdout",
       "text": [
        "\n",
        "denovo12177\n",
        "denovo12176\n",
        "denovo12175\n",
        "denovo12174"
       ]
      },
      {
       "output_type": "stream",
       "stream": "stdout",
       "text": [
        "\n",
        "denovo12173\n",
        "denovo12172\n",
        "denovo12171\n",
        "denovo12170"
       ]
      },
      {
       "output_type": "stream",
       "stream": "stdout",
       "text": [
        "\n",
        "denovo19329\n",
        "denovo12179\n",
        "denovo12178\n",
        "denovo20297"
       ]
      },
      {
       "output_type": "stream",
       "stream": "stdout",
       "text": [
        "\n",
        "denovo20296\n",
        "denovo20295\n",
        "denovo20294\n",
        "denovo20293"
       ]
      },
      {
       "output_type": "stream",
       "stream": "stdout",
       "text": [
        "\n",
        "denovo20292\n",
        "denovo20291\n",
        "denovo17528"
       ]
      },
      {
       "output_type": "stream",
       "stream": "stdout",
       "text": [
        "\n",
        "denovo17527\n",
        "denovo17526"
       ]
      },
      {
       "output_type": "stream",
       "stream": "stdout",
       "text": [
        "\n",
        "denovo17525\n",
        "denovo17524\n",
        "denovo17523"
       ]
      },
      {
       "output_type": "stream",
       "stream": "stdout",
       "text": [
        "\n",
        "denovo17522\n",
        "denovo20299\n",
        "denovo17520"
       ]
      },
      {
       "output_type": "stream",
       "stream": "stdout",
       "text": [
        "\n",
        "denovo45744\n",
        "denovo26425\n",
        "denovo45745\n",
        "denovo51406"
       ]
      },
      {
       "output_type": "stream",
       "stream": "stdout",
       "text": [
        "\n",
        "denovo45746\n",
        "denovo26423\n",
        "denovo39457\n",
        "denovo46362"
       ]
      },
      {
       "output_type": "stream",
       "stream": "stdout",
       "text": [
        "\n",
        "denovo45747\n",
        "denovo51404\n",
        "denovo51877\n",
        "denovo45740"
       ]
      },
      {
       "output_type": "stream",
       "stream": "stdout",
       "text": [
        "\n",
        "denovo26421\n",
        "denovo39455\n",
        "denovo45741\n",
        "denovo20129"
       ]
      },
      {
       "output_type": "stream",
       "stream": "stdout",
       "text": [
        "\n",
        "denovo20128\n",
        "denovo28736\n",
        "denovo28737\n",
        "denovo28730"
       ]
      },
      {
       "output_type": "stream",
       "stream": "stdout",
       "text": [
        "\n",
        "denovo28731\n",
        "denovo28732\n",
        "denovo28733"
       ]
      },
      {
       "output_type": "stream",
       "stream": "stdout",
       "text": [
        "\n",
        "denovo20121\n",
        "denovo20120\n",
        "denovo20123"
       ]
      },
      {
       "output_type": "stream",
       "stream": "stdout",
       "text": [
        "\n",
        "denovo20122\n",
        "denovo20125"
       ]
      },
      {
       "output_type": "stream",
       "stream": "stdout",
       "text": [
        "\n",
        "denovo20124\n",
        "denovo20127\n",
        "denovo20126"
       ]
      },
      {
       "output_type": "stream",
       "stream": "stdout",
       "text": [
        "\n",
        "denovo24639\n",
        "denovo24638\n",
        "denovo55988"
       ]
      },
      {
       "output_type": "stream",
       "stream": "stdout",
       "text": [
        "\n",
        "denovo51876\n",
        "denovo24631\n",
        "denovo24630"
       ]
      },
      {
       "output_type": "stream",
       "stream": "stdout",
       "text": [
        "\n",
        "denovo24633\n",
        "denovo24632\n",
        "denovo24635"
       ]
      },
      {
       "output_type": "stream",
       "stream": "stdout",
       "text": [
        "\n",
        "denovo24634\n",
        "denovo24637\n",
        "denovo24636\n",
        "denovo35592"
       ]
      },
      {
       "output_type": "stream",
       "stream": "stdout",
       "text": [
        "\n",
        "denovo35593\n",
        "denovo35590\n",
        "denovo35591\n",
        "denovo35596"
       ]
      },
      {
       "output_type": "stream",
       "stream": "stdout",
       "text": [
        "\n",
        "denovo35597\n",
        "denovo35594\n",
        "denovo35595\n",
        "denovo35598"
       ]
      },
      {
       "output_type": "stream",
       "stream": "stdout",
       "text": [
        "\n",
        "denovo35599\n",
        "denovo27479\n",
        "denovo38142\n",
        "denovo38143\n",
        "denovo38140"
       ]
      },
      {
       "output_type": "stream",
       "stream": "stdout",
       "text": [
        "\n",
        "denovo38141\n",
        "denovo38146\n",
        "denovo38147\n",
        "denovo38144\n",
        "denovo38145"
       ]
      },
      {
       "output_type": "stream",
       "stream": "stdout",
       "text": [
        "\n",
        "denovo7833\n",
        "denovo7832\n",
        "denovo38148\n",
        "denovo38149"
       ]
      },
      {
       "output_type": "stream",
       "stream": "stdout",
       "text": [
        "\n",
        "denovo7837\n",
        "denovo7836\n",
        "denovo7835\n",
        "denovo7834"
       ]
      },
      {
       "output_type": "stream",
       "stream": "stdout",
       "text": [
        "\n",
        "denovo47972\n",
        "denovo59653\n",
        "denovo59652\n",
        "denovo46811\n",
        "denovo46810"
       ]
      },
      {
       "output_type": "stream",
       "stream": "stdout",
       "text": [
        "\n",
        "denovo46813\n",
        "denovo46812\n",
        "denovo46815\n",
        "denovo46814"
       ]
      },
      {
       "output_type": "stream",
       "stream": "stdout",
       "text": [
        "\n",
        "denovo46817\n",
        "denovo46816\n",
        "denovo46819\n",
        "denovo46818\n",
        "denovo47976"
       ]
      },
      {
       "output_type": "stream",
       "stream": "stdout",
       "text": [
        "\n",
        "denovo35044\n",
        "denovo35045\n",
        "denovo35046\n",
        "denovo35047"
       ]
      },
      {
       "output_type": "stream",
       "stream": "stdout",
       "text": [
        "\n",
        "denovo35040\n",
        "denovo35041\n",
        "denovo16698\n",
        "denovo16699"
       ]
      },
      {
       "output_type": "stream",
       "stream": "stdout",
       "text": [
        "\n",
        "denovo16696\n",
        "denovo16697\n",
        "denovo16694\n",
        "denovo16695\n",
        "denovo16692"
       ]
      },
      {
       "output_type": "stream",
       "stream": "stdout",
       "text": [
        "\n",
        "denovo16693\n",
        "denovo16690\n",
        "denovo16691\n",
        "denovo47456"
       ]
      },
      {
       "output_type": "stream",
       "stream": "stdout",
       "text": [
        "\n",
        "denovo50826\n",
        "denovo31099\n",
        "denovo47457\n",
        "denovo31098"
       ]
      },
      {
       "output_type": "stream",
       "stream": "stdout",
       "text": [
        "\n",
        "denovo53617\n",
        "denovo5570\n",
        "denovo31097\n",
        "denovo29069"
       ]
      },
      {
       "output_type": "stream",
       "stream": "stdout",
       "text": [
        "\n",
        "denovo29068\n",
        "denovo5574\n",
        "denovo5575\n",
        "denovo5576"
       ]
      },
      {
       "output_type": "stream",
       "stream": "stdout",
       "text": [
        "\n",
        "denovo31096\n",
        "denovo29063\n",
        "denovo29062\n",
        "denovo29061\n",
        "denovo29060"
       ]
      },
      {
       "output_type": "stream",
       "stream": "stdout",
       "text": [
        "\n",
        "denovo29067\n",
        "denovo29066\n",
        "denovo29065\n",
        "denovo29064"
       ]
      },
      {
       "output_type": "stream",
       "stream": "stdout",
       "text": [
        "\n",
        "denovo21658\n",
        "denovo21659\n",
        "denovo9406\n",
        "denovo31094"
       ]
      },
      {
       "output_type": "stream",
       "stream": "stdout",
       "text": [
        "\n",
        "denovo9400\n",
        "denovo53613\n",
        "denovo9402\n",
        "denovo9403"
       ]
      },
      {
       "output_type": "stream",
       "stream": "stdout",
       "text": [
        "\n",
        "denovo21650\n",
        "denovo21651\n",
        "denovo21652\n",
        "denovo21653\n",
        "denovo21654"
       ]
      },
      {
       "output_type": "stream",
       "stream": "stdout",
       "text": [
        "\n",
        "denovo21655\n",
        "denovo21656\n",
        "denovo21657\n",
        "denovo31091\n",
        "denovo31090"
       ]
      },
      {
       "output_type": "stream",
       "stream": "stdout",
       "text": [
        "\n",
        "denovo357\n",
        "denovo53619\n",
        "denovo20079\n",
        "denovo53618"
       ]
      },
      {
       "output_type": "stream",
       "stream": "stdout",
       "text": [
        "\n",
        "denovo20078\n",
        "denovo47458\n",
        "denovo47459\n",
        "denovo20073"
       ]
      },
      {
       "output_type": "stream",
       "stream": "stdout",
       "text": [
        "\n",
        "denovo34319\n",
        "denovo34318\n",
        "denovo20072\n",
        "denovo34313\n",
        "denovo34312"
       ]
      },
      {
       "output_type": "stream",
       "stream": "stdout",
       "text": [
        "\n",
        "denovo34311\n",
        "denovo34310\n",
        "denovo34317\n",
        "denovo34316"
       ]
      },
      {
       "output_type": "stream",
       "stream": "stdout",
       "text": [
        "\n",
        "denovo34315\n",
        "denovo34314\n",
        "denovo2711"
       ]
      },
      {
       "output_type": "stream",
       "stream": "stdout",
       "text": [
        "\n",
        "denovo2710\n",
        "denovo2713\n",
        "denovo2712"
       ]
      },
      {
       "output_type": "stream",
       "stream": "stdout",
       "text": [
        "\n",
        "denovo2715\n",
        "denovo2714"
       ]
      },
      {
       "output_type": "stream",
       "stream": "stdout",
       "text": [
        "\n",
        "denovo2717\n",
        "denovo2716"
       ]
      },
      {
       "output_type": "stream",
       "stream": "stdout",
       "text": [
        "\n",
        "denovo2719\n",
        "denovo26566\n",
        "denovo26565"
       ]
      },
      {
       "output_type": "stream",
       "stream": "stdout",
       "text": [
        "\n",
        "denovo26564\n",
        "denovo26563\n",
        "denovo26562\n",
        "denovo26561\n",
        "denovo26560"
       ]
      },
      {
       "output_type": "stream",
       "stream": "stdout",
       "text": [
        "\n",
        "denovo6001\n",
        "denovo6000\n",
        "denovo6003\n",
        "denovo6002"
       ]
      },
      {
       "output_type": "stream",
       "stream": "stdout",
       "text": [
        "\n",
        "denovo6005\n",
        "denovo6004\n",
        "denovo6007\n",
        "denovo6006"
       ]
      },
      {
       "output_type": "stream",
       "stream": "stdout",
       "text": [
        "\n",
        "denovo6009\n",
        "denovo6008\n",
        "denovo24989\n",
        "denovo46425"
       ]
      },
      {
       "output_type": "stream",
       "stream": "stdout",
       "text": [
        "\n",
        "denovo24988\n",
        "denovo50458\n",
        "denovo50459\n",
        "denovo50456"
       ]
      },
      {
       "output_type": "stream",
       "stream": "stdout",
       "text": [
        "\n",
        "denovo50457\n",
        "denovo50454\n",
        "denovo50455\n",
        "denovo50452"
       ]
      },
      {
       "output_type": "stream",
       "stream": "stdout",
       "text": [
        "\n",
        "denovo50453\n",
        "denovo50450\n",
        "denovo50451\n",
        "denovo24983"
       ]
      },
      {
       "output_type": "stream",
       "stream": "stdout",
       "text": [
        "\n",
        "denovo24982\n",
        "denovo24981\n",
        "denovo24980\n",
        "denovo18971\n",
        "denovo24986"
       ]
      },
      {
       "output_type": "stream",
       "stream": "stdout",
       "text": [
        "\n",
        "denovo18973\n",
        "denovo18972\n",
        "denovo26389\n",
        "denovo26388"
       ]
      },
      {
       "output_type": "stream",
       "stream": "stdout",
       "text": [
        "\n",
        "denovo26383\n",
        "denovo26382"
       ]
      },
      {
       "output_type": "stream",
       "stream": "stdout",
       "text": [
        "\n",
        "denovo26381\n",
        "denovo26380"
       ]
      },
      {
       "output_type": "stream",
       "stream": "stdout",
       "text": [
        "\n",
        "denovo26387\n",
        "denovo26386\n",
        "denovo26385"
       ]
      },
      {
       "output_type": "stream",
       "stream": "stdout",
       "text": [
        "\n",
        "denovo26384\n",
        "denovo56889\n",
        "denovo56888\n",
        "denovo19125"
       ]
      },
      {
       "output_type": "stream",
       "stream": "stdout",
       "text": [
        "\n",
        "denovo56883\n",
        "denovo56882\n",
        "denovo56881\n",
        "denovo56880"
       ]
      },
      {
       "output_type": "stream",
       "stream": "stdout",
       "text": [
        "\n",
        "denovo56887\n",
        "denovo56886\n",
        "denovo56885\n",
        "denovo56884"
       ]
      },
      {
       "output_type": "stream",
       "stream": "stdout",
       "text": [
        "\n",
        "denovo44509\n",
        "denovo44508\n",
        "denovo4719\n",
        "denovo4718"
       ]
      },
      {
       "output_type": "stream",
       "stream": "stdout",
       "text": [
        "\n",
        "denovo19124\n",
        "denovo44501\n",
        "denovo44500\n",
        "denovo44503"
       ]
      },
      {
       "output_type": "stream",
       "stream": "stdout",
       "text": [
        "\n",
        "denovo44502\n",
        "denovo44505\n",
        "denovo44504\n",
        "denovo44507"
       ]
      },
      {
       "output_type": "stream",
       "stream": "stdout",
       "text": [
        "\n",
        "denovo44506\n",
        "denovo45678\n",
        "denovo45679\n",
        "denovo39412\n",
        "denovo14167"
       ]
      },
      {
       "output_type": "stream",
       "stream": "stdout",
       "text": [
        "\n",
        "denovo45670\n",
        "denovo45671\n",
        "denovo45672\n",
        "denovo45673\n",
        "denovo45674"
       ]
      },
      {
       "output_type": "stream",
       "stream": "stdout",
       "text": [
        "\n",
        "denovo45675\n",
        "denovo45676\n",
        "denovo45677\n",
        "denovo14165\n",
        "denovo45478"
       ]
      },
      {
       "output_type": "stream",
       "stream": "stdout",
       "text": [
        "\n",
        "denovo14162\n",
        "denovo14163\n",
        "denovo27380\n",
        "denovo27381\n",
        "denovo27382"
       ]
      },
      {
       "output_type": "stream",
       "stream": "stdout",
       "text": [
        "\n",
        "denovo27383\n",
        "denovo27384\n",
        "denovo27385\n",
        "denovo27386"
       ]
      },
      {
       "output_type": "stream",
       "stream": "stdout",
       "text": [
        "\n",
        "denovo27387\n",
        "denovo27388\n",
        "denovo27389\n",
        "denovo42909"
       ]
      },
      {
       "output_type": "stream",
       "stream": "stdout",
       "text": [
        "\n",
        "denovo42908\n",
        "denovo7064\n",
        "denovo7065"
       ]
      },
      {
       "output_type": "stream",
       "stream": "stdout",
       "text": [
        "\n",
        "denovo7066\n",
        "denovo7067"
       ]
      },
      {
       "output_type": "stream",
       "stream": "stdout",
       "text": [
        "\n",
        "denovo53105\n",
        "denovo53104\n",
        "denovo53107"
       ]
      },
      {
       "output_type": "stream",
       "stream": "stdout",
       "text": [
        "\n",
        "denovo53106\n",
        "denovo53101"
       ]
      },
      {
       "output_type": "stream",
       "stream": "stdout",
       "text": [
        "\n",
        "denovo53100\n",
        "denovo53103\n",
        "denovo53102"
       ]
      },
      {
       "output_type": "stream",
       "stream": "stdout",
       "text": [
        "\n",
        "denovo53109\n",
        "denovo53108\n",
        "denovo25881\n",
        "denovo14168"
       ]
      },
      {
       "output_type": "stream",
       "stream": "stdout",
       "text": [
        "\n",
        "denovo54587\n",
        "denovo47742\n",
        "denovo47743\n",
        "denovo47740"
       ]
      },
      {
       "output_type": "stream",
       "stream": "stdout",
       "text": [
        "\n",
        "denovo47741\n",
        "denovo31228\n",
        "denovo31229\n",
        "denovo47744"
       ]
      },
      {
       "output_type": "stream",
       "stream": "stdout",
       "text": [
        "\n",
        "denovo47745\n",
        "denovo31224\n",
        "denovo31225\n",
        "denovo31226"
       ]
      },
      {
       "output_type": "stream",
       "stream": "stdout",
       "text": [
        "\n",
        "denovo31227\n",
        "denovo31220\n",
        "denovo31221\n",
        "denovo31222\n",
        "denovo31223"
       ]
      },
      {
       "output_type": "stream",
       "stream": "stdout",
       "text": [
        "\n",
        "denovo45084\n",
        "denovo36800\n",
        "denovo49810\n",
        "denovo49811"
       ]
      },
      {
       "output_type": "stream",
       "stream": "stdout",
       "text": [
        "\n",
        "denovo49812\n",
        "denovo49813\n",
        "denovo49814\n",
        "denovo49815"
       ]
      },
      {
       "output_type": "stream",
       "stream": "stdout",
       "text": [
        "\n",
        "denovo49816\n",
        "denovo49817\n",
        "denovo49818\n",
        "denovo49819\n",
        "denovo6823"
       ]
      },
      {
       "output_type": "stream",
       "stream": "stdout",
       "text": [
        "\n",
        "denovo6822\n",
        "denovo6821\n",
        "denovo6820\n",
        "denovo6827"
       ]
      },
      {
       "output_type": "stream",
       "stream": "stdout",
       "text": [
        "\n",
        "denovo6826\n",
        "denovo6825\n",
        "denovo6824\n",
        "denovo6829"
       ]
      },
      {
       "output_type": "stream",
       "stream": "stdout",
       "text": [
        "\n",
        "denovo6828\n",
        "denovo31596\n",
        "denovo31597\n",
        "denovo31594"
       ]
      },
      {
       "output_type": "stream",
       "stream": "stdout",
       "text": [
        "\n",
        "denovo31595\n",
        "denovo31592\n",
        "denovo31593\n",
        "denovo31590"
       ]
      },
      {
       "output_type": "stream",
       "stream": "stdout",
       "text": [
        "\n",
        "denovo31591\n",
        "denovo31598\n",
        "denovo31599\n",
        "denovo13856\n",
        "denovo52768"
       ]
      },
      {
       "output_type": "stream",
       "stream": "stdout",
       "text": [
        "\n",
        "denovo52769\n",
        "denovo52766\n",
        "denovo52767\n",
        "denovo52764"
       ]
      },
      {
       "output_type": "stream",
       "stream": "stdout",
       "text": [
        "\n",
        "denovo52765\n",
        "denovo52762\n",
        "denovo52763\n",
        "denovo52760"
       ]
      },
      {
       "output_type": "stream",
       "stream": "stdout",
       "text": [
        "\n",
        "denovo52761\n",
        "denovo32089\n",
        "denovo55239\n",
        "denovo55238"
       ]
      },
      {
       "output_type": "stream",
       "stream": "stdout",
       "text": [
        "\n",
        "denovo32088\n",
        "denovo55235"
       ]
      },
      {
       "output_type": "stream",
       "stream": "stdout",
       "text": [
        "\n",
        "denovo55234\n",
        "denovo55237\n",
        "denovo55236"
       ]
      },
      {
       "output_type": "stream",
       "stream": "stdout",
       "text": [
        "\n",
        "denovo55231\n",
        "denovo55230\n",
        "denovo55233"
       ]
      },
      {
       "output_type": "stream",
       "stream": "stdout",
       "text": [
        "\n",
        "denovo55232\n",
        "denovo40431\n",
        "denovo40430"
       ]
      },
      {
       "output_type": "stream",
       "stream": "stdout",
       "text": [
        "\n",
        "denovo40433\n",
        "denovo40432\n",
        "denovo40435"
       ]
      },
      {
       "output_type": "stream",
       "stream": "stdout",
       "text": [
        "\n",
        "denovo40434\n",
        "denovo40437\n",
        "denovo40436\n",
        "denovo40439"
       ]
      },
      {
       "output_type": "stream",
       "stream": "stdout",
       "text": [
        "\n",
        "denovo40438\n",
        "denovo24533\n",
        "denovo48149\n",
        "denovo48148"
       ]
      },
      {
       "output_type": "stream",
       "stream": "stdout",
       "text": [
        "\n",
        "denovo48145\n",
        "denovo48144\n",
        "denovo48147\n",
        "denovo48146"
       ]
      },
      {
       "output_type": "stream",
       "stream": "stdout",
       "text": [
        "\n",
        "denovo48141\n",
        "denovo48140\n",
        "denovo48143\n",
        "denovo48142"
       ]
      },
      {
       "output_type": "stream",
       "stream": "stdout",
       "text": [
        "\n",
        "denovo30173\n",
        "denovo30172\n",
        "denovo30171\n",
        "denovo30170"
       ]
      },
      {
       "output_type": "stream",
       "stream": "stdout",
       "text": [
        "\n",
        "denovo30177\n",
        "denovo30176\n",
        "denovo30175\n",
        "denovo30174"
       ]
      },
      {
       "output_type": "stream",
       "stream": "stdout",
       "text": [
        "\n",
        "denovo30179\n",
        "denovo30178\n",
        "denovo30818"
       ]
      },
      {
       "output_type": "stream",
       "stream": "stdout",
       "text": [
        "\n",
        "denovo30819\n",
        "denovo19266\n",
        "denovo19267"
       ]
      },
      {
       "output_type": "stream",
       "stream": "stdout",
       "text": [
        "\n",
        "denovo19264\n",
        "denovo19265\n",
        "denovo19262\n",
        "denovo19263"
       ]
      },
      {
       "output_type": "stream",
       "stream": "stdout",
       "text": [
        "\n",
        "denovo19260\n",
        "denovo19261\n",
        "denovo24539\n",
        "denovo19268"
       ]
      },
      {
       "output_type": "stream",
       "stream": "stdout",
       "text": [
        "\n",
        "denovo19269\n",
        "denovo32622\n",
        "denovo38500\n",
        "denovo13852"
       ]
      },
      {
       "output_type": "stream",
       "stream": "stdout",
       "text": [
        "\n",
        "denovo46598\n",
        "denovo46599\n",
        "denovo546\n",
        "denovo46590"
       ]
      },
      {
       "output_type": "stream",
       "stream": "stdout",
       "text": [
        "\n",
        "denovo46591\n",
        "denovo46592\n",
        "denovo46593"
       ]
      },
      {
       "output_type": "stream",
       "stream": "stdout",
       "text": [
        "\n",
        "denovo46594\n",
        "denovo46595\n",
        "denovo46596"
       ]
      },
      {
       "output_type": "stream",
       "stream": "stdout",
       "text": [
        "\n",
        "denovo46597\n",
        "denovo37334\n",
        "denovo37335"
       ]
      },
      {
       "output_type": "stream",
       "stream": "stdout",
       "text": [
        "\n",
        "denovo37336\n",
        "denovo37337\n",
        "denovo37330"
       ]
      },
      {
       "output_type": "stream",
       "stream": "stdout",
       "text": [
        "\n",
        "denovo37331\n",
        "denovo37332\n",
        "denovo37333"
       ]
      },
      {
       "output_type": "stream",
       "stream": "stdout",
       "text": [
        "\n",
        "denovo40295\n",
        "denovo40294\n",
        "denovo40297\n",
        "denovo40296"
       ]
      },
      {
       "output_type": "stream",
       "stream": "stdout",
       "text": [
        "\n",
        "denovo37338\n",
        "denovo37339\n",
        "denovo40293\n",
        "denovo40292"
       ]
      },
      {
       "output_type": "stream",
       "stream": "stdout",
       "text": [
        "\n",
        "denovo54631\n",
        "denovo541\n",
        "denovo54636\n",
        "denovo540"
       ]
      },
      {
       "output_type": "stream",
       "stream": "stdout",
       "text": [
        "\n",
        "denovo27770\n",
        "denovo41740\n",
        "denovo41741\n",
        "denovo41742"
       ]
      },
      {
       "output_type": "stream",
       "stream": "stdout",
       "text": [
        "\n",
        "denovo41743\n",
        "denovo41744\n",
        "denovo41745\n",
        "denovo41746"
       ]
      },
      {
       "output_type": "stream",
       "stream": "stdout",
       "text": [
        "\n",
        "denovo41747\n",
        "denovo41748\n",
        "denovo41749\n",
        "denovo27772\n",
        "denovo102"
       ]
      },
      {
       "output_type": "stream",
       "stream": "stdout",
       "text": [
        "\n",
        "denovo38507\n",
        "denovo48071\n",
        "denovo48070\n",
        "denovo48073"
       ]
      },
      {
       "output_type": "stream",
       "stream": "stdout",
       "text": [
        "\n",
        "denovo25162\n",
        "denovo48072\n",
        "denovo25163\n",
        "denovo48075\n",
        "denovo45477"
       ]
      },
      {
       "output_type": "stream",
       "stream": "stdout",
       "text": [
        "\n",
        "denovo25160\n",
        "denovo48074\n",
        "denovo25885\n",
        "denovo25161\n",
        "denovo48077"
       ]
      },
      {
       "output_type": "stream",
       "stream": "stdout",
       "text": [
        "\n",
        "denovo25884\n",
        "denovo25166\n",
        "denovo48076\n",
        "denovo44402"
       ]
      },
      {
       "output_type": "stream",
       "stream": "stdout",
       "text": [
        "\n",
        "denovo25167\n",
        "denovo25886\n",
        "denovo25164\n",
        "denovo44404"
       ]
      },
      {
       "output_type": "stream",
       "stream": "stdout",
       "text": [
        "\n",
        "denovo25165\n",
        "denovo25880\n",
        "denovo44406\n",
        "denovo36410"
       ]
      },
      {
       "output_type": "stream",
       "stream": "stdout",
       "text": [
        "\n",
        "denovo44407\n",
        "denovo932\n",
        "denovo4638\n",
        "denovo930"
       ]
      },
      {
       "output_type": "stream",
       "stream": "stdout",
       "text": [
        "\n",
        "denovo931\n",
        "denovo936\n",
        "denovo937\n",
        "denovo934"
       ]
      },
      {
       "output_type": "stream",
       "stream": "stdout",
       "text": [
        "\n",
        "denovo4639\n",
        "denovo938\n",
        "denovo939\n",
        "denovo6330"
       ]
      },
      {
       "output_type": "stream",
       "stream": "stdout",
       "text": [
        "\n",
        "denovo5249\n",
        "denovo34101\n",
        "denovo5943\n",
        "denovo61500"
       ]
      },
      {
       "output_type": "stream",
       "stream": "stdout",
       "text": [
        "\n",
        "denovo61501\n",
        "denovo61502\n",
        "denovo46319\n",
        "denovo61504"
       ]
      },
      {
       "output_type": "stream",
       "stream": "stdout",
       "text": [
        "\n",
        "denovo61505\n",
        "denovo61506\n",
        "denovo61507\n",
        "denovo61508"
       ]
      },
      {
       "output_type": "stream",
       "stream": "stdout",
       "text": [
        "\n",
        "denovo61509\n",
        "denovo33525\n",
        "denovo33524\n",
        "denovo33527\n",
        "denovo33526"
       ]
      },
      {
       "output_type": "stream",
       "stream": "stdout",
       "text": [
        "\n",
        "denovo33521\n",
        "denovo33520\n",
        "denovo33523\n",
        "denovo33522\n",
        "denovo33529"
       ]
      },
      {
       "output_type": "stream",
       "stream": "stdout",
       "text": [
        "\n",
        "denovo33528\n",
        "denovo46312\n",
        "denovo2024\n",
        "denovo46313"
       ]
      },
      {
       "output_type": "stream",
       "stream": "stdout",
       "text": [
        "\n",
        "denovo2023\n",
        "denovo2022\n",
        "denovo2021\n",
        "denovo2020"
       ]
      },
      {
       "output_type": "stream",
       "stream": "stdout",
       "text": [
        "\n",
        "denovo21450\n",
        "denovo22317\n",
        "denovo2623\n",
        "denovo30959"
       ]
      },
      {
       "output_type": "stream",
       "stream": "stdout",
       "text": [
        "\n",
        "denovo30958\n",
        "denovo24439\n",
        "denovo24438\n",
        "denovo24437\n",
        "denovo24436"
       ]
      },
      {
       "output_type": "stream",
       "stream": "stdout",
       "text": [
        "\n",
        "denovo24435\n",
        "denovo24434\n",
        "denovo24433\n",
        "denovo24432"
       ]
      },
      {
       "output_type": "stream",
       "stream": "stdout",
       "text": [
        "\n",
        "denovo24431\n",
        "denovo24430\n",
        "denovo55617\n",
        "denovo56677"
       ]
      },
      {
       "output_type": "stream",
       "stream": "stdout",
       "text": [
        "\n",
        "denovo2029\n",
        "denovo55616\n",
        "denovo2028\n",
        "denovo3374"
       ]
      },
      {
       "output_type": "stream",
       "stream": "stdout",
       "text": [
        "\n",
        "denovo56672\n",
        "denovo3375\n",
        "denovo56673\n",
        "denovo42802"
       ]
      },
      {
       "output_type": "stream",
       "stream": "stdout",
       "text": [
        "\n",
        "denovo27486\n",
        "denovo8627\n",
        "denovo27485\n",
        "denovo24381\n",
        "denovo24380"
       ]
      },
      {
       "output_type": "stream",
       "stream": "stdout",
       "text": [
        "\n",
        "denovo24383\n",
        "denovo35209\n",
        "denovo24385\n",
        "denovo24384\n",
        "denovo24387"
       ]
      },
      {
       "output_type": "stream",
       "stream": "stdout",
       "text": [
        "\n",
        "denovo24386\n",
        "denovo24389\n",
        "denovo24388\n",
        "denovo35200\n",
        "denovo35201"
       ]
      },
      {
       "output_type": "stream",
       "stream": "stdout",
       "text": [
        "\n",
        "denovo35206\n",
        "denovo35207\n",
        "denovo35204\n",
        "denovo35205"
       ]
      },
      {
       "output_type": "stream",
       "stream": "stdout",
       "text": [
        "\n",
        "denovo50540\n",
        "denovo27481\n",
        "denovo50541\n",
        "denovo27480"
       ]
      },
      {
       "output_type": "stream",
       "stream": "stdout",
       "text": [
        "\n",
        "denovo50542\n",
        "denovo7594\n",
        "denovo48808\n",
        "denovo48809"
       ]
      },
      {
       "output_type": "stream",
       "stream": "stdout",
       "text": [
        "\n",
        "denovo50543\n",
        "denovo48800\n",
        "denovo48801\n",
        "denovo48802\n",
        "denovo48803"
       ]
      },
      {
       "output_type": "stream",
       "stream": "stdout",
       "text": [
        "\n",
        "denovo48804\n",
        "denovo48805\n",
        "denovo48806\n",
        "denovo48807"
       ]
      },
      {
       "output_type": "stream",
       "stream": "stdout",
       "text": [
        "\n",
        "denovo62369\n",
        "denovo62368\n",
        "denovo47562\n",
        "denovo50546"
       ]
      },
      {
       "output_type": "stream",
       "stream": "stdout",
       "text": [
        "\n",
        "denovo62361\n",
        "denovo62360\n",
        "denovo62363\n",
        "denovo62362"
       ]
      },
      {
       "output_type": "stream",
       "stream": "stdout",
       "text": [
        "\n",
        "denovo62365\n",
        "denovo62364\n",
        "denovo62367\n",
        "denovo62366\n",
        "denovo21309"
       ]
      },
      {
       "output_type": "stream",
       "stream": "stdout",
       "text": [
        "\n",
        "denovo16906\n",
        "denovo16907\n",
        "denovo16904\n",
        "denovo16905"
       ]
      },
      {
       "output_type": "stream",
       "stream": "stdout",
       "text": [
        "\n",
        "denovo16902\n",
        "denovo16903\n",
        "denovo16900\n",
        "denovo16901"
       ]
      },
      {
       "output_type": "stream",
       "stream": "stdout",
       "text": [
        "\n",
        "denovo16908\n",
        "denovo16909\n",
        "denovo58441\n",
        "denovo58440"
       ]
      },
      {
       "output_type": "stream",
       "stream": "stdout",
       "text": [
        "\n",
        "denovo58443\n",
        "denovo58442\n",
        "denovo58445\n",
        "denovo58444\n",
        "denovo58447"
       ]
      },
      {
       "output_type": "stream",
       "stream": "stdout",
       "text": [
        "\n",
        "denovo58446\n",
        "denovo58449\n",
        "denovo58448\n",
        "denovo38438\n",
        "denovo38439"
       ]
      },
      {
       "output_type": "stream",
       "stream": "stdout",
       "text": [
        "\n",
        "denovo38432\n",
        "denovo38433\n",
        "denovo38430"
       ]
      },
      {
       "output_type": "stream",
       "stream": "stdout",
       "text": [
        "\n",
        "denovo38431\n",
        "denovo38436\n",
        "denovo38437"
       ]
      },
      {
       "output_type": "stream",
       "stream": "stdout",
       "text": [
        "\n",
        "denovo38434\n",
        "denovo38435\n",
        "denovo946"
       ]
      },
      {
       "output_type": "stream",
       "stream": "stdout",
       "text": [
        "\n",
        "denovo5794\n",
        "denovo5795\n",
        "denovo8629\n",
        "denovo15288"
       ]
      },
      {
       "output_type": "stream",
       "stream": "stdout",
       "text": [
        "\n",
        "denovo15289\n",
        "denovo15284\n",
        "denovo15285\n",
        "denovo15286"
       ]
      },
      {
       "output_type": "stream",
       "stream": "stdout",
       "text": [
        "\n",
        "denovo15287\n",
        "denovo15280\n",
        "denovo15281\n",
        "denovo15282"
       ]
      },
      {
       "output_type": "stream",
       "stream": "stdout",
       "text": [
        "\n",
        "denovo15283\n",
        "denovo63018\n",
        "denovo63019\n",
        "denovo28683"
       ]
      },
      {
       "output_type": "stream",
       "stream": "stdout",
       "text": [
        "\n",
        "denovo40685\n",
        "denovo63010\n",
        "denovo63011\n",
        "denovo63012\n",
        "denovo63013"
       ]
      },
      {
       "output_type": "stream",
       "stream": "stdout",
       "text": [
        "\n",
        "denovo63014\n",
        "denovo63015\n",
        "denovo63016\n",
        "denovo63017\n",
        "denovo165"
       ]
      },
      {
       "output_type": "stream",
       "stream": "stdout",
       "text": [
        "\n",
        "denovo164\n",
        "denovo167\n",
        "denovo166\n",
        "denovo161"
       ]
      },
      {
       "output_type": "stream",
       "stream": "stdout",
       "text": [
        "\n",
        "denovo160\n",
        "denovo163\n",
        "denovo162\n",
        "denovo50614"
       ]
      },
      {
       "output_type": "stream",
       "stream": "stdout",
       "text": [
        "\n",
        "denovo50615\n",
        "denovo50616\n",
        "denovo50617\n",
        "denovo169"
       ]
      },
      {
       "output_type": "stream",
       "stream": "stdout",
       "text": [
        "\n",
        "denovo168\n",
        "denovo50612\n",
        "denovo50613\n",
        "denovo15621"
       ]
      },
      {
       "output_type": "stream",
       "stream": "stdout",
       "text": [
        "\n",
        "denovo57048\n",
        "denovo57049\n",
        "denovo57044\n",
        "denovo43575"
       ]
      },
      {
       "output_type": "stream",
       "stream": "stdout",
       "text": [
        "\n",
        "denovo57046\n",
        "denovo57047\n",
        "denovo57040\n",
        "denovo57041\n",
        "denovo57042"
       ]
      },
      {
       "output_type": "stream",
       "stream": "stdout",
       "text": [
        "\n",
        "denovo43574\n",
        "denovo21261\n",
        "denovo21260\n",
        "denovo21263"
       ]
      },
      {
       "output_type": "stream",
       "stream": "stdout",
       "text": [
        "\n",
        "denovo21262\n",
        "denovo21265\n",
        "denovo21264\n",
        "denovo21267"
       ]
      },
      {
       "output_type": "stream",
       "stream": "stdout",
       "text": [
        "\n",
        "denovo21266\n",
        "denovo21269\n",
        "denovo21268\n",
        "denovo43576\n",
        "denovo14889"
       ]
      },
      {
       "output_type": "stream",
       "stream": "stdout",
       "text": [
        "\n",
        "denovo14888\n",
        "denovo60668\n",
        "denovo60669\n",
        "denovo14881"
       ]
      },
      {
       "output_type": "stream",
       "stream": "stdout",
       "text": [
        "\n",
        "denovo14880\n",
        "denovo14883\n",
        "denovo14882\n",
        "denovo14885"
       ]
      },
      {
       "output_type": "stream",
       "stream": "stdout",
       "text": [
        "\n",
        "denovo14884\n",
        "denovo14887\n",
        "denovo14886\n",
        "denovo15428"
       ]
      },
      {
       "output_type": "stream",
       "stream": "stdout",
       "text": [
        "\n",
        "denovo15429\n",
        "denovo10418\n",
        "denovo10419\n",
        "denovo15420"
       ]
      },
      {
       "output_type": "stream",
       "stream": "stdout",
       "text": [
        "\n",
        "denovo15421\n",
        "denovo15422\n",
        "denovo15423\n",
        "denovo15424"
       ]
      },
      {
       "output_type": "stream",
       "stream": "stdout",
       "text": [
        "\n",
        "denovo15425\n",
        "denovo15426\n",
        "denovo15427\n",
        "denovo59479"
       ]
      },
      {
       "output_type": "stream",
       "stream": "stdout",
       "text": [
        "\n",
        "denovo59478\n",
        "denovo59477\n",
        "denovo59476\n",
        "denovo59475\n",
        "denovo59474"
       ]
      },
      {
       "output_type": "stream",
       "stream": "stdout",
       "text": [
        "\n",
        "denovo59473\n",
        "denovo59472\n",
        "denovo59471\n",
        "denovo59470"
       ]
      },
      {
       "output_type": "stream",
       "stream": "stdout",
       "text": [
        "\n",
        "denovo60598\n",
        "denovo60599\n",
        "denovo60594\n",
        "denovo60595\n",
        "denovo60596"
       ]
      },
      {
       "output_type": "stream",
       "stream": "stdout",
       "text": [
        "\n",
        "denovo60597\n",
        "denovo60590\n",
        "denovo60591\n",
        "denovo60592\n",
        "denovo60593"
       ]
      },
      {
       "output_type": "stream",
       "stream": "stdout",
       "text": [
        "\n",
        "denovo34024\n",
        "denovo13617\n",
        "denovo26813\n",
        "denovo26812"
       ]
      },
      {
       "output_type": "stream",
       "stream": "stdout",
       "text": [
        "\n",
        "denovo26811\n",
        "denovo26810\n",
        "denovo21849\n",
        "denovo21848"
       ]
      },
      {
       "output_type": "stream",
       "stream": "stdout",
       "text": [
        "\n",
        "denovo26815\n",
        "denovo26814\n",
        "denovo21845\n",
        "denovo21844\n",
        "denovo21847"
       ]
      },
      {
       "output_type": "stream",
       "stream": "stdout",
       "text": [
        "\n",
        "denovo21846\n",
        "denovo21841\n",
        "denovo21840\n",
        "denovo21843"
       ]
      },
      {
       "output_type": "stream",
       "stream": "stdout",
       "text": [
        "\n",
        "denovo21842\n",
        "denovo56313\n",
        "denovo56312\n",
        "denovo56311\n",
        "denovo56310"
       ]
      },
      {
       "output_type": "stream",
       "stream": "stdout",
       "text": [
        "\n",
        "denovo56317\n",
        "denovo56316\n",
        "denovo56315\n",
        "denovo56314"
       ]
      },
      {
       "output_type": "stream",
       "stream": "stdout",
       "text": [
        "\n",
        "denovo56319\n",
        "denovo56318\n",
        "denovo27146\n",
        "denovo27147"
       ]
      },
      {
       "output_type": "stream",
       "stream": "stdout",
       "text": [
        "\n",
        "denovo27144\n",
        "denovo27145\n",
        "denovo27142\n",
        "denovo27143"
       ]
      },
      {
       "output_type": "stream",
       "stream": "stdout",
       "text": [
        "\n",
        "denovo27140\n",
        "denovo27141\n",
        "denovo27148\n",
        "denovo27149\n",
        "denovo34021"
       ]
      },
      {
       "output_type": "stream",
       "stream": "stdout",
       "text": [
        "\n",
        "denovo3508\n",
        "denovo13149\n",
        "denovo13148\n",
        "denovo13145"
       ]
      },
      {
       "output_type": "stream",
       "stream": "stdout",
       "text": [
        "\n",
        "denovo13144\n",
        "denovo13147\n",
        "denovo13146\n",
        "denovo13141"
       ]
      },
      {
       "output_type": "stream",
       "stream": "stdout",
       "text": [
        "\n",
        "denovo13140\n",
        "denovo13143\n",
        "denovo13142\n",
        "denovo34020"
       ]
      },
      {
       "output_type": "stream",
       "stream": "stdout",
       "text": [
        "\n",
        "denovo12810\n",
        "denovo12811\n",
        "denovo12812\n",
        "denovo12813"
       ]
      },
      {
       "output_type": "stream",
       "stream": "stdout",
       "text": [
        "\n",
        "denovo12814\n",
        "denovo12815\n",
        "denovo12816\n",
        "denovo12817"
       ]
      },
      {
       "output_type": "stream",
       "stream": "stdout",
       "text": [
        "\n",
        "denovo12818\n",
        "denovo12819\n",
        "denovo23071\n",
        "denovo51302"
       ]
      },
      {
       "output_type": "stream",
       "stream": "stdout",
       "text": [
        "\n",
        "denovo23077\n",
        "denovo4838\n",
        "denovo9279\n",
        "denovo33551"
       ]
      },
      {
       "output_type": "stream",
       "stream": "stdout",
       "text": [
        "\n",
        "denovo27854\n",
        "denovo27855\n",
        "denovo27856\n",
        "denovo27857"
       ]
      },
      {
       "output_type": "stream",
       "stream": "stdout",
       "text": [
        "\n",
        "denovo27850\n",
        "denovo27851\n",
        "denovo27852\n",
        "denovo27853"
       ]
      },
      {
       "output_type": "stream",
       "stream": "stdout",
       "text": [
        "\n",
        "denovo16249\n",
        "denovo16248\n",
        "denovo27858\n",
        "denovo27859\n",
        "denovo29804"
       ]
      },
      {
       "output_type": "stream",
       "stream": "stdout",
       "text": [
        "\n",
        "denovo30430\n",
        "denovo36272\n",
        "denovo36273\n",
        "denovo36270"
       ]
      },
      {
       "output_type": "stream",
       "stream": "stdout",
       "text": [
        "\n",
        "denovo36271\n",
        "denovo36276\n",
        "denovo36277\n",
        "denovo36274"
       ]
      },
      {
       "output_type": "stream",
       "stream": "stdout",
       "text": [
        "\n",
        "denovo36275\n",
        "denovo52564\n",
        "denovo52565\n",
        "denovo52566"
       ]
      },
      {
       "output_type": "stream",
       "stream": "stdout",
       "text": [
        "\n",
        "denovo52567\n",
        "denovo52560\n",
        "denovo52561\n",
        "denovo52562"
       ]
      },
      {
       "output_type": "stream",
       "stream": "stdout",
       "text": [
        "\n",
        "denovo29807\n",
        "denovo39422\n",
        "denovo39423\n",
        "denovo6599\n",
        "denovo55030"
       ]
      },
      {
       "output_type": "stream",
       "stream": "stdout",
       "text": [
        "\n",
        "denovo39426\n",
        "denovo39427\n",
        "denovo39424\n",
        "denovo39425"
       ]
      },
      {
       "output_type": "stream",
       "stream": "stdout",
       "text": [
        "\n",
        "denovo6593\n",
        "denovo6592\n",
        "denovo39428\n",
        "denovo39429\n",
        "denovo6597"
       ]
      },
      {
       "output_type": "stream",
       "stream": "stdout",
       "text": [
        "\n",
        "denovo6596\n",
        "denovo6595\n",
        "denovo6594\n",
        "denovo21508"
       ]
      },
      {
       "output_type": "stream",
       "stream": "stdout",
       "text": [
        "\n",
        "denovo2639\n",
        "denovo21509\n",
        "denovo8252\n",
        "denovo54927"
       ]
      },
      {
       "output_type": "stream",
       "stream": "stdout",
       "text": [
        "\n",
        "denovo54924\n",
        "denovo54925\n",
        "denovo54922\n",
        "denovo54923"
       ]
      },
      {
       "output_type": "stream",
       "stream": "stdout",
       "text": [
        "\n",
        "denovo54920\n",
        "denovo54921\n",
        "denovo8258\n",
        "denovo8259"
       ]
      },
      {
       "output_type": "stream",
       "stream": "stdout",
       "text": [
        "\n",
        "denovo54928\n",
        "denovo54929\n",
        "denovo18948\n",
        "denovo18949\n",
        "denovo18940"
       ]
      },
      {
       "output_type": "stream",
       "stream": "stdout",
       "text": [
        "\n",
        "denovo18941\n",
        "denovo18942\n",
        "denovo18943\n",
        "denovo18944"
       ]
      },
      {
       "output_type": "stream",
       "stream": "stdout",
       "text": [
        "\n",
        "denovo18945\n",
        "denovo18946\n",
        "denovo18947\n",
        "denovo51204"
       ]
      },
      {
       "output_type": "stream",
       "stream": "stdout",
       "text": [
        "\n",
        "denovo51205\n",
        "denovo51206\n",
        "denovo51207\n",
        "denovo51200"
       ]
      },
      {
       "output_type": "stream",
       "stream": "stdout",
       "text": [
        "\n",
        "denovo51201\n",
        "denovo51202\n",
        "denovo51203\n",
        "denovo51208"
       ]
      },
      {
       "output_type": "stream",
       "stream": "stdout",
       "text": [
        "\n",
        "denovo51209\n",
        "denovo28509\n",
        "denovo28508\n",
        "denovo28503"
       ]
      },
      {
       "output_type": "stream",
       "stream": "stdout",
       "text": [
        "\n",
        "denovo28502\n",
        "denovo28501\n",
        "denovo28500\n",
        "denovo28507"
       ]
      },
      {
       "output_type": "stream",
       "stream": "stdout",
       "text": [
        "\n",
        "denovo28506\n",
        "denovo28505\n",
        "denovo28504\n",
        "denovo11730"
       ]
      },
      {
       "output_type": "stream",
       "stream": "stdout",
       "text": [
        "\n",
        "denovo11731\n",
        "denovo11732\n",
        "denovo11733\n",
        "denovo11734\n",
        "denovo11735"
       ]
      },
      {
       "output_type": "stream",
       "stream": "stdout",
       "text": [
        "\n",
        "denovo11736\n",
        "denovo11737\n",
        "denovo11738\n",
        "denovo11739\n",
        "denovo6514"
       ]
      },
      {
       "output_type": "stream",
       "stream": "stdout",
       "text": [
        "\n",
        "denovo29458\n",
        "denovo29459\n",
        "denovo29456\n",
        "denovo29457"
       ]
      },
      {
       "output_type": "stream",
       "stream": "stdout",
       "text": [
        "\n",
        "denovo29454\n",
        "denovo29455\n",
        "denovo29452\n",
        "denovo29453"
       ]
      },
      {
       "output_type": "stream",
       "stream": "stdout",
       "text": [
        "\n",
        "denovo29450\n",
        "denovo29451\n",
        "denovo6518\n",
        "denovo207\n",
        "denovo25839"
       ]
      },
      {
       "output_type": "stream",
       "stream": "stdout",
       "text": [
        "\n",
        "denovo1663\n",
        "denovo7648\n",
        "denovo7649\n",
        "denovo7640"
       ]
      },
      {
       "output_type": "stream",
       "stream": "stdout",
       "text": [
        "\n",
        "denovo7641\n",
        "denovo7642\n",
        "denovo7643\n",
        "denovo7644"
       ]
      },
      {
       "output_type": "stream",
       "stream": "stdout",
       "text": [
        "\n",
        "denovo7645\n",
        "denovo7646\n",
        "denovo7647\n",
        "denovo25175"
       ]
      },
      {
       "output_type": "stream",
       "stream": "stdout",
       "text": [
        "\n",
        "denovo25174\n",
        "denovo25177\n",
        "denovo25176\n",
        "denovo25171\n",
        "denovo25170"
       ]
      },
      {
       "output_type": "stream",
       "stream": "stdout",
       "text": [
        "\n",
        "denovo25173\n",
        "denovo25172\n",
        "denovo2572\n",
        "denovo1668"
       ]
      },
      {
       "output_type": "stream",
       "stream": "stdout",
       "text": [
        "\n",
        "denovo25179\n",
        "denovo25178\n",
        "denovo1669\n",
        "denovo2030"
       ]
      },
      {
       "output_type": "stream",
       "stream": "stdout",
       "text": [
        "\n",
        "denovo2031\n",
        "denovo2032\n",
        "denovo2033\n",
        "denovo2034"
       ]
      },
      {
       "output_type": "stream",
       "stream": "stdout",
       "text": [
        "\n",
        "denovo2035\n",
        "denovo2036\n",
        "denovo2037\n",
        "denovo2038\n",
        "denovo2039"
       ]
      },
      {
       "output_type": "stream",
       "stream": "stdout",
       "text": [
        "\n",
        "denovo25832\n",
        "denovo31067\n",
        "denovo3341\n",
        "denovo3340"
       ]
      },
      {
       "output_type": "stream",
       "stream": "stdout",
       "text": [
        "\n",
        "denovo3343\n",
        "denovo50558\n",
        "denovo3345\n",
        "denovo3344"
       ]
      },
      {
       "output_type": "stream",
       "stream": "stdout",
       "text": [
        "\n",
        "denovo3347\n",
        "denovo3346\n",
        "denovo3349\n",
        "denovo3348\n",
        "denovo50551"
       ]
      },
      {
       "output_type": "stream",
       "stream": "stdout",
       "text": [
        "\n",
        "denovo50550\n",
        "denovo50557\n",
        "denovo50556\n",
        "denovo50555"
       ]
      },
      {
       "output_type": "stream",
       "stream": "stdout",
       "text": [
        "\n",
        "denovo50554\n",
        "denovo54074\n",
        "denovo54075\n",
        "denovo54076"
       ]
      },
      {
       "output_type": "stream",
       "stream": "stdout",
       "text": [
        "\n",
        "denovo54077\n",
        "denovo54070\n",
        "denovo54071\n",
        "denovo25289"
       ]
      },
      {
       "output_type": "stream",
       "stream": "stdout",
       "text": [
        "\n",
        "denovo25288\n",
        "denovo25287\n",
        "denovo25286\n",
        "denovo25285\n",
        "denovo25284"
       ]
      },
      {
       "output_type": "stream",
       "stream": "stdout",
       "text": [
        "\n",
        "denovo25283\n",
        "denovo25282\n",
        "denovo25281\n",
        "denovo25280"
       ]
      },
      {
       "output_type": "stream",
       "stream": "stdout",
       "text": [
        "\n",
        "denovo4685\n",
        "denovo31069\n",
        "denovo4684\n",
        "denovo9615"
       ]
      },
      {
       "output_type": "stream",
       "stream": "stdout",
       "text": [
        "\n",
        "denovo9614\n",
        "denovo9617\n",
        "denovo9616\n",
        "denovo9611\n",
        "denovo9610"
       ]
      },
      {
       "output_type": "stream",
       "stream": "stdout",
       "text": [
        "\n",
        "denovo9613\n",
        "denovo9612\n",
        "denovo9619\n",
        "denovo9618\n",
        "denovo24586"
       ]
      },
      {
       "output_type": "stream",
       "stream": "stdout",
       "text": [
        "\n",
        "denovo45469\n",
        "denovo2698\n",
        "denovo2699\n",
        "denovo45468"
       ]
      },
      {
       "output_type": "stream",
       "stream": "stdout",
       "text": [
        "\n",
        "denovo2694\n",
        "denovo2695\n",
        "denovo2696\n",
        "denovo2697"
       ]
      },
      {
       "output_type": "stream",
       "stream": "stdout",
       "text": [
        "\n",
        "denovo2690\n",
        "denovo2691\n",
        "denovo2692\n",
        "denovo2693"
       ]
      },
      {
       "output_type": "stream",
       "stream": "stdout",
       "text": [
        "\n",
        "denovo26484\n",
        "denovo26485\n",
        "denovo26486\n",
        "denovo26487"
       ]
      },
      {
       "output_type": "stream",
       "stream": "stdout",
       "text": [
        "\n",
        "denovo26480\n",
        "denovo26481\n",
        "denovo26482\n",
        "denovo26483"
       ]
      },
      {
       "output_type": "stream",
       "stream": "stdout",
       "text": [
        "\n",
        "denovo26488\n",
        "denovo26489\n",
        "denovo25829\n",
        "denovo25828"
       ]
      },
      {
       "output_type": "stream",
       "stream": "stdout",
       "text": [
        "\n",
        "denovo25823\n",
        "denovo25822\n",
        "denovo25821\n",
        "denovo25820\n",
        "denovo25827"
       ]
      },
      {
       "output_type": "stream",
       "stream": "stdout",
       "text": [
        "\n",
        "denovo25826\n",
        "denovo25825\n",
        "denovo25824\n",
        "denovo4696\n",
        "denovo4697"
       ]
      },
      {
       "output_type": "stream",
       "stream": "stdout",
       "text": [
        "\n",
        "denovo4694\n",
        "denovo4695\n",
        "denovo4692\n",
        "denovo4693"
       ]
      },
      {
       "output_type": "stream",
       "stream": "stdout",
       "text": [
        "\n",
        "denovo4690\n",
        "denovo4691\n",
        "denovo57523\n",
        "denovo57522"
       ]
      },
      {
       "output_type": "stream",
       "stream": "stdout",
       "text": [
        "\n",
        "denovo57521\n",
        "denovo57520\n",
        "denovo57527\n",
        "denovo57526\n",
        "denovo4698"
       ]
      },
      {
       "output_type": "stream",
       "stream": "stdout",
       "text": [
        "\n",
        "denovo4699\n",
        "denovo2966\n",
        "denovo2967\n",
        "denovo2964"
       ]
      },
      {
       "output_type": "stream",
       "stream": "stdout",
       "text": [
        "\n",
        "denovo2965\n",
        "denovo2962\n",
        "denovo2963\n",
        "denovo2960"
       ]
      },
      {
       "output_type": "stream",
       "stream": "stdout",
       "text": [
        "\n",
        "denovo26739\n",
        "denovo26736\n",
        "denovo26737\n",
        "denovo26734"
       ]
      },
      {
       "output_type": "stream",
       "stream": "stdout",
       "text": [
        "\n",
        "denovo26735\n",
        "denovo26732\n",
        "denovo26733\n",
        "denovo26730"
       ]
      },
      {
       "output_type": "stream",
       "stream": "stdout",
       "text": [
        "\n",
        "denovo2969\n",
        "denovo6276\n",
        "denovo6277\n",
        "denovo6274"
       ]
      },
      {
       "output_type": "stream",
       "stream": "stdout",
       "text": [
        "\n",
        "denovo6275\n",
        "denovo6272\n",
        "denovo6273\n",
        "denovo6270"
       ]
      },
      {
       "output_type": "stream",
       "stream": "stdout",
       "text": [
        "\n",
        "denovo6271\n",
        "denovo1901\n",
        "denovo6278\n",
        "denovo6279\n",
        "denovo44718"
       ]
      },
      {
       "output_type": "stream",
       "stream": "stdout",
       "text": [
        "\n",
        "denovo4529\n",
        "denovo41948\n",
        "denovo41949\n",
        "denovo4520"
       ]
      },
      {
       "output_type": "stream",
       "stream": "stdout",
       "text": [
        "\n",
        "denovo4521\n",
        "denovo4522\n",
        "denovo4523\n",
        "denovo4524"
       ]
      },
      {
       "output_type": "stream",
       "stream": "stdout",
       "text": [
        "\n",
        "denovo4525\n",
        "denovo4526\n",
        "denovo4527\n",
        "denovo59855"
       ]
      },
      {
       "output_type": "stream",
       "stream": "stdout",
       "text": [
        "\n",
        "denovo59854\n",
        "denovo59857\n",
        "denovo13808\n",
        "denovo13809\n",
        "denovo59856"
       ]
      },
      {
       "output_type": "stream",
       "stream": "stdout",
       "text": [
        "\n",
        "denovo1913\n",
        "denovo13800\n",
        "denovo13801\n",
        "denovo13802"
       ]
      },
      {
       "output_type": "stream",
       "stream": "stdout",
       "text": [
        "\n",
        "denovo13803\n",
        "denovo13804\n",
        "denovo13805\n",
        "denovo13806"
       ]
      },
      {
       "output_type": "stream",
       "stream": "stdout",
       "text": [
        "\n",
        "denovo13807\n",
        "denovo53314\n",
        "denovo53315\n",
        "denovo19844"
       ]
      },
      {
       "output_type": "stream",
       "stream": "stdout",
       "text": [
        "\n",
        "denovo53317\n",
        "denovo53310\n",
        "denovo53311\n",
        "denovo53312\n",
        "denovo53313"
       ]
      },
      {
       "output_type": "stream",
       "stream": "stdout",
       "text": [
        "\n",
        "denovo1916\n",
        "denovo59852\n",
        "denovo53318\n",
        "denovo53319\n",
        "denovo19848"
       ]
      },
      {
       "output_type": "stream",
       "stream": "stdout",
       "text": [
        "\n",
        "denovo19849\n",
        "denovo13707\n",
        "denovo47330\n",
        "denovo1914\n",
        "denovo1902"
       ]
      },
      {
       "output_type": "stream",
       "stream": "stdout",
       "text": [
        "\n",
        "denovo19362\n",
        "denovo47337\n",
        "denovo1915\n",
        "denovo13705"
       ]
      },
      {
       "output_type": "stream",
       "stream": "stdout",
       "text": [
        "\n",
        "denovo47336\n",
        "denovo2631\n",
        "denovo47193\n",
        "denovo13704"
       ]
      },
      {
       "output_type": "stream",
       "stream": "stdout",
       "text": [
        "\n",
        "denovo47335\n",
        "denovo47192\n",
        "denovo19367\n",
        "denovo47334"
       ]
      },
      {
       "output_type": "stream",
       "stream": "stdout",
       "text": [
        "\n",
        "denovo47191\n",
        "denovo13702\n",
        "denovo4850"
       ]
      },
      {
       "output_type": "stream",
       "stream": "stdout",
       "text": [
        "\n",
        "denovo47190\n",
        "denovo27469"
       ]
      },
      {
       "output_type": "stream",
       "stream": "stdout",
       "text": [
        "\n",
        "denovo27468\n",
        "denovo4851\n",
        "denovo27465"
       ]
      },
      {
       "output_type": "stream",
       "stream": "stdout",
       "text": [
        "\n",
        "denovo27464\n",
        "denovo27467\n",
        "denovo27466\n",
        "denovo27461"
       ]
      },
      {
       "output_type": "stream",
       "stream": "stdout",
       "text": [
        "\n",
        "denovo27460\n",
        "denovo27463\n",
        "denovo27462\n",
        "denovo39298"
       ]
      },
      {
       "output_type": "stream",
       "stream": "stdout",
       "text": [
        "\n",
        "denovo4853\n",
        "denovo47195\n",
        "denovo13468\n",
        "denovo21458"
       ]
      },
      {
       "output_type": "stream",
       "stream": "stdout",
       "text": [
        "\n",
        "denovo47194\n",
        "denovo1904\n",
        "denovo34666\n",
        "denovo44729\n",
        "denovo47199"
       ]
      },
      {
       "output_type": "stream",
       "stream": "stdout",
       "text": [
        "\n",
        "denovo44728\n",
        "denovo46622\n",
        "denovo46623\n",
        "denovo46620"
       ]
      },
      {
       "output_type": "stream",
       "stream": "stdout",
       "text": [
        "\n",
        "denovo46621\n",
        "denovo32948\n",
        "denovo32949\n",
        "denovo46624"
       ]
      },
      {
       "output_type": "stream",
       "stream": "stdout",
       "text": [
        "\n",
        "denovo46625\n",
        "denovo32944\n",
        "denovo32945\n",
        "denovo46628"
       ]
      },
      {
       "output_type": "stream",
       "stream": "stdout",
       "text": [
        "\n",
        "denovo46629\n",
        "denovo32940\n",
        "denovo32941\n",
        "denovo32942"
       ]
      },
      {
       "output_type": "stream",
       "stream": "stdout",
       "text": [
        "\n",
        "denovo32943\n",
        "denovo42712\n",
        "denovo42713\n",
        "denovo42710"
       ]
      },
      {
       "output_type": "stream",
       "stream": "stdout",
       "text": [
        "\n",
        "denovo42711\n",
        "denovo42716\n",
        "denovo42717\n",
        "denovo42714"
       ]
      },
      {
       "output_type": "stream",
       "stream": "stdout",
       "text": [
        "\n",
        "denovo42715\n",
        "denovo42718\n",
        "denovo42719\n",
        "denovo44727"
       ]
      },
      {
       "output_type": "stream",
       "stream": "stdout",
       "text": [
        "\n",
        "denovo52049\n",
        "denovo52048\n",
        "denovo52043\n",
        "denovo52042"
       ]
      },
      {
       "output_type": "stream",
       "stream": "stdout",
       "text": [
        "\n",
        "denovo52041\n",
        "denovo52040\n",
        "denovo52047\n",
        "denovo52046"
       ]
      },
      {
       "output_type": "stream",
       "stream": "stdout",
       "text": [
        "\n",
        "denovo52045\n",
        "denovo52044\n",
        "denovo44723\n",
        "denovo44722"
       ]
      },
      {
       "output_type": "stream",
       "stream": "stdout",
       "text": [
        "\n",
        "denovo9742\n",
        "denovo43391\n",
        "denovo43390\n",
        "denovo43393"
       ]
      },
      {
       "output_type": "stream",
       "stream": "stdout",
       "text": [
        "\n",
        "denovo43392\n",
        "denovo43395\n",
        "denovo43394\n",
        "denovo43397"
       ]
      },
      {
       "output_type": "stream",
       "stream": "stdout",
       "text": [
        "\n",
        "denovo43396\n",
        "denovo43399\n",
        "denovo43398\n",
        "denovo49997"
       ]
      },
      {
       "output_type": "stream",
       "stream": "stdout",
       "text": [
        "\n",
        "denovo49996\n",
        "denovo49991\n",
        "denovo49990\n",
        "denovo49993\n",
        "denovo49992"
       ]
      },
      {
       "output_type": "stream",
       "stream": "stdout",
       "text": [
        "\n",
        "denovo9741\n",
        "denovo367\n",
        "denovo31412\n",
        "denovo365"
       ]
      },
      {
       "output_type": "stream",
       "stream": "stdout",
       "text": [
        "\n",
        "denovo364\n",
        "denovo31417\n",
        "denovo31416\n",
        "denovo31415"
       ]
      },
      {
       "output_type": "stream",
       "stream": "stdout",
       "text": [
        "\n",
        "denovo31414\n",
        "denovo31419\n",
        "denovo31418"
       ]
      },
      {
       "output_type": "stream",
       "stream": "stdout",
       "text": [
        "\n",
        "denovo369\n",
        "denovo368"
       ]
      },
      {
       "output_type": "stream",
       "stream": "stdout",
       "text": [
        "\n",
        "denovo10248\n",
        "denovo9740\n",
        "denovo29738"
       ]
      },
      {
       "output_type": "stream",
       "stream": "stdout",
       "text": [
        "\n",
        "denovo33305\n",
        "denovo33304\n",
        "denovo33307\n",
        "denovo33306"
       ]
      },
      {
       "output_type": "stream",
       "stream": "stdout",
       "text": [
        "\n",
        "denovo33301\n",
        "denovo49662\n",
        "denovo33303\n",
        "denovo49660"
       ]
      },
      {
       "output_type": "stream",
       "stream": "stdout",
       "text": [
        "\n",
        "denovo33309\n",
        "denovo33308\n",
        "denovo49669\n",
        "denovo49668"
       ]
      },
      {
       "output_type": "stream",
       "stream": "stdout",
       "text": [
        "\n",
        "denovo37815\n",
        "denovo37814\n",
        "denovo37817"
       ]
      },
      {
       "output_type": "stream",
       "stream": "stdout",
       "text": [
        "\n",
        "denovo37816\n",
        "denovo37811\n",
        "denovo37810\n",
        "denovo37813"
       ]
      },
      {
       "output_type": "stream",
       "stream": "stdout",
       "text": [
        "\n",
        "denovo37812\n",
        "denovo37819\n",
        "denovo37818\n",
        "denovo30454"
       ]
      },
      {
       "output_type": "stream",
       "stream": "stdout",
       "text": [
        "\n",
        "denovo30455\n",
        "denovo30456\n",
        "denovo30457\n",
        "denovo43979\n",
        "denovo43978"
       ]
      },
      {
       "output_type": "stream",
       "stream": "stdout",
       "text": [
        "\n",
        "denovo30452\n",
        "denovo30453\n",
        "denovo43975\n",
        "denovo43974"
       ]
      },
      {
       "output_type": "stream",
       "stream": "stdout",
       "text": [
        "\n",
        "denovo43977\n",
        "denovo43976\n",
        "denovo30458\n",
        "denovo30459"
       ]
      },
      {
       "output_type": "stream",
       "stream": "stdout",
       "text": [
        "\n",
        "denovo43973\n",
        "denovo43972\n",
        "denovo16854\n",
        "denovo9745"
       ]
      },
      {
       "output_type": "stream",
       "stream": "stdout",
       "text": [
        "\n",
        "denovo19543\n",
        "denovo19542\n",
        "denovo19541\n",
        "denovo14712"
       ]
      },
      {
       "output_type": "stream",
       "stream": "stdout",
       "text": [
        "\n",
        "denovo14715\n",
        "denovo14714\n",
        "denovo19545"
       ]
      },
      {
       "output_type": "stream",
       "stream": "stdout",
       "text": [
        "\n",
        "denovo14716\n",
        "denovo14719"
       ]
      },
      {
       "output_type": "stream",
       "stream": "stdout",
       "text": [
        "\n",
        "denovo14718\n",
        "denovo19549\n",
        "denovo19548"
       ]
      },
      {
       "output_type": "stream",
       "stream": "stdout",
       "text": [
        "\n",
        "denovo13838\n",
        "denovo13916\n",
        "denovo13917"
       ]
      },
      {
       "output_type": "stream",
       "stream": "stdout",
       "text": [
        "\n",
        "denovo7699\n",
        "denovo13914\n",
        "denovo13915\n",
        "denovo24177"
       ]
      },
      {
       "output_type": "stream",
       "stream": "stdout",
       "text": [
        "\n",
        "denovo13912\n",
        "denovo13913\n",
        "denovo19095\n",
        "denovo19094"
       ]
      },
      {
       "output_type": "stream",
       "stream": "stdout",
       "text": [
        "\n",
        "denovo19097\n",
        "denovo19096\n",
        "denovo19091\n",
        "denovo19090\n",
        "denovo19093"
       ]
      },
      {
       "output_type": "stream",
       "stream": "stdout",
       "text": [
        "\n",
        "denovo19092\n",
        "denovo13911\n",
        "denovo19099\n",
        "denovo19098"
       ]
      },
      {
       "output_type": "stream",
       "stream": "stdout",
       "text": [
        "\n",
        "denovo22850\n",
        "denovo22857\n",
        "denovo22856\n",
        "denovo37109"
       ]
      },
      {
       "output_type": "stream",
       "stream": "stdout",
       "text": [
        "\n",
        "denovo37108\n",
        "denovo14986\n",
        "denovo37103\n",
        "denovo37102"
       ]
      },
      {
       "output_type": "stream",
       "stream": "stdout",
       "text": [
        "\n",
        "denovo37101\n",
        "denovo37100\n",
        "denovo37107\n",
        "denovo37106"
       ]
      },
      {
       "output_type": "stream",
       "stream": "stdout",
       "text": [
        "\n",
        "denovo37105\n",
        "denovo37104\n",
        "denovo14988\n",
        "denovo32168"
       ]
      },
      {
       "output_type": "stream",
       "stream": "stdout",
       "text": [
        "\n",
        "denovo32169\n",
        "denovo32166\n",
        "denovo32167\n",
        "denovo32164"
       ]
      },
      {
       "output_type": "stream",
       "stream": "stdout",
       "text": [
        "\n",
        "denovo32165\n",
        "denovo32162\n",
        "denovo32163\n",
        "denovo32160"
       ]
      },
      {
       "output_type": "stream",
       "stream": "stdout",
       "text": [
        "\n",
        "denovo32161\n",
        "denovo5105\n",
        "denovo41537\n",
        "denovo41536"
       ]
      },
      {
       "output_type": "stream",
       "stream": "stdout",
       "text": [
        "\n",
        "denovo41535\n",
        "denovo41534\n",
        "denovo41533"
       ]
      },
      {
       "output_type": "stream",
       "stream": "stdout",
       "text": [
        "\n",
        "denovo41532\n",
        "denovo41531\n",
        "denovo41530"
       ]
      },
      {
       "output_type": "stream",
       "stream": "stdout",
       "text": [
        "\n",
        "denovo948\n",
        "denovo41539\n",
        "denovo41538"
       ]
      },
      {
       "output_type": "stream",
       "stream": "stdout",
       "text": [
        "\n",
        "denovo62970\n",
        "denovo62971\n",
        "denovo62972"
       ]
      },
      {
       "output_type": "stream",
       "stream": "stdout",
       "text": [
        "\n",
        "denovo62973\n",
        "denovo62974\n",
        "denovo62975"
       ]
      },
      {
       "output_type": "stream",
       "stream": "stdout",
       "text": [
        "\n",
        "denovo62976\n",
        "denovo62977\n",
        "denovo62978\n",
        "denovo62979"
       ]
      },
      {
       "output_type": "stream",
       "stream": "stdout",
       "text": [
        "\n",
        "denovo20242\n",
        "denovo20243\n",
        "denovo38585\n",
        "denovo10795"
       ]
      },
      {
       "output_type": "stream",
       "stream": "stdout",
       "text": [
        "\n",
        "denovo10794\n",
        "denovo10797\n",
        "denovo20248\n",
        "denovo10796"
       ]
      },
      {
       "output_type": "stream",
       "stream": "stdout",
       "text": [
        "\n",
        "denovo20249\n",
        "denovo10791\n",
        "denovo10790\n",
        "denovo10793"
       ]
      },
      {
       "output_type": "stream",
       "stream": "stdout",
       "text": [
        "\n",
        "denovo23759\n",
        "denovo23758\n",
        "denovo23757\n",
        "denovo23756"
       ]
      },
      {
       "output_type": "stream",
       "stream": "stdout",
       "text": [
        "\n",
        "denovo23755\n",
        "denovo23754\n",
        "denovo23753\n",
        "denovo23752"
       ]
      },
      {
       "output_type": "stream",
       "stream": "stdout",
       "text": [
        "\n",
        "denovo23751\n",
        "denovo23750\n",
        "denovo33482\n",
        "denovo33483"
       ]
      },
      {
       "output_type": "stream",
       "stream": "stdout",
       "text": [
        "\n",
        "denovo33480\n",
        "denovo33481\n",
        "denovo33486\n",
        "denovo33487"
       ]
      },
      {
       "output_type": "stream",
       "stream": "stdout",
       "text": [
        "\n",
        "denovo33484\n",
        "denovo33485\n",
        "denovo36478\n",
        "denovo36479"
       ]
      },
      {
       "output_type": "stream",
       "stream": "stdout",
       "text": [
        "\n",
        "denovo33488\n",
        "denovo33489\n",
        "denovo7691\n",
        "denovo39620\n",
        "denovo39621"
       ]
      },
      {
       "output_type": "stream",
       "stream": "stdout",
       "text": [
        "\n",
        "denovo1129\n",
        "denovo1128\n",
        "denovo21445\n",
        "denovo21444\n",
        "denovo21447"
       ]
      },
      {
       "output_type": "stream",
       "stream": "stdout",
       "text": [
        "\n",
        "denovo21446\n",
        "denovo1123\n",
        "denovo1122\n",
        "denovo1121"
       ]
      },
      {
       "output_type": "stream",
       "stream": "stdout",
       "text": [
        "\n",
        "denovo1120\n",
        "denovo1127\n",
        "denovo1126\n",
        "denovo1125"
       ]
      },
      {
       "output_type": "stream",
       "stream": "stdout",
       "text": [
        "\n",
        "denovo1124\n",
        "denovo19152\n",
        "denovo46388\n",
        "denovo61777\n",
        "denovo61776"
       ]
      },
      {
       "output_type": "stream",
       "stream": "stdout",
       "text": [
        "\n",
        "denovo61775\n",
        "denovo61774\n",
        "denovo61773\n",
        "denovo61772\n",
        "denovo61771"
       ]
      },
      {
       "output_type": "stream",
       "stream": "stdout",
       "text": [
        "\n",
        "denovo61770\n",
        "denovo14498\n",
        "denovo61779\n",
        "denovo61778\n",
        "denovo14499"
       ]
      },
      {
       "output_type": "stream",
       "stream": "stdout",
       "text": [
        "\n",
        "denovo17459\n",
        "denovo56564\n",
        "denovo17458\n",
        "denovo56565\n",
        "denovo46386"
       ]
      },
      {
       "output_type": "stream",
       "stream": "stdout",
       "text": [
        "\n",
        "denovo56566\n",
        "denovo59219\n",
        "denovo59218\n",
        "denovo59217"
       ]
      },
      {
       "output_type": "stream",
       "stream": "stdout",
       "text": [
        "\n",
        "denovo59216\n",
        "denovo59215\n",
        "denovo59214\n",
        "denovo59213"
       ]
      },
      {
       "output_type": "stream",
       "stream": "stdout",
       "text": [
        "\n",
        "denovo59212\n",
        "denovo59211\n",
        "denovo59210\n",
        "denovo14492"
       ]
      },
      {
       "output_type": "stream",
       "stream": "stdout",
       "text": [
        "\n",
        "denovo14493\n",
        "denovo47784\n",
        "denovo27470\n",
        "denovo27471"
       ]
      },
      {
       "output_type": "stream",
       "stream": "stdout",
       "text": [
        "\n",
        "denovo29618\n",
        "denovo29619\n",
        "denovo10085\n",
        "denovo29614"
       ]
      },
      {
       "output_type": "stream",
       "stream": "stdout",
       "text": [
        "\n",
        "denovo29615\n",
        "denovo29616\n",
        "denovo29617\n",
        "denovo29610"
       ]
      },
      {
       "output_type": "stream",
       "stream": "stdout",
       "text": [
        "\n",
        "denovo29611\n",
        "denovo29612\n",
        "denovo29613\n",
        "denovo34080"
       ]
      },
      {
       "output_type": "stream",
       "stream": "stdout",
       "text": [
        "\n",
        "denovo32824\n",
        "denovo22930\n",
        "denovo22931\n",
        "denovo22932"
       ]
      },
      {
       "output_type": "stream",
       "stream": "stdout",
       "text": [
        "\n",
        "denovo22933\n",
        "denovo22934\n",
        "denovo22935\n",
        "denovo22936"
       ]
      },
      {
       "output_type": "stream",
       "stream": "stdout",
       "text": [
        "\n",
        "denovo22937\n",
        "denovo22938\n",
        "denovo22939\n",
        "denovo42897"
       ]
      },
      {
       "output_type": "stream",
       "stream": "stdout",
       "text": [
        "\n",
        "denovo5598\n",
        "denovo42896\n",
        "denovo54354\n",
        "denovo42891"
       ]
      },
      {
       "output_type": "stream",
       "stream": "stdout",
       "text": [
        "\n",
        "denovo20758\n",
        "denovo42890\n",
        "denovo24190\n",
        "denovo24191"
       ]
      },
      {
       "output_type": "stream",
       "stream": "stdout",
       "text": [
        "\n",
        "denovo24192\n",
        "denovo24193\n",
        "denovo24194\n",
        "denovo24195"
       ]
      },
      {
       "output_type": "stream",
       "stream": "stdout",
       "text": [
        "\n",
        "denovo24196\n",
        "denovo24197\n",
        "denovo24198\n",
        "denovo24199"
       ]
      },
      {
       "output_type": "stream",
       "stream": "stdout",
       "text": [
        "\n",
        "denovo39990\n",
        "denovo39991\n",
        "denovo39996\n",
        "denovo39997"
       ]
      },
      {
       "output_type": "stream",
       "stream": "stdout",
       "text": [
        "\n",
        "denovo39994\n",
        "denovo39995\n",
        "denovo50799\n",
        "denovo36698"
       ]
      },
      {
       "output_type": "stream",
       "stream": "stdout",
       "text": [
        "\n",
        "denovo54278\n",
        "denovo54279\n",
        "denovo20645\n",
        "denovo36699"
       ]
      },
      {
       "output_type": "stream",
       "stream": "stdout",
       "text": [
        "\n",
        "denovo50791\n",
        "denovo50790\n",
        "denovo50793\n",
        "denovo50792"
       ]
      },
      {
       "output_type": "stream",
       "stream": "stdout",
       "text": [
        "\n",
        "denovo50795\n",
        "denovo50794\n",
        "denovo50797\n",
        "denovo50796"
       ]
      },
      {
       "output_type": "stream",
       "stream": "stdout",
       "text": [
        "\n",
        "denovo8986\n",
        "denovo8987\n",
        "denovo8984\n",
        "denovo8985"
       ]
      },
      {
       "output_type": "stream",
       "stream": "stdout",
       "text": [
        "\n",
        "denovo8982\n",
        "denovo8983\n",
        "denovo20479\n",
        "denovo20478"
       ]
      },
      {
       "output_type": "stream",
       "stream": "stdout",
       "text": [
        "\n",
        "denovo20477\n",
        "denovo20476\n",
        "denovo20475\n",
        "denovo20474"
       ]
      },
      {
       "output_type": "stream",
       "stream": "stdout",
       "text": [
        "\n",
        "denovo20473\n",
        "denovo20472\n",
        "denovo20471\n",
        "denovo20470\n",
        "denovo41270"
       ]
      },
      {
       "output_type": "stream",
       "stream": "stdout",
       "text": [
        "\n",
        "denovo9059\n",
        "denovo9058\n",
        "denovo41271\n",
        "denovo9053"
       ]
      },
      {
       "output_type": "stream",
       "stream": "stdout",
       "text": [
        "\n",
        "denovo9052\n",
        "denovo9051\n",
        "denovo9050\n",
        "denovo9057"
       ]
      },
      {
       "output_type": "stream",
       "stream": "stdout",
       "text": [
        "\n",
        "denovo41272\n",
        "denovo9055\n",
        "denovo9054\n",
        "denovo52942"
       ]
      },
      {
       "output_type": "stream",
       "stream": "stdout",
       "text": [
        "\n",
        "denovo41273\n",
        "denovo47781\n",
        "denovo52943\n",
        "denovo41274"
       ]
      },
      {
       "output_type": "stream",
       "stream": "stdout",
       "text": [
        "\n",
        "denovo52940\n",
        "denovo41275\n",
        "denovo2833\n",
        "denovo36693"
       ]
      },
      {
       "output_type": "stream",
       "stream": "stdout",
       "text": [
        "\n",
        "denovo41276\n",
        "denovo52946\n",
        "denovo41277\n",
        "denovo52947"
       ]
      },
      {
       "output_type": "stream",
       "stream": "stdout",
       "text": [
        "\n",
        "denovo5721\n",
        "denovo23579"
       ]
      },
      {
       "output_type": "stream",
       "stream": "stdout",
       "text": [
        "\n",
        "denovo5720\n",
        "denovo23578\n",
        "denovo2834"
       ]
      },
      {
       "output_type": "stream",
       "stream": "stdout",
       "text": [
        "\n",
        "denovo10083\n",
        "denovo25058\n",
        "denovo5727"
       ]
      },
      {
       "output_type": "stream",
       "stream": "stdout",
       "text": [
        "\n",
        "denovo5726\n",
        "denovo2835\n",
        "denovo40835\n",
        "denovo11978"
       ]
      },
      {
       "output_type": "stream",
       "stream": "stdout",
       "text": [
        "\n",
        "denovo11979\n",
        "denovo11976\n",
        "denovo11977\n",
        "denovo11974"
       ]
      },
      {
       "output_type": "stream",
       "stream": "stdout",
       "text": [
        "\n",
        "denovo11975\n",
        "denovo11972\n",
        "denovo11973\n",
        "denovo11970"
       ]
      },
      {
       "output_type": "stream",
       "stream": "stdout",
       "text": [
        "\n",
        "denovo11971\n",
        "denovo40834\n",
        "denovo26138\n",
        "denovo26139\n",
        "denovo26134"
       ]
      },
      {
       "output_type": "stream",
       "stream": "stdout",
       "text": [
        "\n",
        "denovo26135\n",
        "denovo26136\n",
        "denovo26137\n",
        "denovo26130"
       ]
      },
      {
       "output_type": "stream",
       "stream": "stdout",
       "text": [
        "\n",
        "denovo26131\n",
        "denovo26132\n",
        "denovo26133"
       ]
      },
      {
       "output_type": "stream",
       "stream": "stdout",
       "text": [
        "\n",
        "denovo43446\n",
        "denovo40837\n",
        "denovo32971\n",
        "denovo4328"
       ]
      },
      {
       "output_type": "stream",
       "stream": "stdout",
       "text": [
        "\n",
        "denovo4329\n",
        "denovo4326\n",
        "denovo4327\n",
        "denovo4324"
       ]
      },
      {
       "output_type": "stream",
       "stream": "stdout",
       "text": [
        "\n",
        "denovo4325\n",
        "denovo4322\n",
        "denovo4323"
       ]
      },
      {
       "output_type": "stream",
       "stream": "stdout",
       "text": [
        "\n",
        "denovo4320\n",
        "denovo4321\n",
        "denovo10599"
       ]
      },
      {
       "output_type": "stream",
       "stream": "stdout",
       "text": [
        "\n",
        "denovo10598\n",
        "denovo10593\n",
        "denovo10592"
       ]
      },
      {
       "output_type": "stream",
       "stream": "stdout",
       "text": [
        "\n",
        "denovo10591\n",
        "denovo10590\n",
        "denovo10597"
       ]
      },
      {
       "output_type": "stream",
       "stream": "stdout",
       "text": [
        "\n",
        "denovo10596\n",
        "denovo10595\n",
        "denovo10594\n",
        "denovo18368"
       ]
      },
      {
       "output_type": "stream",
       "stream": "stdout",
       "text": [
        "\n",
        "denovo18369\n",
        "denovo45023\n",
        "denovo45022\n",
        "denovo45025"
       ]
      },
      {
       "output_type": "stream",
       "stream": "stdout",
       "text": [
        "\n",
        "denovo45024\n",
        "denovo45027\n",
        "denovo45026\n",
        "denovo18360"
       ]
      },
      {
       "output_type": "stream",
       "stream": "stdout",
       "text": [
        "\n",
        "denovo18361\n",
        "denovo18362\n",
        "denovo18363\n",
        "denovo18364"
       ]
      },
      {
       "output_type": "stream",
       "stream": "stdout",
       "text": [
        "\n",
        "denovo18365\n",
        "denovo18366\n",
        "denovo18367\n",
        "denovo60419"
       ]
      },
      {
       "output_type": "stream",
       "stream": "stdout",
       "text": [
        "\n",
        "denovo60418\n",
        "denovo60411\n",
        "denovo60410\n",
        "denovo60413"
       ]
      },
      {
       "output_type": "stream",
       "stream": "stdout",
       "text": [
        "\n",
        "denovo60412\n",
        "denovo60415\n",
        "denovo60414\n",
        "denovo60417"
       ]
      },
      {
       "output_type": "stream",
       "stream": "stdout",
       "text": [
        "\n",
        "denovo60416\n",
        "denovo12999\n",
        "denovo12998\n",
        "denovo17971\n",
        "denovo12995"
       ]
      },
      {
       "output_type": "stream",
       "stream": "stdout",
       "text": [
        "\n",
        "denovo12994\n",
        "denovo12997\n",
        "denovo12996\n",
        "denovo12991"
       ]
      },
      {
       "output_type": "stream",
       "stream": "stdout",
       "text": [
        "\n",
        "denovo12990\n",
        "denovo12993\n",
        "denovo12992\n",
        "denovo10629"
       ]
      },
      {
       "output_type": "stream",
       "stream": "stdout",
       "text": [
        "\n",
        "denovo10628\n",
        "denovo10625\n",
        "denovo10624\n",
        "denovo10627\n",
        "denovo10626"
       ]
      },
      {
       "output_type": "stream",
       "stream": "stdout",
       "text": [
        "\n",
        "denovo10621\n",
        "denovo10620\n",
        "denovo10623\n",
        "denovo10622"
       ]
      },
      {
       "output_type": "stream",
       "stream": "stdout",
       "text": [
        "\n",
        "denovo42767\n",
        "denovo42766\n",
        "denovo29484\n",
        "denovo27263"
       ]
      },
      {
       "output_type": "stream",
       "stream": "stdout",
       "text": [
        "\n",
        "denovo27262\n",
        "denovo27261\n",
        "denovo27260\n",
        "denovo27267"
       ]
      },
      {
       "output_type": "stream",
       "stream": "stdout",
       "text": [
        "\n",
        "denovo27266\n",
        "denovo27265\n",
        "denovo27264\n",
        "denovo27269"
       ]
      },
      {
       "output_type": "stream",
       "stream": "stdout",
       "text": [
        "\n",
        "denovo27268\n",
        "denovo43243\n",
        "denovo12667\n",
        "denovo12666\n",
        "denovo12665"
       ]
      },
      {
       "output_type": "stream",
       "stream": "stdout",
       "text": [
        "\n",
        "denovo12664\n",
        "denovo12663\n",
        "denovo12662\n",
        "denovo12661\n",
        "denovo12660"
       ]
      },
      {
       "output_type": "stream",
       "stream": "stdout",
       "text": [
        "\n",
        "denovo12669\n",
        "denovo12668\n",
        "denovo40832"
       ]
      },
      {
       "output_type": "stream",
       "stream": "stdout",
       "text": [
        "\n",
        "denovo17019\n",
        "denovo17018\n",
        "denovo17017\n",
        "denovo17016"
       ]
      },
      {
       "output_type": "stream",
       "stream": "stdout",
       "text": [
        "\n",
        "denovo17015\n",
        "denovo17014\n",
        "denovo17013\n",
        "denovo17012\n",
        "denovo17011"
       ]
      },
      {
       "output_type": "stream",
       "stream": "stdout",
       "text": [
        "\n",
        "denovo17010\n",
        "denovo56102\n",
        "denovo56103\n",
        "denovo56100"
       ]
      },
      {
       "output_type": "stream",
       "stream": "stdout",
       "text": [
        "\n",
        "denovo56101\n",
        "denovo56106\n",
        "denovo56107\n",
        "denovo56104"
       ]
      },
      {
       "output_type": "stream",
       "stream": "stdout",
       "text": [
        "\n",
        "denovo56105\n",
        "denovo56108\n",
        "denovo56109"
       ]
      },
      {
       "output_type": "stream",
       "stream": "stdout",
       "text": [
        "\n",
        "denovo22167\n",
        "denovo22166\n",
        "denovo22165"
       ]
      },
      {
       "output_type": "stream",
       "stream": "stdout",
       "text": [
        "\n",
        "denovo42553\n",
        "denovo22163\n",
        "denovo22162"
       ]
      },
      {
       "output_type": "stream",
       "stream": "stdout",
       "text": [
        "\n",
        "denovo22161\n",
        "denovo22160\n",
        "denovo42558\n",
        "denovo42559"
       ]
      },
      {
       "output_type": "stream",
       "stream": "stdout",
       "text": [
        "\n",
        "denovo53550\n",
        "denovo53551\n",
        "denovo53556\n",
        "denovo53557"
       ]
      },
      {
       "output_type": "stream",
       "stream": "stdout",
       "text": [
        "\n",
        "denovo53554\n",
        "denovo22168\n",
        "denovo28204"
       ]
      },
      {
       "output_type": "stream",
       "stream": "stdout",
       "text": [
        "\n",
        "denovo28205\n",
        "denovo28206\n",
        "denovo28207\n",
        "denovo48732"
       ]
      },
      {
       "output_type": "stream",
       "stream": "stdout",
       "text": [
        "\n",
        "denovo28201\n",
        "denovo48730\n",
        "denovo28203"
       ]
      },
      {
       "output_type": "stream",
       "stream": "stdout",
       "text": [
        "\n",
        "denovo44862\n",
        "denovo44863\n",
        "denovo52683\n",
        "denovo44861"
       ]
      },
      {
       "output_type": "stream",
       "stream": "stdout",
       "text": [
        "\n",
        "denovo28208\n",
        "denovo28209\n",
        "denovo48738"
       ]
      },
      {
       "output_type": "stream",
       "stream": "stdout",
       "text": [
        "\n",
        "denovo44865\n",
        "denovo50422\n",
        "denovo3954"
       ]
      },
      {
       "output_type": "stream",
       "stream": "stdout",
       "text": [
        "\n",
        "denovo3955\n",
        "denovo3956\n",
        "denovo3957"
       ]
      },
      {
       "output_type": "stream",
       "stream": "stdout",
       "text": [
        "\n",
        "denovo3950\n",
        "denovo3951\n",
        "denovo3952"
       ]
      },
      {
       "output_type": "stream",
       "stream": "stdout",
       "text": [
        "\n",
        "denovo3953\n",
        "denovo42082\n",
        "denovo42083\n",
        "denovo42080"
       ]
      },
      {
       "output_type": "stream",
       "stream": "stdout",
       "text": [
        "\n",
        "denovo42081\n",
        "denovo3958\n",
        "denovo3959\n",
        "denovo42084"
       ]
      },
      {
       "output_type": "stream",
       "stream": "stdout",
       "text": [
        "\n",
        "denovo42085\n",
        "denovo53888\n",
        "denovo53889\n",
        "denovo53884"
       ]
      },
      {
       "output_type": "stream",
       "stream": "stdout",
       "text": [
        "\n",
        "denovo53885\n",
        "denovo53886\n",
        "denovo53887"
       ]
      },
      {
       "output_type": "stream",
       "stream": "stdout",
       "text": [
        "\n",
        "denovo53880\n",
        "denovo53881\n",
        "denovo53882"
       ]
      },
      {
       "output_type": "stream",
       "stream": "stdout",
       "text": [
        "\n",
        "denovo53883\n",
        "denovo48589\n",
        "denovo48588\n",
        "denovo46701"
       ]
      },
      {
       "output_type": "stream",
       "stream": "stdout",
       "text": [
        "\n",
        "denovo46700\n",
        "denovo46703\n",
        "denovo46702\n",
        "denovo46705"
       ]
      },
      {
       "output_type": "stream",
       "stream": "stdout",
       "text": [
        "\n",
        "denovo46704\n",
        "denovo46707\n",
        "denovo46706"
       ]
      },
      {
       "output_type": "stream",
       "stream": "stdout",
       "text": [
        "\n",
        "denovo46709\n",
        "denovo46708\n",
        "denovo52057"
       ]
      },
      {
       "output_type": "stream",
       "stream": "stdout",
       "text": [
        "\n",
        "denovo49415\n",
        "denovo55486"
       ]
      },
      {
       "output_type": "stream",
       "stream": "stdout",
       "text": [
        "\n",
        "denovo55487\n",
        "denovo55484\n",
        "denovo55485"
       ]
      },
      {
       "output_type": "stream",
       "stream": "stdout",
       "text": [
        "\n",
        "denovo55482\n",
        "denovo55483\n",
        "denovo55480"
       ]
      },
      {
       "output_type": "stream",
       "stream": "stdout",
       "text": [
        "\n",
        "denovo55481\n",
        "denovo55488\n",
        "denovo44179"
       ]
      },
      {
       "output_type": "stream",
       "stream": "stdout",
       "text": [
        "\n",
        "denovo43997\n",
        "denovo43996\n",
        "denovo43995"
       ]
      },
      {
       "output_type": "stream",
       "stream": "stdout",
       "text": [
        "\n",
        "denovo29559\n",
        "denovo29558\n",
        "denovo17909"
       ]
      },
      {
       "output_type": "stream",
       "stream": "stdout",
       "text": [
        "\n",
        "denovo17908\n",
        "denovo17905\n",
        "denovo17904"
       ]
      },
      {
       "output_type": "stream",
       "stream": "stdout",
       "text": [
        "\n",
        "denovo17907\n",
        "denovo17906"
       ]
      },
      {
       "output_type": "stream",
       "stream": "stdout",
       "text": [
        "\n",
        "denovo17901\n",
        "denovo17900\n",
        "denovo17903"
       ]
      },
      {
       "output_type": "stream",
       "stream": "stdout",
       "text": [
        "\n",
        "denovo17902\n",
        "denovo49465"
       ]
      },
      {
       "output_type": "stream",
       "stream": "stdout",
       "text": [
        "\n",
        "denovo49464\n",
        "denovo49467"
       ]
      },
      {
       "output_type": "stream",
       "stream": "stdout",
       "text": [
        "\n",
        "denovo49466\n",
        "denovo49461"
       ]
      },
      {
       "output_type": "stream",
       "stream": "stdout",
       "text": [
        "\n",
        "denovo49460\n",
        "denovo49463\n",
        "denovo49462"
       ]
      },
      {
       "output_type": "stream",
       "stream": "stdout",
       "text": [
        "\n",
        "denovo43990\n",
        "denovo49469\n",
        "denovo49468"
       ]
      },
      {
       "output_type": "stream",
       "stream": "stdout",
       "text": [
        "\n",
        "denovo6416\n",
        "denovo6417"
       ]
      },
      {
       "output_type": "stream",
       "stream": "stdout",
       "text": [
        "\n",
        "denovo6414\n",
        "denovo6415"
       ]
      },
      {
       "output_type": "stream",
       "stream": "stdout",
       "text": [
        "\n",
        "denovo6412\n",
        "denovo6413\n",
        "denovo6410"
       ]
      },
      {
       "output_type": "stream",
       "stream": "stdout",
       "text": [
        "\n",
        "denovo6411\n",
        "denovo6418"
       ]
      },
      {
       "output_type": "stream",
       "stream": "stdout",
       "text": [
        "\n",
        "denovo6419\n",
        "denovo50424"
       ]
      },
      {
       "output_type": "stream",
       "stream": "stdout",
       "text": [
        "\n",
        "denovo23202\n",
        "denovo105\n",
        "denovo47070"
       ]
      },
      {
       "output_type": "stream",
       "stream": "stdout",
       "text": [
        "\n",
        "denovo47071\n",
        "denovo47072"
       ]
      },
      {
       "output_type": "stream",
       "stream": "stdout",
       "text": [
        "\n",
        "denovo47073\n",
        "denovo47074\n",
        "denovo47075"
       ]
      },
      {
       "output_type": "stream",
       "stream": "stdout",
       "text": [
        "\n",
        "denovo47076\n",
        "denovo47077"
       ]
      },
      {
       "output_type": "stream",
       "stream": "stdout",
       "text": [
        "\n",
        "denovo47078\n",
        "denovo47079\n",
        "denovo59364"
       ]
      },
      {
       "output_type": "stream",
       "stream": "stdout",
       "text": [
        "\n",
        "denovo16628\n",
        "denovo8043"
       ]
      },
      {
       "output_type": "stream",
       "stream": "stdout",
       "text": [
        "\n",
        "denovo8042\n",
        "denovo8041"
       ]
      },
      {
       "output_type": "stream",
       "stream": "stdout",
       "text": [
        "\n",
        "denovo8040\n",
        "denovo8047"
       ]
      },
      {
       "output_type": "stream",
       "stream": "stdout",
       "text": [
        "\n",
        "denovo8046\n",
        "denovo8045"
       ]
      },
      {
       "output_type": "stream",
       "stream": "stdout",
       "text": [
        "\n",
        "denovo8044\n",
        "denovo8049\n",
        "denovo8048"
       ]
      },
      {
       "output_type": "stream",
       "stream": "stdout",
       "text": [
        "\n",
        "denovo11859\n",
        "denovo11858"
       ]
      },
      {
       "output_type": "stream",
       "stream": "stdout",
       "text": [
        "\n",
        "denovo103\n",
        "denovo29488"
       ]
      },
      {
       "output_type": "stream",
       "stream": "stdout",
       "text": [
        "\n",
        "denovo16621\n",
        "denovo16620\n",
        "denovo50968"
       ]
      },
      {
       "output_type": "stream",
       "stream": "stdout",
       "text": [
        "\n",
        "denovo50969\n",
        "denovo50966"
       ]
      },
      {
       "output_type": "stream",
       "stream": "stdout",
       "text": [
        "\n",
        "denovo50967\n",
        "denovo50964\n",
        "denovo50965"
       ]
      },
      {
       "output_type": "stream",
       "stream": "stdout",
       "text": [
        "\n",
        "denovo50962\n",
        "denovo50963"
       ]
      },
      {
       "output_type": "stream",
       "stream": "stdout",
       "text": [
        "\n",
        "denovo50960\n",
        "denovo50961"
       ]
      },
      {
       "output_type": "stream",
       "stream": "stdout",
       "text": [
        "\n",
        "denovo11507\n",
        "denovo11506\n",
        "denovo11505"
       ]
      },
      {
       "output_type": "stream",
       "stream": "stdout",
       "text": [
        "\n",
        "denovo11504\n",
        "denovo11503"
       ]
      },
      {
       "output_type": "stream",
       "stream": "stdout",
       "text": [
        "\n",
        "denovo11502\n",
        "denovo11501\n",
        "denovo11500"
       ]
      },
      {
       "output_type": "stream",
       "stream": "stdout",
       "text": [
        "\n",
        "denovo11509\n",
        "denovo11508\n",
        "denovo101"
       ]
      },
      {
       "output_type": "stream",
       "stream": "stdout",
       "text": [
        "\n",
        "denovo54794\n",
        "denovo12799"
       ]
      },
      {
       "output_type": "stream",
       "stream": "stdout",
       "text": [
        "\n",
        "denovo12798\n",
        "denovo25324\n",
        "denovo25325"
       ]
      },
      {
       "output_type": "stream",
       "stream": "stdout",
       "text": [
        "\n",
        "denovo25326\n",
        "denovo25327"
       ]
      },
      {
       "output_type": "stream",
       "stream": "stdout",
       "text": [
        "\n",
        "denovo25320\n",
        "denovo25321"
       ]
      },
      {
       "output_type": "stream",
       "stream": "stdout",
       "text": [
        "\n",
        "denovo25322\n",
        "denovo25323\n",
        "denovo5444"
       ]
      },
      {
       "output_type": "stream",
       "stream": "stdout",
       "text": [
        "\n",
        "denovo5445\n",
        "denovo5446\n",
        "denovo5447"
       ]
      },
      {
       "output_type": "stream",
       "stream": "stdout",
       "text": [
        "\n",
        "denovo25328\n",
        "denovo25329"
       ]
      },
      {
       "output_type": "stream",
       "stream": "stdout",
       "text": [
        "\n",
        "denovo5442\n",
        "denovo5443\n",
        "denovo12793"
       ]
      },
      {
       "output_type": "stream",
       "stream": "stdout",
       "text": [
        "\n",
        "denovo12792\n",
        "denovo3136"
       ]
      },
      {
       "output_type": "stream",
       "stream": "stdout",
       "text": [
        "\n",
        "denovo3137\n",
        "denovo3134\n",
        "denovo3135"
       ]
      },
      {
       "output_type": "stream",
       "stream": "stdout",
       "text": [
        "\n",
        "denovo3132\n",
        "denovo3133\n",
        "denovo3130"
       ]
      },
      {
       "output_type": "stream",
       "stream": "stdout",
       "text": [
        "\n",
        "denovo3131\n",
        "denovo40938"
       ]
      },
      {
       "output_type": "stream",
       "stream": "stdout",
       "text": [
        "\n",
        "denovo40939\n",
        "denovo3138"
       ]
      },
      {
       "output_type": "stream",
       "stream": "stdout",
       "text": [
        "\n",
        "denovo3139\n",
        "denovo44039\n",
        "denovo44038"
       ]
      },
      {
       "output_type": "stream",
       "stream": "stdout",
       "text": [
        "\n",
        "denovo41049\n",
        "denovo41048"
       ]
      },
      {
       "output_type": "stream",
       "stream": "stdout",
       "text": [
        "\n",
        "denovo44031\n",
        "denovo44030\n",
        "denovo41045"
       ]
      },
      {
       "output_type": "stream",
       "stream": "stdout",
       "text": [
        "\n",
        "denovo41044\n",
        "denovo41043\n",
        "denovo41042"
       ]
      },
      {
       "output_type": "stream",
       "stream": "stdout",
       "text": [
        "\n",
        "denovo41041\n",
        "denovo41040\n",
        "denovo28864"
       ]
      },
      {
       "output_type": "stream",
       "stream": "stdout",
       "text": [
        "\n",
        "denovo23814\n",
        "denovo23815"
       ]
      },
      {
       "output_type": "stream",
       "stream": "stdout",
       "text": [
        "\n",
        "denovo42629\n",
        "denovo23810\n",
        "denovo23811"
       ]
      },
      {
       "output_type": "stream",
       "stream": "stdout",
       "text": [
        "\n",
        "denovo21629\n",
        "denovo15358"
       ]
      },
      {
       "output_type": "stream",
       "stream": "stdout",
       "text": [
        "\n",
        "denovo21628\n",
        "denovo23813"
       ]
      },
      {
       "output_type": "stream",
       "stream": "stdout",
       "text": [
        "\n",
        "denovo9455\n",
        "denovo21081\n",
        "denovo26679"
       ]
      },
      {
       "output_type": "stream",
       "stream": "stdout",
       "text": [
        "\n",
        "denovo26678\n",
        "denovo10185"
       ]
      },
      {
       "output_type": "stream",
       "stream": "stdout",
       "text": [
        "\n",
        "denovo26673\n",
        "denovo26672\n",
        "denovo26671"
       ]
      },
      {
       "output_type": "stream",
       "stream": "stdout",
       "text": [
        "\n",
        "denovo26670\n",
        "denovo26677\n",
        "denovo21083"
       ]
      },
      {
       "output_type": "stream",
       "stream": "stdout",
       "text": [
        "\n",
        "denovo26675\n",
        "denovo26674"
       ]
      },
      {
       "output_type": "stream",
       "stream": "stdout",
       "text": [
        "\n",
        "denovo21082\n",
        "denovo9451\n",
        "denovo10180"
       ]
      },
      {
       "output_type": "stream",
       "stream": "stdout",
       "text": [
        "\n",
        "denovo9450\n",
        "denovo15353\n",
        "denovo39840"
       ]
      },
      {
       "output_type": "stream",
       "stream": "stdout",
       "text": [
        "\n",
        "denovo10182\n",
        "denovo39841"
       ]
      },
      {
       "output_type": "stream",
       "stream": "stdout",
       "text": [
        "\n",
        "denovo21086\n",
        "denovo39842"
       ]
      },
      {
       "output_type": "stream",
       "stream": "stdout",
       "text": [
        "\n",
        "denovo33978\n",
        "denovo33979\n",
        "denovo33972"
       ]
      },
      {
       "output_type": "stream",
       "stream": "stdout",
       "text": [
        "\n",
        "denovo33973\n",
        "denovo33970"
       ]
      },
      {
       "output_type": "stream",
       "stream": "stdout",
       "text": [
        "\n",
        "denovo33971\n",
        "denovo33976\n",
        "denovo33977"
       ]
      },
      {
       "output_type": "stream",
       "stream": "stdout",
       "text": [
        "\n",
        "denovo33974\n",
        "denovo21624\n",
        "denovo45348"
       ]
      },
      {
       "output_type": "stream",
       "stream": "stdout",
       "text": [
        "\n",
        "denovo45349\n",
        "denovo39846\n",
        "denovo45340"
       ]
      },
      {
       "output_type": "stream",
       "stream": "stdout",
       "text": [
        "\n",
        "denovo45341\n",
        "denovo45342\n",
        "denovo9458"
       ]
      },
      {
       "output_type": "stream",
       "stream": "stdout",
       "text": [
        "\n",
        "denovo45344\n",
        "denovo45345\n",
        "denovo45346"
       ]
      },
      {
       "output_type": "stream",
       "stream": "stdout",
       "text": [
        "\n",
        "denovo45347\n",
        "denovo3698\n",
        "denovo41449"
       ]
      },
      {
       "output_type": "stream",
       "stream": "stdout",
       "text": [
        "\n",
        "denovo44469\n",
        "denovo42623\n",
        "denovo35181"
       ]
      },
      {
       "output_type": "stream",
       "stream": "stdout",
       "text": [
        "\n",
        "denovo35180\n",
        "denovo43242\n",
        "denovo31403"
       ]
      },
      {
       "output_type": "stream",
       "stream": "stdout",
       "text": [
        "\n",
        "denovo42621\n",
        "denovo38809"
       ]
      },
      {
       "output_type": "stream",
       "stream": "stdout",
       "text": [
        "\n",
        "denovo38808\n",
        "denovo38807"
       ]
      },
      {
       "output_type": "stream",
       "stream": "stdout",
       "text": [
        "\n",
        "denovo38806\n",
        "denovo38805\n",
        "denovo38804"
       ]
      },
      {
       "output_type": "stream",
       "stream": "stdout",
       "text": [
        "\n",
        "denovo38803\n",
        "denovo38802"
       ]
      },
      {
       "output_type": "stream",
       "stream": "stdout",
       "text": [
        "\n",
        "denovo38801\n",
        "denovo38800\n",
        "denovo48479"
       ]
      },
      {
       "output_type": "stream",
       "stream": "stdout",
       "text": [
        "\n",
        "denovo48478\n",
        "denovo48475"
       ]
      },
      {
       "output_type": "stream",
       "stream": "stdout",
       "text": [
        "\n",
        "denovo48474\n",
        "denovo48477"
       ]
      },
      {
       "output_type": "stream",
       "stream": "stdout",
       "text": [
        "\n",
        "denovo48476\n",
        "denovo48471\n",
        "denovo48470"
       ]
      },
      {
       "output_type": "stream",
       "stream": "stdout",
       "text": [
        "\n",
        "denovo48473\n",
        "denovo48472"
       ]
      },
      {
       "output_type": "stream",
       "stream": "stdout",
       "text": [
        "\n",
        "denovo35981\n",
        "denovo35980"
       ]
      },
      {
       "output_type": "stream",
       "stream": "stdout",
       "text": [
        "\n",
        "denovo35983\n",
        "denovo35982\n"
       ]
      },
      {
       "output_type": "stream",
       "stream": "stdout",
       "text": [
        "denovo35985\n",
        "denovo35984\n",
        "denovo35987"
       ]
      },
      {
       "output_type": "stream",
       "stream": "stdout",
       "text": [
        "\n",
        "denovo35986\n",
        "denovo35989\n",
        "denovo35988"
       ]
      },
      {
       "output_type": "stream",
       "stream": "stdout",
       "text": [
        "\n",
        "denovo31602\n",
        "denovo31603"
       ]
      },
      {
       "output_type": "stream",
       "stream": "stdout",
       "text": [
        "\n",
        "denovo31600\n",
        "denovo31601\n",
        "denovo31606"
       ]
      },
      {
       "output_type": "stream",
       "stream": "stdout",
       "text": [
        "\n",
        "denovo31607\n",
        "denovo31604"
       ]
      },
      {
       "output_type": "stream",
       "stream": "stdout",
       "text": [
        "\n",
        "denovo31605\n",
        "denovo31608\n",
        "denovo31609"
       ]
      },
      {
       "output_type": "stream",
       "stream": "stdout",
       "text": [
        "\n",
        "denovo538\n",
        "denovo539\n",
        "denovo57116"
       ]
      },
      {
       "output_type": "stream",
       "stream": "stdout",
       "text": [
        "\n",
        "denovo57117\n",
        "denovo57114\n",
        "denovo57115"
       ]
      },
      {
       "output_type": "stream",
       "stream": "stdout",
       "text": [
        "\n",
        "denovo57112\n",
        "denovo44826"
       ]
      },
      {
       "output_type": "stream",
       "stream": "stdout",
       "text": [
        "\n",
        "denovo57113\n",
        "denovo57110\n",
        "denovo13604"
       ]
      },
      {
       "output_type": "stream",
       "stream": "stdout",
       "text": [
        "\n",
        "denovo57111\n",
        "denovo44827\n",
        "denovo43363"
       ]
      },
      {
       "output_type": "stream",
       "stream": "stdout",
       "text": [
        "\n",
        "denovo26362\n",
        "denovo26365\n",
        "denovo26364"
       ]
      },
      {
       "output_type": "stream",
       "stream": "stdout",
       "text": [
        "\n",
        "denovo15671\n",
        "denovo15670\n",
        "denovo15673\n",
        "denovo15672"
       ]
      },
      {
       "output_type": "stream",
       "stream": "stdout",
       "text": [
        "\n",
        "denovo15675\n",
        "denovo15674\n",
        "denovo15677"
       ]
      },
      {
       "output_type": "stream",
       "stream": "stdout",
       "text": [
        "\n",
        "denovo15676\n",
        "denovo15679\n",
        "denovo15678"
       ]
      },
      {
       "output_type": "stream",
       "stream": "stdout",
       "text": [
        "\n",
        "denovo44824\n",
        "denovo37808\n",
        "denovo26369"
       ]
      },
      {
       "output_type": "stream",
       "stream": "stdout",
       "text": [
        "\n",
        "denovo37809\n",
        "denovo26368\n",
        "denovo1538"
       ]
      },
      {
       "output_type": "stream",
       "stream": "stdout",
       "text": [
        "\n",
        "denovo45127\n",
        "denovo1539\n",
        "denovo39312"
       ]
      },
      {
       "output_type": "stream",
       "stream": "stdout",
       "text": [
        "\n",
        "denovo33114\n",
        "denovo33115\n",
        "denovo33116"
       ]
      },
      {
       "output_type": "stream",
       "stream": "stdout",
       "text": [
        "\n",
        "denovo33117\n",
        "denovo33110\n",
        "denovo33111"
       ]
      },
      {
       "output_type": "stream",
       "stream": "stdout",
       "text": [
        "\n",
        "denovo33112\n",
        "denovo33113\n",
        "denovo37806"
       ]
      },
      {
       "output_type": "stream",
       "stream": "stdout",
       "text": [
        "\n",
        "denovo33118\n",
        "denovo33119\n",
        "denovo37807"
       ]
      }
     ]
    },
    {
     "cell_type": "markdown",
     "metadata": {},
     "source": [
      "I need to convert the above data into arrays or dictionaries. Then I need to compute hamming/levenschtein distances for each pair of sequences. First I should a) get hamming distance working, b) eliminate sequences with no interaction or not enough data to compute interaction. "
     ]
    },
    {
     "cell_type": "code",
     "collapsed": false,
     "input": [
      "def hamming_distance(s1, s2):\n",
      "    #Return the Hamming distance between equal-length sequences\n",
      "    if len(s1) != len(s2):\n",
      "        raise ValueError(\"Undefined for sequences of unequal length\")\n",
      "    return sum(ch1 != ch2 for ch1, ch2 in zip(s1, s2))"
     ],
     "language": "python",
     "metadata": {},
     "outputs": [],
     "prompt_number": 8
    },
    {
     "cell_type": "code",
     "collapsed": false,
     "input": [
      "# Get OTU names of interest\n",
      "edge_names = edge_list['feature1'].tolist()\n",
      "edge_names2 = edge_list['feature2'].tolist()\n",
      "edge_names = edge_names + edge_names2\n",
      "names_set = set(edge_names)\n",
      "\n",
      "print len(names_set)\n",
      "\n",
      "sequences_subset = {}\n",
      "phyla_OTU_IDs_subset = {}\n",
      "values = []\n",
      "\n",
      "i=0\n",
      "missing_val = []\n",
      "\n",
      "for key,value in phyla_OTU_IDs.iteritems():\n",
      "    valuestrip = value.replace(' ', '')\n",
      "    if valuestrip in names_set:\n",
      "        if valuestrip not in values:\n",
      "            values.append(valuestrip)\n",
      "            phyla_OTU_IDs_subset[key] = valuestrip\n",
      "    elif valuestrip not in names_set:\n",
      "        if valuestrip not in missing_val:\n",
      "            missing_val.append(valuestrip)\n",
      "            #print valuestrip\n",
      "            i+=1\n",
      "        #pass\n",
      "\n",
      "#print missing_val\n",
      "#print len(missing_val)\n",
      "#print i\n",
      "print phyla_OTU_IDs_subset\n",
      "\n",
      "# There are 171 names in names_set, \n",
      "# a list of names that came from taking all unique taxa strings from both columns of \n",
      "# edge list, a list of all non-NAN rows in the original ccrepe R output. \n",
      "# There are 80 or 91 missing names in phyla_OTU_IDs_subset which was supposed to just\n",
      "\n",
      "\n",
      "            \n",
      "i=0\n",
      "for name in names_set:\n",
      "    if name not in phyla_OTU_IDs_subset.values():\n",
      "        i+\n",
      "        #print name\n",
      "        \n",
      "#print i\n",
      "#print len(phyla_OTU_IDs_subset)\n",
      "#print len(sequences_subset)\n",
      "#print phyla_OTU_IDs_subset\n"
     ],
     "language": "python",
     "metadata": {},
     "outputs": [
      {
       "output_type": "stream",
       "stream": "stdout",
       "text": [
        "171\n",
        "{'denovo62585': 'k__Bacteria;p__Proteobacteria;c__Deltaproteobacteria;o__Syntrophobacterales;f__Syntrophobacteraceae', 'denovo4723': 'k__Bacteria;p__Proteobacteria;c__Alphaproteobacteria;o__Sphingomonadales;f__Sphingomonadaceae', 'denovo12302': 'k__Bacteria;p__Chloroflexi;c__TK17;o__;f__', 'denovo16798': 'k__Bacteria;p__Proteobacteria;c__Deltaproteobacteria;o__Myxococcales;f__Haliangiaceae', 'denovo58441': 'k__Bacteria;p__Proteobacteria;c__Gammaproteobacteria;o__Oceanospirillales;f__Alcanivoracaceae', 'denovo57727': 'k__Bacteria;p__Proteobacteria;c__Gammaproteobacteria;o__Methylococcales;f__Methylococcaceae', 'denovo28366': 'k__Bacteria;p__Proteobacteria;c__Betaproteobacteria;o__Burkholderiales;f__Comamonadaceae', 'denovo62515': 'k__Bacteria;p__Proteobacteria;c__Gammaproteobacteria;o__Oceanospirillales;f__', 'denovo16905': 'k__Bacteria;p__WPS-2;c__;o__;f__', 'denovo16983': 'k__Bacteria;p__Proteobacteria;c__Betaproteobacteria;o__Burkholderiales;f__Oxalobacteraceae', 'denovo35907': 'k__Bacteria;p__Firmicutes;c__Bacilli;o__Bacillales;f__Alicyclobacillaceae', 'denovo675': 'k__Bacteria;p__Proteobacteria;c__Betaproteobacteria;o__Burkholderiales;f__', 'denovo50695': 'k__Bacteria;p__Chloroflexi;c__Anaerolineae;o__CFB-26;f__', 'denovo6448': 'k__Bacteria;p__Proteobacteria;c__Deltaproteobacteria;o__Myxococcales;f__Nannocystaceae', 'denovo27595': 'k__Bacteria;p__Acidobacteria;c__Acidobacteria-5;o__;f__', 'denovo1777': 'k__Bacteria;p__Firmicutes;c__Bacilli;o__Bacillales;f__Planococcaceae', 'denovo54533': 'k__Bacteria;p__Proteobacteria;c__Alphaproteobacteria;o__Rickettsiales;f__', 'denovo1775': 'k__Bacteria;p__Firmicutes;c__Bacilli;o__Bacillales;f__Paenibacillaceae', 'denovo49308': 'k__Bacteria;p__Proteobacteria;c__Betaproteobacteria;o__Burkholderiales;f__Burkholderiaceae', 'denovo19654': 'k__Bacteria;p__Proteobacteria;c__Alphaproteobacteria;o__Rhizobiales;f__Methylocystaceae', 'denovo4529': 'k__Bacteria;p__Firmicutes;c__Clostridia;o__Clostridiales;f__', 'denovo34481': 'k__Bacteria;p__Proteobacteria;c__Alphaproteobacteria;o__Rhizobiales;f__Rhodobiaceae', 'denovo31596': 'k__Bacteria;p__Proteobacteria;c__Gammaproteobacteria;o__Vibrionales;f__Vibrionaceae', 'denovo36733': 'k__Bacteria;p__Firmicutes;c__Bacilli;o__Bacillales;f__Thermoactinomycetaceae', 'denovo56399': 'k__Bacteria;p__Proteobacteria;c__Betaproteobacteria;o__Methylophilales;f__Methylophilaceae', 'denovo48678': 'k__Bacteria;p__Proteobacteria;c__Alphaproteobacteria;o__Rhizobiales;f__Aurantimonadaceae', 'denovo24836': 'k__Bacteria;p__Acidobacteria;c__;o__;f__', 'denovo16795': 'k__Bacteria;p__Firmicutes;c__Clostridia;o__Clostridiales;f__Ruminococcaceae', 'denovo61720': 'k__Bacteria;p__Proteobacteria;c__Alphaproteobacteria;o__Rhizobiales;f__', 'denovo36029': 'k__Bacteria;p__Proteobacteria;c__Deltaproteobacteria;o__;f__', 'denovo61583': 'k__Bacteria;p__Proteobacteria;c__Betaproteobacteria;o__;f__', 'denovo43270': 'k__Bacteria;p__Proteobacteria;c__Alphaproteobacteria;o__;f__', 'denovo22824': 'k__Bacteria;p__Proteobacteria;c__Gammaproteobacteria;o__Thiotrichales;f__', 'denovo61587': 'k__Bacteria;p__Proteobacteria;c__Betaproteobacteria;o__Burkholderiales;f__Alcaligenaceae', 'denovo12511': 'k__Bacteria;p__Proteobacteria;c__Gammaproteobacteria;o__Xanthomonadales;f__Xanthomonadaceae', 'denovo57440': 'k__Bacteria;p__Proteobacteria;c__Betaproteobacteria;o__Methylophilales;f__', 'denovo12513': 'k__Bacteria;p__Proteobacteria;c__Gammaproteobacteria;o__Legionellales;f__Legionellaceae', 'denovo42210': 'k__Bacteria;p__Proteobacteria;c__Alphaproteobacteria;o__Rhizobiales;f__Brucellaceae', 'denovo29159': 'k__Bacteria;p__Proteobacteria;c__Alphaproteobacteria;o__Caulobacterales;f__Caulobacteraceae', 'denovo35595': 'k__Bacteria;p__Proteobacteria;c__Betaproteobacteria;o__Rhodocyclales;f__Rhodocyclaceae', 'denovo12519': 'k__Bacteria;p__Proteobacteria;c__Deltaproteobacteria;o__Myxococcales;f__', 'denovo12518': 'k__Bacteria;p__Proteobacteria;c__Alphaproteobacteria;o__Rhizobiales;f__Hyphomicrobiaceae', 'denovo36739': 'k__Bacteria;p__Proteobacteria;c__Alphaproteobacteria;o__Rhodobacterales;f__Rhodobacteraceae', 'denovo41479': 'k__Bacteria;p__Proteobacteria;c__Alphaproteobacteria;o__Rhizobiales;f__Rhizobiaceae', 'denovo14797': 'k__Bacteria;p__Firmicutes;c__Clostridia;o__Clostridiales;f__Peptococcaceae', 'denovo10797': 'k__Bacteria;p__Firmicutes;c__Clostridia;o__Clostridiales;f__Symbiobacteriaceae', 'denovo41474': 'k__Bacteria;p__Firmicutes;c__Clostridia;o__Clostridiales;f__Clostridiaceae', 'denovo3850': 'k__Bacteria;p__Proteobacteria;c__Alphaproteobacteria;o__Rhodobacterales;f__Hyphomonadaceae', 'denovo53825': 'k__Bacteria;p__Proteobacteria;c__Gammaproteobacteria;o__Thiotrichales;f__Piscirickettsiaceae', 'denovo34865': 'k__Bacteria;p__Proteobacteria;c__Alphaproteobacteria;o__Rhizobiales;f__Bradyrhizobiaceae', 'denovo35426': 'k__Bacteria;p__Acidobacteria;c__Solibacteres;o__Solibacterales;f__Solibacteraceae', 'denovo26335': 'k__Bacteria;p__Proteobacteria;c__Alphaproteobacteria;o__Rickettsiales;f__Rickettsiaceae', 'denovo3508': 'k__Bacteria;p__Proteobacteria;c__Alphaproteobacteria;o__Sphingomonadales;f__', 'denovo27383': 'k__Bacteria;p__Proteobacteria;c__Deltaproteobacteria;o__MIZ46;f__', 'denovo35422': 'k__Bacteria;p__Proteobacteria;c__Alphaproteobacteria;o__Sphingomonadales;f__Erythrobacteraceae', 'denovo35420': 'k__Bacteria;p__Proteobacteria;c__Betaproteobacteria;o__Nitrosomonadales;f__Nitrosomonadaceae', 'denovo18794': 'k__Bacteria;p__Proteobacteria;c__Deltaproteobacteria;o__Myxococcales;f__Myxococcaceae', 'denovo46464': 'k__Bacteria;p__Proteobacteria;c__Alphaproteobacteria;o__Rhizobiales;f__Beijerinckiaceae', 'denovo5133': 'k__Bacteria;p__Firmicutes;c__Bacilli;o__Bacillales;f__', 'denovo46783': 'k__Bacteria;p__Proteobacteria;c__Gammaproteobacteria;o__Chromatiales;f__', 'denovo56975': 'k__Bacteria;p__Chloroflexi;c__Anaerolineae;o__Caldilineales;f__Caldilineaceae', 'denovo22400': 'k__Bacteria;p__Firmicutes;c__Bacilli;o__Bacillales;f__Staphylococcaceae', 'denovo34774': 'k__Bacteria;p__Firmicutes;c__Clostridia;o__Clostridiales;f__Lachnospiraceae', 'denovo58972': 'k__Bacteria;p__Firmicutes;c__Bacilli;o__Bacillales;f__Bacillaceae', 'denovo40105': 'k__Bacteria;p__Proteobacteria;c__Alphaproteobacteria;o__Rhodospirillales;f__Acetobacteraceae', 'denovo38253': 'k__Bacteria;p__Proteobacteria;c__Gammaproteobacteria;o__Oceanospirillales;f__Halomonadaceae', 'denovo22216': 'k__Bacteria;p__Proteobacteria;c__Gammaproteobacteria;o__Legionellales;f__Coxiellaceae', 'denovo23948': 'k__Bacteria;p__Proteobacteria;c__Deltaproteobacteria;o__Bdellovibrionales;f__Bdellovibrionaceae', 'denovo58976': 'k__Bacteria;p__Proteobacteria;c__Deltaproteobacteria;o__Myxococcales;f__Polyangiaceae', 'denovo39002': 'k__Bacteria;p__Proteobacteria;c__Deltaproteobacteria;o__Bdellovibrionales;f__Bacteriovoracaceae', 'denovo31223': 'k__Archaea;p__Crenarchaeota;c__Thaumarchaeota;o__Nitrososphaerales;f__Nitrososphaeraceae', 'denovo52461': 'k__Bacteria;p__Proteobacteria;c__Alphaproteobacteria;o__Rhizobiales;f__Phyllobacteriaceae', 'denovo56393': 'k__Bacteria;p__Planctomycetes;c__Phycisphaerae;o__Phycisphaerales;f__', 'denovo15207': 'k__Bacteria;p__Proteobacteria;c__Gammaproteobacteria;o__Pseudomonadales;f__Moraxellaceae', 'denovo23166': 'k__Bacteria;p__Proteobacteria;c__Gammaproteobacteria;o__Xanthomonadales;f__Sinobacteraceae', 'denovo36882': 'k__Bacteria;p__Proteobacteria;c__Gammaproteobacteria;o__Enterobacteriales;f__Enterobacteriaceae', 'denovo52765': 'k__Bacteria;p__Firmicutes;c__Bacilli;o__Lactobacillales;f__Carnobacteriaceae', 'denovo42218': 'k__Bacteria;p__BRC1;c__PRR-11;o__;f__', 'denovo47339': 'k__Bacteria;p__Verrucomicrobia;c__Verrucomicrobiae;o__Verrucomicrobiales;f__Verrucomicrobiaceae', 'denovo5814': 'k__Bacteria;p__Chloroflexi;c__Thermomicrobia;o__;f__'}"
       ]
      },
      {
       "output_type": "stream",
       "stream": "stdout",
       "text": [
        "\n"
       ]
      }
     ],
     "prompt_number": 155
    },
    {
     "cell_type": "code",
     "collapsed": false,
     "input": [
      "print hamming_distance(sequences[OTU_names[0]], sequences[OTU_names[1]] )"
     ],
     "language": "python",
     "metadata": {},
     "outputs": [
      {
       "output_type": "stream",
       "stream": "stdout",
       "text": [
        "16\n"
       ]
      }
     ],
     "prompt_number": 70
    },
    {
     "cell_type": "code",
     "collapsed": false,
     "input": [],
     "language": "python",
     "metadata": {},
     "outputs": []
    }
   ],
   "metadata": {}
  }
 ]
}