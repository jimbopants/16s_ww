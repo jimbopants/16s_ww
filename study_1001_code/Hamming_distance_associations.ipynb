{
 "metadata": {
  "name": "",
  "signature": "sha256:55b0ffa031554bdd8d628817f95c97ed0188b0e7fad0e78cdf03c8c98d2d8c4b"
 },
 "nbformat": 3,
 "nbformat_minor": 0,
 "worksheets": [
  {
   "cells": [
    {
     "cell_type": "code",
     "collapsed": false,
     "input": [
      "# Imports\n",
      "from study_1001_networks import open_saved\n",
      "import numpy as np\n",
      "import pandas as pd\n",
      "\n",
      "(path, data, raw_data, edge_list, node_list, meta_data, connected,\n",
      "full_data, filtered_edges) = open_saved()\n",
      "\n",
      "\n"
     ],
     "language": "python",
     "metadata": {},
     "outputs": [],
     "prompt_number": 5
    },
    {
     "cell_type": "code",
     "collapsed": false,
     "input": [
      "# Load files\n",
      "f = open('/Users/jimbo/qiime/study_1001/output/dn_otu/rep_set/study_1001_seqs_rep_set.fasta', 'rb')\n",
      "sequences = f.read()\n",
      "sequences = sequences.split('\\n')\n",
      "f.close()\n",
      "\n",
      "# Extract sequence data I need\n",
      "seq_IDs = [ s.split(' ')[0][1:] for s in sequences[::2]]  # Takes just the \"denovo#\" section of the sequence names (even rows)\n",
      "seq_strings = [s for s in sequences[1::2]]\n",
      "sequences = dict(zip(seq_IDs, seq_strings))  # Dict of format{ denovo#: 'AAAAT...'}\n",
      "\n",
      "\n",
      "# Extract name data I need.\n",
      "g = open('/Users/jimbo/qiime/study_1001/output/dn_otu/uclust_assigned_taxonomy/study_1001_seqs_rep_set_tax_assignments.txt','rb')\n",
      "seq_names = g.read()\n",
      "seq_names = seq_names.split('\\n')\n",
      "g.close()\n",
      "\n"
     ],
     "language": "python",
     "metadata": {},
     "outputs": [],
     "prompt_number": 61
    },
    {
     "cell_type": "markdown",
     "metadata": {},
     "source": [
      "I need to convert the above data into arrays or dictionaries. Then I need to compute hamming/levenschtein distances for each pair of sequences. First I should a) get hamming distance working, b) eliminate sequences with no interaction or not enough data to compute interaction. "
     ]
    },
    {
     "cell_type": "code",
     "collapsed": false,
     "input": [
      "def hamming_distance(s1, s2):\n",
      "    #Return the Hamming distance between equal-length sequences\n",
      "    if len(s1) != len(s2):\n",
      "        raise ValueError(\"Undefined for sequences of unequal length\")\n",
      "    return sum(ch1 != ch2 for ch1, ch2 in zip(s1, s2))"
     ],
     "language": "python",
     "metadata": {},
     "outputs": [],
     "prompt_number": 69
    },
    {
     "cell_type": "code",
     "collapsed": false,
     "input": [
      "# split at tabs and remove any rows that do not conform to data pattern\n",
      "seq_name_split = [s.split('\\t') for s in seq_names]\n",
      "seq_name_split = [x for x in seq_name_split if len(x) >1]    \n",
      "\n",
      "# Get phyla strings and strip species section. \n",
      "phyla = [ row[1] for row in seq_name_split ]\n",
      "phyla = [string.split('; g')[0] for string in phyla ]\n",
      "\n",
      "# Create dictionary of format {denovo# : 'k__p__c__...'}\n",
      "names = [ row[0] for row in seq_name_split ]\n",
      "phyla_OTU_IDs = dict(zip(names, phyla))\n"
     ],
     "language": "python",
     "metadata": {},
     "outputs": [],
     "prompt_number": 57
    },
    {
     "cell_type": "code",
     "collapsed": false,
     "input": [
      "# Get OTU names of interest\n",
      "edge_names = edge_list['feature1'].tolist()\n",
      "edge_names2 = edge_list['feature2'].tolist()\n",
      "edge_names = edge_names + edge_names2\n",
      "names_set = set(edge_names)\n",
      "\n",
      "print len(names_set)\n",
      "\n",
      "sequences_subset = {}\n",
      "phyla_OTU_IDs_subset = {}\n",
      "values = []\n",
      "\n",
      "i=0\n",
      "missing_val = []\n",
      "\n",
      "for key,value in phyla_OTU_IDs.iteritems():\n",
      "    valuestrip = value.replace(' ', '')\n",
      "    if valuestrip in names_set:\n",
      "        if valuestrip not in values:\n",
      "            values.append(valuestrip)\n",
      "            phyla_OTU_IDs_subset[key] = valuestrip\n",
      "    elif valuestrip not in names_set:\n",
      "        if valuestrip not in missing_val:\n",
      "            missing_val.append(valuestrip)\n",
      "            #print valuestrip\n",
      "            i+=1\n",
      "        #pass\n",
      "\n",
      "#print missing_val\n",
      "#print len(missing_val)\n",
      "#print i\n",
      "print phyla_OTU_IDs_subset\n",
      "\n",
      "# There are 171 names in names_set, \n",
      "# a list of names that came from taking all unique taxa strings from both columns of \n",
      "# edge list, a list of all non-NAN rows in the original ccrepe R output. \n",
      "# There are 80 or 91 missing names in phyla_OTU_IDs_subset which was supposed to just\n",
      "\n",
      "\n",
      "            \n",
      "i=0\n",
      "for name in names_set:\n",
      "    if name not in phyla_OTU_IDs_subset.values():\n",
      "        i+\n",
      "        #print name\n",
      "        \n",
      "#print i\n",
      "#print len(phyla_OTU_IDs_subset)\n",
      "#print len(sequences_subset)\n",
      "#print phyla_OTU_IDs_subset\n"
     ],
     "language": "python",
     "metadata": {},
     "outputs": [
      {
       "output_type": "stream",
       "stream": "stdout",
       "text": [
        "171\n",
        "{'denovo62585': 'k__Bacteria;p__Proteobacteria;c__Deltaproteobacteria;o__Syntrophobacterales;f__Syntrophobacteraceae', 'denovo4723': 'k__Bacteria;p__Proteobacteria;c__Alphaproteobacteria;o__Sphingomonadales;f__Sphingomonadaceae', 'denovo12302': 'k__Bacteria;p__Chloroflexi;c__TK17;o__;f__', 'denovo16798': 'k__Bacteria;p__Proteobacteria;c__Deltaproteobacteria;o__Myxococcales;f__Haliangiaceae', 'denovo58441': 'k__Bacteria;p__Proteobacteria;c__Gammaproteobacteria;o__Oceanospirillales;f__Alcanivoracaceae', 'denovo57727': 'k__Bacteria;p__Proteobacteria;c__Gammaproteobacteria;o__Methylococcales;f__Methylococcaceae', 'denovo28366': 'k__Bacteria;p__Proteobacteria;c__Betaproteobacteria;o__Burkholderiales;f__Comamonadaceae', 'denovo62515': 'k__Bacteria;p__Proteobacteria;c__Gammaproteobacteria;o__Oceanospirillales;f__', 'denovo16905': 'k__Bacteria;p__WPS-2;c__;o__;f__', 'denovo16983': 'k__Bacteria;p__Proteobacteria;c__Betaproteobacteria;o__Burkholderiales;f__Oxalobacteraceae', 'denovo35907': 'k__Bacteria;p__Firmicutes;c__Bacilli;o__Bacillales;f__Alicyclobacillaceae', 'denovo675': 'k__Bacteria;p__Proteobacteria;c__Betaproteobacteria;o__Burkholderiales;f__', 'denovo50695': 'k__Bacteria;p__Chloroflexi;c__Anaerolineae;o__CFB-26;f__', 'denovo6448': 'k__Bacteria;p__Proteobacteria;c__Deltaproteobacteria;o__Myxococcales;f__Nannocystaceae', 'denovo27595': 'k__Bacteria;p__Acidobacteria;c__Acidobacteria-5;o__;f__', 'denovo1777': 'k__Bacteria;p__Firmicutes;c__Bacilli;o__Bacillales;f__Planococcaceae', 'denovo54533': 'k__Bacteria;p__Proteobacteria;c__Alphaproteobacteria;o__Rickettsiales;f__', 'denovo1775': 'k__Bacteria;p__Firmicutes;c__Bacilli;o__Bacillales;f__Paenibacillaceae', 'denovo49308': 'k__Bacteria;p__Proteobacteria;c__Betaproteobacteria;o__Burkholderiales;f__Burkholderiaceae', 'denovo19654': 'k__Bacteria;p__Proteobacteria;c__Alphaproteobacteria;o__Rhizobiales;f__Methylocystaceae', 'denovo4529': 'k__Bacteria;p__Firmicutes;c__Clostridia;o__Clostridiales;f__', 'denovo34481': 'k__Bacteria;p__Proteobacteria;c__Alphaproteobacteria;o__Rhizobiales;f__Rhodobiaceae', 'denovo31596': 'k__Bacteria;p__Proteobacteria;c__Gammaproteobacteria;o__Vibrionales;f__Vibrionaceae', 'denovo36733': 'k__Bacteria;p__Firmicutes;c__Bacilli;o__Bacillales;f__Thermoactinomycetaceae', 'denovo56399': 'k__Bacteria;p__Proteobacteria;c__Betaproteobacteria;o__Methylophilales;f__Methylophilaceae', 'denovo48678': 'k__Bacteria;p__Proteobacteria;c__Alphaproteobacteria;o__Rhizobiales;f__Aurantimonadaceae', 'denovo24836': 'k__Bacteria;p__Acidobacteria;c__;o__;f__', 'denovo16795': 'k__Bacteria;p__Firmicutes;c__Clostridia;o__Clostridiales;f__Ruminococcaceae', 'denovo61720': 'k__Bacteria;p__Proteobacteria;c__Alphaproteobacteria;o__Rhizobiales;f__', 'denovo36029': 'k__Bacteria;p__Proteobacteria;c__Deltaproteobacteria;o__;f__', 'denovo61583': 'k__Bacteria;p__Proteobacteria;c__Betaproteobacteria;o__;f__', 'denovo43270': 'k__Bacteria;p__Proteobacteria;c__Alphaproteobacteria;o__;f__', 'denovo22824': 'k__Bacteria;p__Proteobacteria;c__Gammaproteobacteria;o__Thiotrichales;f__', 'denovo61587': 'k__Bacteria;p__Proteobacteria;c__Betaproteobacteria;o__Burkholderiales;f__Alcaligenaceae', 'denovo12511': 'k__Bacteria;p__Proteobacteria;c__Gammaproteobacteria;o__Xanthomonadales;f__Xanthomonadaceae', 'denovo57440': 'k__Bacteria;p__Proteobacteria;c__Betaproteobacteria;o__Methylophilales;f__', 'denovo12513': 'k__Bacteria;p__Proteobacteria;c__Gammaproteobacteria;o__Legionellales;f__Legionellaceae', 'denovo42210': 'k__Bacteria;p__Proteobacteria;c__Alphaproteobacteria;o__Rhizobiales;f__Brucellaceae', 'denovo29159': 'k__Bacteria;p__Proteobacteria;c__Alphaproteobacteria;o__Caulobacterales;f__Caulobacteraceae', 'denovo35595': 'k__Bacteria;p__Proteobacteria;c__Betaproteobacteria;o__Rhodocyclales;f__Rhodocyclaceae', 'denovo12519': 'k__Bacteria;p__Proteobacteria;c__Deltaproteobacteria;o__Myxococcales;f__', 'denovo12518': 'k__Bacteria;p__Proteobacteria;c__Alphaproteobacteria;o__Rhizobiales;f__Hyphomicrobiaceae', 'denovo36739': 'k__Bacteria;p__Proteobacteria;c__Alphaproteobacteria;o__Rhodobacterales;f__Rhodobacteraceae', 'denovo41479': 'k__Bacteria;p__Proteobacteria;c__Alphaproteobacteria;o__Rhizobiales;f__Rhizobiaceae', 'denovo14797': 'k__Bacteria;p__Firmicutes;c__Clostridia;o__Clostridiales;f__Peptococcaceae', 'denovo10797': 'k__Bacteria;p__Firmicutes;c__Clostridia;o__Clostridiales;f__Symbiobacteriaceae', 'denovo41474': 'k__Bacteria;p__Firmicutes;c__Clostridia;o__Clostridiales;f__Clostridiaceae', 'denovo3850': 'k__Bacteria;p__Proteobacteria;c__Alphaproteobacteria;o__Rhodobacterales;f__Hyphomonadaceae', 'denovo53825': 'k__Bacteria;p__Proteobacteria;c__Gammaproteobacteria;o__Thiotrichales;f__Piscirickettsiaceae', 'denovo34865': 'k__Bacteria;p__Proteobacteria;c__Alphaproteobacteria;o__Rhizobiales;f__Bradyrhizobiaceae', 'denovo35426': 'k__Bacteria;p__Acidobacteria;c__Solibacteres;o__Solibacterales;f__Solibacteraceae', 'denovo26335': 'k__Bacteria;p__Proteobacteria;c__Alphaproteobacteria;o__Rickettsiales;f__Rickettsiaceae', 'denovo3508': 'k__Bacteria;p__Proteobacteria;c__Alphaproteobacteria;o__Sphingomonadales;f__', 'denovo27383': 'k__Bacteria;p__Proteobacteria;c__Deltaproteobacteria;o__MIZ46;f__', 'denovo35422': 'k__Bacteria;p__Proteobacteria;c__Alphaproteobacteria;o__Sphingomonadales;f__Erythrobacteraceae', 'denovo35420': 'k__Bacteria;p__Proteobacteria;c__Betaproteobacteria;o__Nitrosomonadales;f__Nitrosomonadaceae', 'denovo18794': 'k__Bacteria;p__Proteobacteria;c__Deltaproteobacteria;o__Myxococcales;f__Myxococcaceae', 'denovo46464': 'k__Bacteria;p__Proteobacteria;c__Alphaproteobacteria;o__Rhizobiales;f__Beijerinckiaceae', 'denovo5133': 'k__Bacteria;p__Firmicutes;c__Bacilli;o__Bacillales;f__', 'denovo46783': 'k__Bacteria;p__Proteobacteria;c__Gammaproteobacteria;o__Chromatiales;f__', 'denovo56975': 'k__Bacteria;p__Chloroflexi;c__Anaerolineae;o__Caldilineales;f__Caldilineaceae', 'denovo22400': 'k__Bacteria;p__Firmicutes;c__Bacilli;o__Bacillales;f__Staphylococcaceae', 'denovo34774': 'k__Bacteria;p__Firmicutes;c__Clostridia;o__Clostridiales;f__Lachnospiraceae', 'denovo58972': 'k__Bacteria;p__Firmicutes;c__Bacilli;o__Bacillales;f__Bacillaceae', 'denovo40105': 'k__Bacteria;p__Proteobacteria;c__Alphaproteobacteria;o__Rhodospirillales;f__Acetobacteraceae', 'denovo38253': 'k__Bacteria;p__Proteobacteria;c__Gammaproteobacteria;o__Oceanospirillales;f__Halomonadaceae', 'denovo22216': 'k__Bacteria;p__Proteobacteria;c__Gammaproteobacteria;o__Legionellales;f__Coxiellaceae', 'denovo23948': 'k__Bacteria;p__Proteobacteria;c__Deltaproteobacteria;o__Bdellovibrionales;f__Bdellovibrionaceae', 'denovo58976': 'k__Bacteria;p__Proteobacteria;c__Deltaproteobacteria;o__Myxococcales;f__Polyangiaceae', 'denovo39002': 'k__Bacteria;p__Proteobacteria;c__Deltaproteobacteria;o__Bdellovibrionales;f__Bacteriovoracaceae', 'denovo31223': 'k__Archaea;p__Crenarchaeota;c__Thaumarchaeota;o__Nitrososphaerales;f__Nitrososphaeraceae', 'denovo52461': 'k__Bacteria;p__Proteobacteria;c__Alphaproteobacteria;o__Rhizobiales;f__Phyllobacteriaceae', 'denovo56393': 'k__Bacteria;p__Planctomycetes;c__Phycisphaerae;o__Phycisphaerales;f__', 'denovo15207': 'k__Bacteria;p__Proteobacteria;c__Gammaproteobacteria;o__Pseudomonadales;f__Moraxellaceae', 'denovo23166': 'k__Bacteria;p__Proteobacteria;c__Gammaproteobacteria;o__Xanthomonadales;f__Sinobacteraceae', 'denovo36882': 'k__Bacteria;p__Proteobacteria;c__Gammaproteobacteria;o__Enterobacteriales;f__Enterobacteriaceae', 'denovo52765': 'k__Bacteria;p__Firmicutes;c__Bacilli;o__Lactobacillales;f__Carnobacteriaceae', 'denovo42218': 'k__Bacteria;p__BRC1;c__PRR-11;o__;f__', 'denovo47339': 'k__Bacteria;p__Verrucomicrobia;c__Verrucomicrobiae;o__Verrucomicrobiales;f__Verrucomicrobiaceae', 'denovo5814': 'k__Bacteria;p__Chloroflexi;c__Thermomicrobia;o__;f__'}"
       ]
      },
      {
       "output_type": "stream",
       "stream": "stdout",
       "text": [
        "\n"
       ]
      }
     ],
     "prompt_number": 155
    },
    {
     "cell_type": "code",
     "collapsed": false,
     "input": [
      "print hamming_distance(sequences[OTU_names[0]], sequences[OTU_names[1]] )"
     ],
     "language": "python",
     "metadata": {},
     "outputs": [
      {
       "output_type": "stream",
       "stream": "stdout",
       "text": [
        "16\n"
       ]
      }
     ],
     "prompt_number": 70
    },
    {
     "cell_type": "code",
     "collapsed": false,
     "input": [],
     "language": "python",
     "metadata": {},
     "outputs": []
    }
   ],
   "metadata": {}
  }
 ]
}