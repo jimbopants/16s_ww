{
 "metadata": {
  "name": "",
  "signature": "sha256:4185c7907ccb1c8ffdc55a2bc1aca5606d0a48131f30e3c4d828c34099cbff1f"
 },
 "nbformat": 3,
 "nbformat_minor": 0,
 "worksheets": [
  {
   "cells": [
    {
     "cell_type": "code",
     "collapsed": false,
     "input": [
      "# To redo my analysis with 16s sequence distance I need genus level network. \n",
      "# My goal is to import my function files and do all of my analysis with a few function calls\n",
      "# end result should be all of the plots I've made before (I could chose a new dataset just to see\n",
      "# if this affects any of my scripts at all. "
     ],
     "language": "python",
     "metadata": {},
     "outputs": []
    }
   ],
   "metadata": {}
  }
 ]
}